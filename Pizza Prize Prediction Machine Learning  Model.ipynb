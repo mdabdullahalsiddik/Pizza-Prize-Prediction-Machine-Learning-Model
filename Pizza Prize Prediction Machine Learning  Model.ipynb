{
 "cells": [
  {
   "cell_type": "code",
   "execution_count": 1,
   "id": "03b19f89",
   "metadata": {},
   "outputs": [],
   "source": [
    "#import laibary\n",
    "#unnassary output show\n",
    "import warnings\n",
    "warnings.filterwarnings(\"ignore\")\n",
    "import pandas as pd\n",
    "import matplotlib.pyplot as plt\n",
    "import seaborn as sns\n",
    "import numpy as np"
   ]
  },
  {
   "cell_type": "code",
   "execution_count": 2,
   "id": "bd910961",
   "metadata": {},
   "outputs": [],
   "source": [
    "#import dataset\n",
    "df = pd.read_csv(\"pizza_v1.csv\")"
   ]
  },
  {
   "cell_type": "code",
   "execution_count": 3,
   "id": "cefc877a",
   "metadata": {},
   "outputs": [
    {
     "data": {
      "text/html": [
       "<div>\n",
       "<style scoped>\n",
       "    .dataframe tbody tr th:only-of-type {\n",
       "        vertical-align: middle;\n",
       "    }\n",
       "\n",
       "    .dataframe tbody tr th {\n",
       "        vertical-align: top;\n",
       "    }\n",
       "\n",
       "    .dataframe thead th {\n",
       "        text-align: right;\n",
       "    }\n",
       "</style>\n",
       "<table border=\"1\" class=\"dataframe\">\n",
       "  <thead>\n",
       "    <tr style=\"text-align: right;\">\n",
       "      <th></th>\n",
       "      <th>company</th>\n",
       "      <th>price_rupiah</th>\n",
       "      <th>diameter</th>\n",
       "      <th>topping</th>\n",
       "      <th>variant</th>\n",
       "      <th>size</th>\n",
       "      <th>extra_sauce</th>\n",
       "      <th>extra_cheese</th>\n",
       "    </tr>\n",
       "  </thead>\n",
       "  <tbody>\n",
       "    <tr>\n",
       "      <th>0</th>\n",
       "      <td>A</td>\n",
       "      <td>Rp235,000</td>\n",
       "      <td>22.0</td>\n",
       "      <td>chicken</td>\n",
       "      <td>double_signature</td>\n",
       "      <td>jumbo</td>\n",
       "      <td>yes</td>\n",
       "      <td>yes</td>\n",
       "    </tr>\n",
       "    <tr>\n",
       "      <th>1</th>\n",
       "      <td>A</td>\n",
       "      <td>Rp198,000</td>\n",
       "      <td>20.0</td>\n",
       "      <td>papperoni</td>\n",
       "      <td>double_signature</td>\n",
       "      <td>jumbo</td>\n",
       "      <td>yes</td>\n",
       "      <td>yes</td>\n",
       "    </tr>\n",
       "    <tr>\n",
       "      <th>2</th>\n",
       "      <td>A</td>\n",
       "      <td>Rp120,000</td>\n",
       "      <td>16.0</td>\n",
       "      <td>mushrooms</td>\n",
       "      <td>double_signature</td>\n",
       "      <td>reguler</td>\n",
       "      <td>yes</td>\n",
       "      <td>yes</td>\n",
       "    </tr>\n",
       "    <tr>\n",
       "      <th>3</th>\n",
       "      <td>A</td>\n",
       "      <td>Rp155,000</td>\n",
       "      <td>14.0</td>\n",
       "      <td>smoked beef</td>\n",
       "      <td>double_signature</td>\n",
       "      <td>reguler</td>\n",
       "      <td>yes</td>\n",
       "      <td>no</td>\n",
       "    </tr>\n",
       "    <tr>\n",
       "      <th>4</th>\n",
       "      <td>A</td>\n",
       "      <td>Rp248,000</td>\n",
       "      <td>18.0</td>\n",
       "      <td>mozzarella</td>\n",
       "      <td>double_signature</td>\n",
       "      <td>jumbo</td>\n",
       "      <td>yes</td>\n",
       "      <td>no</td>\n",
       "    </tr>\n",
       "  </tbody>\n",
       "</table>\n",
       "</div>"
      ],
      "text/plain": [
       "  company price_rupiah  diameter      topping           variant     size  \\\n",
       "0       A    Rp235,000      22.0      chicken  double_signature    jumbo   \n",
       "1       A    Rp198,000      20.0    papperoni  double_signature    jumbo   \n",
       "2       A    Rp120,000      16.0    mushrooms  double_signature  reguler   \n",
       "3       A    Rp155,000      14.0  smoked beef  double_signature  reguler   \n",
       "4       A    Rp248,000      18.0   mozzarella  double_signature    jumbo   \n",
       "\n",
       "  extra_sauce extra_cheese  \n",
       "0         yes          yes  \n",
       "1         yes          yes  \n",
       "2         yes          yes  \n",
       "3         yes           no  \n",
       "4         yes           no  "
      ]
     },
     "execution_count": 3,
     "metadata": {},
     "output_type": "execute_result"
    }
   ],
   "source": [
    "#dataset 1st 5 row show\n",
    "df.head()"
   ]
  },
  {
   "cell_type": "code",
   "execution_count": 4,
   "id": "b360bc4d",
   "metadata": {},
   "outputs": [
    {
     "data": {
      "text/html": [
       "<div>\n",
       "<style scoped>\n",
       "    .dataframe tbody tr th:only-of-type {\n",
       "        vertical-align: middle;\n",
       "    }\n",
       "\n",
       "    .dataframe tbody tr th {\n",
       "        vertical-align: top;\n",
       "    }\n",
       "\n",
       "    .dataframe thead th {\n",
       "        text-align: right;\n",
       "    }\n",
       "</style>\n",
       "<table border=\"1\" class=\"dataframe\">\n",
       "  <thead>\n",
       "    <tr style=\"text-align: right;\">\n",
       "      <th></th>\n",
       "      <th>company</th>\n",
       "      <th>price_rupiah</th>\n",
       "      <th>diameter</th>\n",
       "      <th>topping</th>\n",
       "      <th>variant</th>\n",
       "      <th>size</th>\n",
       "      <th>extra_sauce</th>\n",
       "      <th>extra_cheese</th>\n",
       "    </tr>\n",
       "  </thead>\n",
       "  <tbody>\n",
       "    <tr>\n",
       "      <th>124</th>\n",
       "      <td>E</td>\n",
       "      <td>Rp39,000</td>\n",
       "      <td>8.5</td>\n",
       "      <td>tuna</td>\n",
       "      <td>spicy tuna</td>\n",
       "      <td>small</td>\n",
       "      <td>yes</td>\n",
       "      <td>yes</td>\n",
       "    </tr>\n",
       "    <tr>\n",
       "      <th>125</th>\n",
       "      <td>E</td>\n",
       "      <td>Rp72,000</td>\n",
       "      <td>12.0</td>\n",
       "      <td>tuna</td>\n",
       "      <td>spicy tuna</td>\n",
       "      <td>medium</td>\n",
       "      <td>yes</td>\n",
       "      <td>yes</td>\n",
       "    </tr>\n",
       "    <tr>\n",
       "      <th>126</th>\n",
       "      <td>E</td>\n",
       "      <td>Rp99,000</td>\n",
       "      <td>14.0</td>\n",
       "      <td>tuna</td>\n",
       "      <td>spicy tuna</td>\n",
       "      <td>large</td>\n",
       "      <td>yes</td>\n",
       "      <td>yes</td>\n",
       "    </tr>\n",
       "    <tr>\n",
       "      <th>127</th>\n",
       "      <td>E</td>\n",
       "      <td>Rp44,000</td>\n",
       "      <td>8.5</td>\n",
       "      <td>meat</td>\n",
       "      <td>BBQ_meat_fiesta</td>\n",
       "      <td>small</td>\n",
       "      <td>yes</td>\n",
       "      <td>no</td>\n",
       "    </tr>\n",
       "    <tr>\n",
       "      <th>128</th>\n",
       "      <td>E</td>\n",
       "      <td>Rp78,000</td>\n",
       "      <td>12.0</td>\n",
       "      <td>meat</td>\n",
       "      <td>BBQ_meat_fiesta</td>\n",
       "      <td>medium</td>\n",
       "      <td>no</td>\n",
       "      <td>no</td>\n",
       "    </tr>\n",
       "  </tbody>\n",
       "</table>\n",
       "</div>"
      ],
      "text/plain": [
       "    company price_rupiah  diameter topping          variant    size  \\\n",
       "124       E     Rp39,000       8.5    tuna       spicy tuna   small   \n",
       "125       E     Rp72,000      12.0    tuna       spicy tuna  medium   \n",
       "126       E     Rp99,000      14.0    tuna       spicy tuna   large   \n",
       "127       E     Rp44,000       8.5    meat  BBQ_meat_fiesta   small   \n",
       "128       E     Rp78,000      12.0    meat  BBQ_meat_fiesta  medium   \n",
       "\n",
       "    extra_sauce extra_cheese  \n",
       "124         yes          yes  \n",
       "125         yes          yes  \n",
       "126         yes          yes  \n",
       "127         yes           no  \n",
       "128          no           no  "
      ]
     },
     "execution_count": 4,
     "metadata": {},
     "output_type": "execute_result"
    }
   ],
   "source": [
    "#dataset last 5 row show\n",
    "df.tail()"
   ]
  },
  {
   "cell_type": "code",
   "execution_count": 5,
   "id": "71072470",
   "metadata": {},
   "outputs": [
    {
     "data": {
      "text/plain": [
       "(129, 8)"
      ]
     },
     "execution_count": 5,
     "metadata": {},
     "output_type": "execute_result"
    }
   ],
   "source": [
    "#dataset size\n",
    "df.shape"
   ]
  },
  {
   "cell_type": "code",
   "execution_count": 6,
   "id": "c13170a9",
   "metadata": {},
   "outputs": [
    {
     "name": "stdout",
     "output_type": "stream",
     "text": [
      "<class 'pandas.core.frame.DataFrame'>\n",
      "RangeIndex: 129 entries, 0 to 128\n",
      "Data columns (total 8 columns):\n",
      " #   Column        Non-Null Count  Dtype  \n",
      "---  ------        --------------  -----  \n",
      " 0   company       129 non-null    object \n",
      " 1   price_rupiah  129 non-null    object \n",
      " 2   diameter      129 non-null    float64\n",
      " 3   topping       129 non-null    object \n",
      " 4   variant       129 non-null    object \n",
      " 5   size          129 non-null    object \n",
      " 6   extra_sauce   129 non-null    object \n",
      " 7   extra_cheese  129 non-null    object \n",
      "dtypes: float64(1), object(7)\n",
      "memory usage: 8.2+ KB\n"
     ]
    }
   ],
   "source": [
    "#dataset all information\n",
    "df.info()"
   ]
  },
  {
   "cell_type": "code",
   "execution_count": 7,
   "id": "c173bb5f",
   "metadata": {},
   "outputs": [
    {
     "data": {
      "text/plain": [
       "company         0\n",
       "price_rupiah    0\n",
       "diameter        0\n",
       "topping         0\n",
       "variant         0\n",
       "size            0\n",
       "extra_sauce     0\n",
       "extra_cheese    0\n",
       "dtype: int64"
      ]
     },
     "execution_count": 7,
     "metadata": {},
     "output_type": "execute_result"
    }
   ],
   "source": [
    "#daraset null valu chark\n",
    "df.isnull().sum()"
   ]
  },
  {
   "cell_type": "code",
   "execution_count": 8,
   "id": "c6f32f89",
   "metadata": {},
   "outputs": [
    {
     "data": {
      "text/plain": [
       "Index(['company', 'price_rupiah', 'diameter', 'topping', 'variant', 'size',\n",
       "       'extra_sauce', 'extra_cheese'],\n",
       "      dtype='object')"
      ]
     },
     "execution_count": 8,
     "metadata": {},
     "output_type": "execute_result"
    }
   ],
   "source": [
    "#dataset columns name\n",
    "df.columns"
   ]
  },
  {
   "cell_type": "code",
   "execution_count": 9,
   "id": "0828bd43",
   "metadata": {},
   "outputs": [],
   "source": [
    "#price_rupiah string valu replace intger\n",
    "df['price_rupiah'] = df['price_rupiah'].str.replace(\"Rp\",\"\")\n",
    "df['price_rupiah'] = df['price_rupiah'].str.replace(\",\",\"\").astype(\"int64\")"
   ]
  },
  {
   "cell_type": "code",
   "execution_count": 10,
   "id": "99968b6f",
   "metadata": {},
   "outputs": [
    {
     "data": {
      "text/html": [
       "<div>\n",
       "<style scoped>\n",
       "    .dataframe tbody tr th:only-of-type {\n",
       "        vertical-align: middle;\n",
       "    }\n",
       "\n",
       "    .dataframe tbody tr th {\n",
       "        vertical-align: top;\n",
       "    }\n",
       "\n",
       "    .dataframe thead th {\n",
       "        text-align: right;\n",
       "    }\n",
       "</style>\n",
       "<table border=\"1\" class=\"dataframe\">\n",
       "  <thead>\n",
       "    <tr style=\"text-align: right;\">\n",
       "      <th></th>\n",
       "      <th>company</th>\n",
       "      <th>price_rupiah</th>\n",
       "      <th>diameter</th>\n",
       "      <th>topping</th>\n",
       "      <th>variant</th>\n",
       "      <th>size</th>\n",
       "      <th>extra_sauce</th>\n",
       "      <th>extra_cheese</th>\n",
       "    </tr>\n",
       "  </thead>\n",
       "  <tbody>\n",
       "    <tr>\n",
       "      <th>0</th>\n",
       "      <td>A</td>\n",
       "      <td>235000</td>\n",
       "      <td>22.0</td>\n",
       "      <td>chicken</td>\n",
       "      <td>double_signature</td>\n",
       "      <td>jumbo</td>\n",
       "      <td>yes</td>\n",
       "      <td>yes</td>\n",
       "    </tr>\n",
       "    <tr>\n",
       "      <th>1</th>\n",
       "      <td>A</td>\n",
       "      <td>198000</td>\n",
       "      <td>20.0</td>\n",
       "      <td>papperoni</td>\n",
       "      <td>double_signature</td>\n",
       "      <td>jumbo</td>\n",
       "      <td>yes</td>\n",
       "      <td>yes</td>\n",
       "    </tr>\n",
       "    <tr>\n",
       "      <th>2</th>\n",
       "      <td>A</td>\n",
       "      <td>120000</td>\n",
       "      <td>16.0</td>\n",
       "      <td>mushrooms</td>\n",
       "      <td>double_signature</td>\n",
       "      <td>reguler</td>\n",
       "      <td>yes</td>\n",
       "      <td>yes</td>\n",
       "    </tr>\n",
       "    <tr>\n",
       "      <th>3</th>\n",
       "      <td>A</td>\n",
       "      <td>155000</td>\n",
       "      <td>14.0</td>\n",
       "      <td>smoked beef</td>\n",
       "      <td>double_signature</td>\n",
       "      <td>reguler</td>\n",
       "      <td>yes</td>\n",
       "      <td>no</td>\n",
       "    </tr>\n",
       "    <tr>\n",
       "      <th>4</th>\n",
       "      <td>A</td>\n",
       "      <td>248000</td>\n",
       "      <td>18.0</td>\n",
       "      <td>mozzarella</td>\n",
       "      <td>double_signature</td>\n",
       "      <td>jumbo</td>\n",
       "      <td>yes</td>\n",
       "      <td>no</td>\n",
       "    </tr>\n",
       "  </tbody>\n",
       "</table>\n",
       "</div>"
      ],
      "text/plain": [
       "  company  price_rupiah  diameter      topping           variant     size  \\\n",
       "0       A        235000      22.0      chicken  double_signature    jumbo   \n",
       "1       A        198000      20.0    papperoni  double_signature    jumbo   \n",
       "2       A        120000      16.0    mushrooms  double_signature  reguler   \n",
       "3       A        155000      14.0  smoked beef  double_signature  reguler   \n",
       "4       A        248000      18.0   mozzarella  double_signature    jumbo   \n",
       "\n",
       "  extra_sauce extra_cheese  \n",
       "0         yes          yes  \n",
       "1         yes          yes  \n",
       "2         yes          yes  \n",
       "3         yes           no  \n",
       "4         yes           no  "
      ]
     },
     "execution_count": 10,
     "metadata": {},
     "output_type": "execute_result"
    }
   ],
   "source": [
    "#dataset 1st 5 row show\n",
    "df.head()"
   ]
  },
  {
   "cell_type": "code",
   "execution_count": 11,
   "id": "6edec35a",
   "metadata": {},
   "outputs": [],
   "source": [
    "# Rp convert Taka\n",
    "df['price_rupiah'] = df['price_rupiah']*0.0068"
   ]
  },
  {
   "cell_type": "code",
   "execution_count": 12,
   "id": "f9c4ba19",
   "metadata": {},
   "outputs": [
    {
     "data": {
      "text/plain": [
       "1598.0"
      ]
     },
     "execution_count": 12,
     "metadata": {},
     "output_type": "execute_result"
    }
   ],
   "source": [
    "# 1 Rp = 0.0068 taka\n",
    "235000*0.0068"
   ]
  },
  {
   "cell_type": "code",
   "execution_count": 13,
   "id": "d7f43b09",
   "metadata": {},
   "outputs": [
    {
     "data": {
      "text/html": [
       "<div>\n",
       "<style scoped>\n",
       "    .dataframe tbody tr th:only-of-type {\n",
       "        vertical-align: middle;\n",
       "    }\n",
       "\n",
       "    .dataframe tbody tr th {\n",
       "        vertical-align: top;\n",
       "    }\n",
       "\n",
       "    .dataframe thead th {\n",
       "        text-align: right;\n",
       "    }\n",
       "</style>\n",
       "<table border=\"1\" class=\"dataframe\">\n",
       "  <thead>\n",
       "    <tr style=\"text-align: right;\">\n",
       "      <th></th>\n",
       "      <th>company</th>\n",
       "      <th>price_rupiah</th>\n",
       "      <th>diameter</th>\n",
       "      <th>topping</th>\n",
       "      <th>variant</th>\n",
       "      <th>size</th>\n",
       "      <th>extra_sauce</th>\n",
       "      <th>extra_cheese</th>\n",
       "    </tr>\n",
       "  </thead>\n",
       "  <tbody>\n",
       "    <tr>\n",
       "      <th>0</th>\n",
       "      <td>A</td>\n",
       "      <td>1598.0</td>\n",
       "      <td>22.0</td>\n",
       "      <td>chicken</td>\n",
       "      <td>double_signature</td>\n",
       "      <td>jumbo</td>\n",
       "      <td>yes</td>\n",
       "      <td>yes</td>\n",
       "    </tr>\n",
       "    <tr>\n",
       "      <th>1</th>\n",
       "      <td>A</td>\n",
       "      <td>1346.4</td>\n",
       "      <td>20.0</td>\n",
       "      <td>papperoni</td>\n",
       "      <td>double_signature</td>\n",
       "      <td>jumbo</td>\n",
       "      <td>yes</td>\n",
       "      <td>yes</td>\n",
       "    </tr>\n",
       "    <tr>\n",
       "      <th>2</th>\n",
       "      <td>A</td>\n",
       "      <td>816.0</td>\n",
       "      <td>16.0</td>\n",
       "      <td>mushrooms</td>\n",
       "      <td>double_signature</td>\n",
       "      <td>reguler</td>\n",
       "      <td>yes</td>\n",
       "      <td>yes</td>\n",
       "    </tr>\n",
       "    <tr>\n",
       "      <th>3</th>\n",
       "      <td>A</td>\n",
       "      <td>1054.0</td>\n",
       "      <td>14.0</td>\n",
       "      <td>smoked beef</td>\n",
       "      <td>double_signature</td>\n",
       "      <td>reguler</td>\n",
       "      <td>yes</td>\n",
       "      <td>no</td>\n",
       "    </tr>\n",
       "    <tr>\n",
       "      <th>4</th>\n",
       "      <td>A</td>\n",
       "      <td>1686.4</td>\n",
       "      <td>18.0</td>\n",
       "      <td>mozzarella</td>\n",
       "      <td>double_signature</td>\n",
       "      <td>jumbo</td>\n",
       "      <td>yes</td>\n",
       "      <td>no</td>\n",
       "    </tr>\n",
       "  </tbody>\n",
       "</table>\n",
       "</div>"
      ],
      "text/plain": [
       "  company  price_rupiah  diameter      topping           variant     size  \\\n",
       "0       A        1598.0      22.0      chicken  double_signature    jumbo   \n",
       "1       A        1346.4      20.0    papperoni  double_signature    jumbo   \n",
       "2       A         816.0      16.0    mushrooms  double_signature  reguler   \n",
       "3       A        1054.0      14.0  smoked beef  double_signature  reguler   \n",
       "4       A        1686.4      18.0   mozzarella  double_signature    jumbo   \n",
       "\n",
       "  extra_sauce extra_cheese  \n",
       "0         yes          yes  \n",
       "1         yes          yes  \n",
       "2         yes          yes  \n",
       "3         yes           no  \n",
       "4         yes           no  "
      ]
     },
     "execution_count": 13,
     "metadata": {},
     "output_type": "execute_result"
    }
   ],
   "source": [
    "#dataset 1st 5 row show\n",
    "df.head()"
   ]
  },
  {
   "cell_type": "code",
   "execution_count": 14,
   "id": "a867521d",
   "metadata": {},
   "outputs": [
    {
     "data": {
      "text/plain": [
       "Index(['company', 'price_rupiah', 'diameter', 'topping', 'variant', 'size',\n",
       "       'extra_sauce', 'extra_cheese'],\n",
       "      dtype='object')"
      ]
     },
     "execution_count": 14,
     "metadata": {},
     "output_type": "execute_result"
    }
   ],
   "source": [
    "#dataset columns name\n",
    "df.columns"
   ]
  },
  {
   "cell_type": "code",
   "execution_count": 15,
   "id": "6502c66b",
   "metadata": {},
   "outputs": [
    {
     "data": {
      "text/plain": [
       "C    30\n",
       "E    30\n",
       "A    25\n",
       "B    24\n",
       "D    20\n",
       "Name: company, dtype: int64"
      ]
     },
     "execution_count": 15,
     "metadata": {},
     "output_type": "execute_result"
    }
   ],
   "source": [
    "df['company'].value_counts()"
   ]
  },
  {
   "cell_type": "code",
   "execution_count": 16,
   "id": "de629e7d",
   "metadata": {},
   "outputs": [
    {
     "data": {
      "image/png": "[encoded data removed]",
      "text/plain": [
       "<Figure size 1500x500 with 1 Axes>"
      ]
     },
     "metadata": {},
     "output_type": "display_data"
    }
   ],
   "source": [
    "plt.figure(figsize=(15,5))\n",
    "sns.countplot('company',data=df)\n",
    "plt.show()"
   ]
  },
  {
   "cell_type": "code",
   "execution_count": 17,
   "id": "08f15414",
   "metadata": {},
   "outputs": [
    {
     "data": {
      "text/plain": [
       "12.0    49\n",
       "14.0    24\n",
       "8.5     22\n",
       "17.0    10\n",
       "18.5     6\n",
       "16.0     5\n",
       "8.0      4\n",
       "16.5     4\n",
       "22.0     3\n",
       "20.0     1\n",
       "18.0     1\n",
       "Name: diameter, dtype: int64"
      ]
     },
     "execution_count": 17,
     "metadata": {},
     "output_type": "execute_result"
    }
   ],
   "source": [
    "df['diameter'].value_counts()"
   ]
  },
  {
   "cell_type": "code",
   "execution_count": 18,
   "id": "43815a75",
   "metadata": {},
   "outputs": [
    {
     "data": {
      "image/png": "[encoded data removed]",
      "text/plain": [
       "<Figure size 1500x500 with 1 Axes>"
      ]
     },
     "metadata": {},
     "output_type": "display_data"
    }
   ],
   "source": [
    "plt.figure(figsize=(15,5))\n",
    "sns.countplot('diameter',data=df)\n",
    "plt.show()"
   ]
  },
  {
   "cell_type": "code",
   "execution_count": 19,
   "id": "7fbae4c6",
   "metadata": {},
   "outputs": [
    {
     "data": {
      "text/plain": [
       "chicken         29\n",
       "mushrooms       22\n",
       "mozzarella      21\n",
       "smoked beef     19\n",
       "tuna             9\n",
       "vegetables       9\n",
       "meat             8\n",
       "black papper     3\n",
       "sausage          3\n",
       "beef             3\n",
       "papperoni        2\n",
       "onion            1\n",
       "Name: topping, dtype: int64"
      ]
     },
     "execution_count": 19,
     "metadata": {},
     "output_type": "execute_result"
    }
   ],
   "source": [
    "df['topping'].value_counts()"
   ]
  },
  {
   "cell_type": "code",
   "execution_count": 20,
   "id": "dde5a36b",
   "metadata": {},
   "outputs": [
    {
     "data": {
      "image/png": "[encoded data removed]",
      "text/plain": [
       "<Figure size 1500x500 with 1 Axes>"
      ]
     },
     "metadata": {},
     "output_type": "display_data"
    }
   ],
   "source": [
    "plt.figure(figsize=(15,5))\n",
    "sns.countplot('topping',data=df)\n",
    "plt.xticks(rotation = 75)\n",
    "plt.show()"
   ]
  },
  {
   "cell_type": "code",
   "execution_count": 21,
   "id": "b18df053",
   "metadata": {},
   "outputs": [
    {
     "data": {
      "text/plain": [
       "classic              30\n",
       "meat_lovers          10\n",
       "double_mix           10\n",
       "crunchy              10\n",
       "new_york             10\n",
       "double_decker         9\n",
       "double_signature      5\n",
       "american_favorite     5\n",
       "BBQ_meat_fiesta       5\n",
       "super_supreme         5\n",
       "spicy_tuna            3\n",
       "BBQ_sausage           3\n",
       "extravaganza          3\n",
       "meat_eater            3\n",
       "gournet_greek         3\n",
       "italian_veggie        3\n",
       "thai_veggie           3\n",
       "american_classic      3\n",
       "neptune_tuna          3\n",
       "spicy tuna            3\n",
       "Name: variant, dtype: int64"
      ]
     },
     "execution_count": 21,
     "metadata": {},
     "output_type": "execute_result"
    }
   ],
   "source": [
    "df['variant'].value_counts()"
   ]
  },
  {
   "cell_type": "code",
   "execution_count": 22,
   "id": "b9e8d023",
   "metadata": {},
   "outputs": [
    {
     "data": {
      "image/png": "[encoded data removed]",
      "text/plain": [
       "<Figure size 1500x500 with 1 Axes>"
      ]
     },
     "metadata": {},
     "output_type": "display_data"
    }
   ],
   "source": [
    "plt.figure(figsize=(15,5))\n",
    "sns.countplot('variant',data=df)\n",
    "plt.xticks(rotation = 75)\n",
    "plt.show()"
   ]
  },
  {
   "cell_type": "code",
   "execution_count": 23,
   "id": "ac02ef49",
   "metadata": {},
   "outputs": [
    {
     "data": {
      "text/plain": [
       "medium     41\n",
       "small      22\n",
       "large      21\n",
       "reguler    20\n",
       "jumbo      15\n",
       "XL         10\n",
       "Name: size, dtype: int64"
      ]
     },
     "execution_count": 23,
     "metadata": {},
     "output_type": "execute_result"
    }
   ],
   "source": [
    "df['size'].value_counts()"
   ]
  },
  {
   "cell_type": "code",
   "execution_count": 24,
   "id": "59de04ae",
   "metadata": {},
   "outputs": [
    {
     "data": {
      "image/png": "[encoded data removed]",
      "text/plain": [
       "<Figure size 1500x500 with 1 Axes>"
      ]
     },
     "metadata": {},
     "output_type": "display_data"
    }
   ],
   "source": [
    "plt.figure(figsize=(15,5))\n",
    "sns.countplot('size',data=df)\n",
    "plt.xticks(rotation = 75)\n",
    "plt.show()"
   ]
  },
  {
   "cell_type": "code",
   "execution_count": 25,
   "id": "da2e3efe",
   "metadata": {},
   "outputs": [
    {
     "data": {
      "text/plain": [
       "yes    76\n",
       "no     53\n",
       "Name: extra_sauce, dtype: int64"
      ]
     },
     "execution_count": 25,
     "metadata": {},
     "output_type": "execute_result"
    }
   ],
   "source": [
    "df['extra_sauce'].value_counts()"
   ]
  },
  {
   "cell_type": "code",
   "execution_count": 26,
   "id": "7819ec66",
   "metadata": {},
   "outputs": [
    {
     "data": {
      "image/png": "[encoded data removed]",
      "text/plain": [
       "<Figure size 500x500 with 1 Axes>"
      ]
     },
     "metadata": {},
     "output_type": "display_data"
    }
   ],
   "source": [
    "plt.figure(figsize=(5,5))\n",
    "sns.countplot('extra_sauce',data=df)\n",
    "plt.show()"
   ]
  },
  {
   "cell_type": "code",
   "execution_count": 27,
   "id": "c2318ca9",
   "metadata": {},
   "outputs": [
    {
     "data": {
      "text/plain": [
       "yes    86\n",
       "no     43\n",
       "Name: extra_cheese, dtype: int64"
      ]
     },
     "execution_count": 27,
     "metadata": {},
     "output_type": "execute_result"
    }
   ],
   "source": [
    "df['extra_cheese'].value_counts()"
   ]
  },
  {
   "cell_type": "code",
   "execution_count": 28,
   "id": "6ecfbdb4",
   "metadata": {},
   "outputs": [
    {
     "data": {
      "image/png": "[encoded data removed]",
      "text/plain": [
       "<Figure size 500x500 with 1 Axes>"
      ]
     },
     "metadata": {},
     "output_type": "display_data"
    }
   ],
   "source": [
    "plt.figure(figsize=(5,5))\n",
    "sns.countplot('extra_cheese',data=df)\n",
    "plt.show()"
   ]
  },
  {
   "cell_type": "code",
   "execution_count": null,
   "id": "92a9825c",
   "metadata": {},
   "outputs": [],
   "source": []
  },
  {
   "cell_type": "markdown",
   "id": "45222d19",
   "metadata": {},
   "source": [
    "# Encoding"
   ]
  },
  {
   "cell_type": "code",
   "execution_count": 29,
   "id": "d7bc9e0c",
   "metadata": {},
   "outputs": [],
   "source": [
    "#import LabelEncoder\n",
    "from sklearn.preprocessing import LabelEncoder"
   ]
  },
  {
   "cell_type": "code",
   "execution_count": 30,
   "id": "08e7e73e",
   "metadata": {},
   "outputs": [],
   "source": [
    "#creating LabelEncoder object\n",
    "le = LabelEncoder()"
   ]
  },
  {
   "cell_type": "code",
   "execution_count": 31,
   "id": "a4d5c8e8",
   "metadata": {},
   "outputs": [],
   "source": [
    "from pandas.core.dtypes.common import is_numeric_dtype"
   ]
  },
  {
   "cell_type": "code",
   "execution_count": 32,
   "id": "fb437f42",
   "metadata": {},
   "outputs": [],
   "source": [
    "#all dataset encoding\n",
    "for columns in df:\n",
    "    if is_numeric_dtype(df[columns]):\n",
    "        continue\n",
    "    else:\n",
    "        df[columns] = le.fit_transform(df[[columns]])"
   ]
  },
  {
   "cell_type": "code",
   "execution_count": 33,
   "id": "6e104416",
   "metadata": {},
   "outputs": [
    {
     "data": {
      "text/html": [
       "<div>\n",
       "<style scoped>\n",
       "    .dataframe tbody tr th:only-of-type {\n",
       "        vertical-align: middle;\n",
       "    }\n",
       "\n",
       "    .dataframe tbody tr th {\n",
       "        vertical-align: top;\n",
       "    }\n",
       "\n",
       "    .dataframe thead th {\n",
       "        text-align: right;\n",
       "    }\n",
       "</style>\n",
       "<table border=\"1\" class=\"dataframe\">\n",
       "  <thead>\n",
       "    <tr style=\"text-align: right;\">\n",
       "      <th></th>\n",
       "      <th>company</th>\n",
       "      <th>price_rupiah</th>\n",
       "      <th>diameter</th>\n",
       "      <th>topping</th>\n",
       "      <th>variant</th>\n",
       "      <th>size</th>\n",
       "      <th>extra_sauce</th>\n",
       "      <th>extra_cheese</th>\n",
       "    </tr>\n",
       "  </thead>\n",
       "  <tbody>\n",
       "    <tr>\n",
       "      <th>0</th>\n",
       "      <td>0</td>\n",
       "      <td>1598.0</td>\n",
       "      <td>22.0</td>\n",
       "      <td>2</td>\n",
       "      <td>8</td>\n",
       "      <td>1</td>\n",
       "      <td>1</td>\n",
       "      <td>1</td>\n",
       "    </tr>\n",
       "    <tr>\n",
       "      <th>1</th>\n",
       "      <td>0</td>\n",
       "      <td>1346.4</td>\n",
       "      <td>20.0</td>\n",
       "      <td>7</td>\n",
       "      <td>8</td>\n",
       "      <td>1</td>\n",
       "      <td>1</td>\n",
       "      <td>1</td>\n",
       "    </tr>\n",
       "    <tr>\n",
       "      <th>2</th>\n",
       "      <td>0</td>\n",
       "      <td>816.0</td>\n",
       "      <td>16.0</td>\n",
       "      <td>5</td>\n",
       "      <td>8</td>\n",
       "      <td>4</td>\n",
       "      <td>1</td>\n",
       "      <td>1</td>\n",
       "    </tr>\n",
       "    <tr>\n",
       "      <th>3</th>\n",
       "      <td>0</td>\n",
       "      <td>1054.0</td>\n",
       "      <td>14.0</td>\n",
       "      <td>9</td>\n",
       "      <td>8</td>\n",
       "      <td>4</td>\n",
       "      <td>1</td>\n",
       "      <td>0</td>\n",
       "    </tr>\n",
       "    <tr>\n",
       "      <th>4</th>\n",
       "      <td>0</td>\n",
       "      <td>1686.4</td>\n",
       "      <td>18.0</td>\n",
       "      <td>4</td>\n",
       "      <td>8</td>\n",
       "      <td>1</td>\n",
       "      <td>1</td>\n",
       "      <td>0</td>\n",
       "    </tr>\n",
       "  </tbody>\n",
       "</table>\n",
       "</div>"
      ],
      "text/plain": [
       "   company  price_rupiah  diameter  topping  variant  size  extra_sauce  \\\n",
       "0        0        1598.0      22.0        2        8     1            1   \n",
       "1        0        1346.4      20.0        7        8     1            1   \n",
       "2        0         816.0      16.0        5        8     4            1   \n",
       "3        0        1054.0      14.0        9        8     4            1   \n",
       "4        0        1686.4      18.0        4        8     1            1   \n",
       "\n",
       "   extra_cheese  \n",
       "0             1  \n",
       "1             1  \n",
       "2             1  \n",
       "3             0  \n",
       "4             0  "
      ]
     },
     "execution_count": 33,
     "metadata": {},
     "output_type": "execute_result"
    }
   ],
   "source": [
    "#dataset 1st 5 row show\n",
    "df.head()"
   ]
  },
  {
   "cell_type": "code",
   "execution_count": 34,
   "id": "496ddac4",
   "metadata": {},
   "outputs": [
    {
     "data": {
      "text/plain": [
       "2    30\n",
       "4    30\n",
       "0    25\n",
       "1    24\n",
       "3    20\n",
       "Name: company, dtype: int64"
      ]
     },
     "execution_count": 34,
     "metadata": {},
     "output_type": "execute_result"
    }
   ],
   "source": [
    "df['company'].value_counts()"
   ]
  },
  {
   "cell_type": "code",
   "execution_count": 35,
   "id": "eb6ec342",
   "metadata": {},
   "outputs": [
    {
     "data": {
      "image/png": "[encoded data removed]",
      "text/plain": [
       "<Figure size 1500x500 with 1 Axes>"
      ]
     },
     "metadata": {},
     "output_type": "display_data"
    }
   ],
   "source": [
    "plt.figure(figsize=(15,5))\n",
    "sns.countplot('company',data=df)\n",
    "plt.show()"
   ]
  },
  {
   "cell_type": "code",
   "execution_count": 36,
   "id": "cd0ec018",
   "metadata": {},
   "outputs": [
    {
     "data": {
      "text/plain": [
       "12.0    49\n",
       "14.0    24\n",
       "8.5     22\n",
       "17.0    10\n",
       "18.5     6\n",
       "16.0     5\n",
       "8.0      4\n",
       "16.5     4\n",
       "22.0     3\n",
       "20.0     1\n",
       "18.0     1\n",
       "Name: diameter, dtype: int64"
      ]
     },
     "execution_count": 36,
     "metadata": {},
     "output_type": "execute_result"
    }
   ],
   "source": [
    "df['diameter'].value_counts()"
   ]
  },
  {
   "cell_type": "code",
   "execution_count": 37,
   "id": "8d0ad4b6",
   "metadata": {},
   "outputs": [
    {
     "data": {
      "image/png": "[encoded data removed]",
      "text/plain": [
       "<Figure size 1500x500 with 1 Axes>"
      ]
     },
     "metadata": {},
     "output_type": "display_data"
    }
   ],
   "source": [
    "plt.figure(figsize=(15,5))\n",
    "sns.countplot('diameter',data=df)\n",
    "plt.show()"
   ]
  },
  {
   "cell_type": "code",
   "execution_count": 38,
   "id": "31014484",
   "metadata": {},
   "outputs": [
    {
     "data": {
      "text/plain": [
       "2     29\n",
       "5     22\n",
       "4     21\n",
       "9     19\n",
       "10     9\n",
       "11     9\n",
       "3      8\n",
       "1      3\n",
       "8      3\n",
       "0      3\n",
       "7      2\n",
       "6      1\n",
       "Name: topping, dtype: int64"
      ]
     },
     "execution_count": 38,
     "metadata": {},
     "output_type": "execute_result"
    }
   ],
   "source": [
    "df['topping'].value_counts()"
   ]
  },
  {
   "cell_type": "code",
   "execution_count": 39,
   "id": "128ea618",
   "metadata": {},
   "outputs": [
    {
     "data": {
      "image/png": "[encoded data removed]",
      "text/plain": [
       "<Figure size 1500x500 with 1 Axes>"
      ]
     },
     "metadata": {},
     "output_type": "display_data"
    }
   ],
   "source": [
    "plt.figure(figsize=(15,5))\n",
    "sns.countplot('topping',data=df)\n",
    "plt.show()"
   ]
  },
  {
   "cell_type": "code",
   "execution_count": 40,
   "id": "1d65850e",
   "metadata": {},
   "outputs": [
    {
     "data": {
      "text/plain": [
       "4     30\n",
       "13    10\n",
       "7     10\n",
       "5     10\n",
       "15    10\n",
       "6      9\n",
       "8      5\n",
       "3      5\n",
       "0      5\n",
       "18     5\n",
       "17     3\n",
       "1      3\n",
       "9      3\n",
       "12     3\n",
       "10     3\n",
       "11     3\n",
       "19     3\n",
       "2      3\n",
       "14     3\n",
       "16     3\n",
       "Name: variant, dtype: int64"
      ]
     },
     "execution_count": 40,
     "metadata": {},
     "output_type": "execute_result"
    }
   ],
   "source": [
    "df['variant'].value_counts()"
   ]
  },
  {
   "cell_type": "code",
   "execution_count": 41,
   "id": "905dd44d",
   "metadata": {},
   "outputs": [
    {
     "data": {
      "image/png": "[encoded data removed]",
      "text/plain": [
       "<Figure size 1500x500 with 1 Axes>"
      ]
     },
     "metadata": {},
     "output_type": "display_data"
    }
   ],
   "source": [
    "plt.figure(figsize=(15,5))\n",
    "sns.countplot('variant',data=df)\n",
    "plt.show()"
   ]
  },
  {
   "cell_type": "code",
   "execution_count": 42,
   "id": "7b28b7a9",
   "metadata": {},
   "outputs": [
    {
     "data": {
      "text/plain": [
       "3    41\n",
       "5    22\n",
       "2    21\n",
       "4    20\n",
       "1    15\n",
       "0    10\n",
       "Name: size, dtype: int64"
      ]
     },
     "execution_count": 42,
     "metadata": {},
     "output_type": "execute_result"
    }
   ],
   "source": [
    "df['size'].value_counts()"
   ]
  },
  {
   "cell_type": "code",
   "execution_count": 43,
   "id": "5909b4ea",
   "metadata": {},
   "outputs": [
    {
     "data": {
      "image/png": "[encoded data removed]",
      "text/plain": [
       "<Figure size 1500x500 with 1 Axes>"
      ]
     },
     "metadata": {},
     "output_type": "display_data"
    }
   ],
   "source": [
    "plt.figure(figsize=(15,5))\n",
    "sns.countplot('size',data=df)\n",
    "plt.show()"
   ]
  },
  {
   "cell_type": "code",
   "execution_count": 44,
   "id": "e699e4d9",
   "metadata": {},
   "outputs": [
    {
     "data": {
      "text/plain": [
       "1    76\n",
       "0    53\n",
       "Name: extra_sauce, dtype: int64"
      ]
     },
     "execution_count": 44,
     "metadata": {},
     "output_type": "execute_result"
    }
   ],
   "source": [
    "df['extra_sauce'].value_counts()"
   ]
  },
  {
   "cell_type": "code",
   "execution_count": 45,
   "id": "b7abd935",
   "metadata": {},
   "outputs": [
    {
     "data": {
      "image/png": "[encoded data removed]",
      "text/plain": [
       "<Figure size 500x500 with 1 Axes>"
      ]
     },
     "metadata": {},
     "output_type": "display_data"
    }
   ],
   "source": [
    "plt.figure(figsize=(5,5))\n",
    "sns.countplot('extra_sauce',data=df)\n",
    "plt.show()"
   ]
  },
  {
   "cell_type": "code",
   "execution_count": 46,
   "id": "12d7e0f2",
   "metadata": {},
   "outputs": [
    {
     "data": {
      "text/plain": [
       "1    86\n",
       "0    43\n",
       "Name: extra_cheese, dtype: int64"
      ]
     },
     "execution_count": 46,
     "metadata": {},
     "output_type": "execute_result"
    }
   ],
   "source": [
    "df['extra_cheese'].value_counts()"
   ]
  },
  {
   "cell_type": "code",
   "execution_count": 47,
   "id": "11d36d96",
   "metadata": {},
   "outputs": [
    {
     "data": {
      "image/png": "[encoded data removed]",
      "text/plain": [
       "<Figure size 500x500 with 1 Axes>"
      ]
     },
     "metadata": {},
     "output_type": "display_data"
    }
   ],
   "source": [
    "plt.figure(figsize=(5,5))\n",
    "sns.countplot('extra_cheese',data=df)\n",
    "plt.show()"
   ]
  },
  {
   "cell_type": "code",
   "execution_count": 48,
   "id": "536d72c3",
   "metadata": {},
   "outputs": [
    {
     "data": {
      "text/plain": [
       "Index(['company', 'price_rupiah', 'diameter', 'topping', 'variant', 'size',\n",
       "       'extra_sauce', 'extra_cheese'],\n",
       "      dtype='object')"
      ]
     },
     "execution_count": 48,
     "metadata": {},
     "output_type": "execute_result"
    }
   ],
   "source": [
    "#dataset columns name\n",
    "df.columns"
   ]
  },
  {
   "cell_type": "code",
   "execution_count": 49,
   "id": "6b8faa39",
   "metadata": {},
   "outputs": [
    {
     "data": {
      "image/png": "[encoded data removed]",
      "text/plain": [
       "<Figure size 1500x500 with 1 Axes>"
      ]
     },
     "metadata": {},
     "output_type": "display_data"
    }
   ],
   "source": [
    "plt.figure(figsize=(15,5))\n",
    "plt.bar(x = df.columns ,height=df.sum())\n",
    "plt.title(\"Pizza Data\",color = \"green\")\n",
    "plt.xlabel(\"Data\",color = \"green\")\n",
    "plt.ylabel(\"Count\",color = \"green\")\n",
    "plt.show()"
   ]
  },
  {
   "cell_type": "code",
   "execution_count": 50,
   "id": "cb16eb08",
   "metadata": {},
   "outputs": [],
   "source": [
    "#Feature \n",
    "x = df.drop(\"price_rupiah\",axis=1)"
   ]
  },
  {
   "cell_type": "code",
   "execution_count": 51,
   "id": "239f4175",
   "metadata": {},
   "outputs": [],
   "source": [
    "#class\n",
    "y = df[[\"price_rupiah\"]]"
   ]
  },
  {
   "cell_type": "code",
   "execution_count": 52,
   "id": "59215756",
   "metadata": {},
   "outputs": [
    {
     "data": {
      "text/html": [
       "<div>\n",
       "<style scoped>\n",
       "    .dataframe tbody tr th:only-of-type {\n",
       "        vertical-align: middle;\n",
       "    }\n",
       "\n",
       "    .dataframe tbody tr th {\n",
       "        vertical-align: top;\n",
       "    }\n",
       "\n",
       "    .dataframe thead th {\n",
       "        text-align: right;\n",
       "    }\n",
       "</style>\n",
       "<table border=\"1\" class=\"dataframe\">\n",
       "  <thead>\n",
       "    <tr style=\"text-align: right;\">\n",
       "      <th></th>\n",
       "      <th>company</th>\n",
       "      <th>diameter</th>\n",
       "      <th>topping</th>\n",
       "      <th>variant</th>\n",
       "      <th>size</th>\n",
       "      <th>extra_sauce</th>\n",
       "      <th>extra_cheese</th>\n",
       "    </tr>\n",
       "  </thead>\n",
       "  <tbody>\n",
       "    <tr>\n",
       "      <th>0</th>\n",
       "      <td>0</td>\n",
       "      <td>22.0</td>\n",
       "      <td>2</td>\n",
       "      <td>8</td>\n",
       "      <td>1</td>\n",
       "      <td>1</td>\n",
       "      <td>1</td>\n",
       "    </tr>\n",
       "    <tr>\n",
       "      <th>1</th>\n",
       "      <td>0</td>\n",
       "      <td>20.0</td>\n",
       "      <td>7</td>\n",
       "      <td>8</td>\n",
       "      <td>1</td>\n",
       "      <td>1</td>\n",
       "      <td>1</td>\n",
       "    </tr>\n",
       "    <tr>\n",
       "      <th>2</th>\n",
       "      <td>0</td>\n",
       "      <td>16.0</td>\n",
       "      <td>5</td>\n",
       "      <td>8</td>\n",
       "      <td>4</td>\n",
       "      <td>1</td>\n",
       "      <td>1</td>\n",
       "    </tr>\n",
       "    <tr>\n",
       "      <th>3</th>\n",
       "      <td>0</td>\n",
       "      <td>14.0</td>\n",
       "      <td>9</td>\n",
       "      <td>8</td>\n",
       "      <td>4</td>\n",
       "      <td>1</td>\n",
       "      <td>0</td>\n",
       "    </tr>\n",
       "    <tr>\n",
       "      <th>4</th>\n",
       "      <td>0</td>\n",
       "      <td>18.0</td>\n",
       "      <td>4</td>\n",
       "      <td>8</td>\n",
       "      <td>1</td>\n",
       "      <td>1</td>\n",
       "      <td>0</td>\n",
       "    </tr>\n",
       "  </tbody>\n",
       "</table>\n",
       "</div>"
      ],
      "text/plain": [
       "   company  diameter  topping  variant  size  extra_sauce  extra_cheese\n",
       "0        0      22.0        2        8     1            1             1\n",
       "1        0      20.0        7        8     1            1             1\n",
       "2        0      16.0        5        8     4            1             1\n",
       "3        0      14.0        9        8     4            1             0\n",
       "4        0      18.0        4        8     1            1             0"
      ]
     },
     "execution_count": 52,
     "metadata": {},
     "output_type": "execute_result"
    }
   ],
   "source": [
    "#Feature 1st 5 row show\n",
    "x.head()"
   ]
  },
  {
   "cell_type": "code",
   "execution_count": 53,
   "id": "7de43099",
   "metadata": {},
   "outputs": [
    {
     "data": {
      "text/plain": [
       "(129, 7)"
      ]
     },
     "execution_count": 53,
     "metadata": {},
     "output_type": "execute_result"
    }
   ],
   "source": [
    "#Feature size\n",
    "x.shape"
   ]
  },
  {
   "cell_type": "code",
   "execution_count": 54,
   "id": "88b70adb",
   "metadata": {},
   "outputs": [
    {
     "data": {
      "text/html": [
       "<div>\n",
       "<style scoped>\n",
       "    .dataframe tbody tr th:only-of-type {\n",
       "        vertical-align: middle;\n",
       "    }\n",
       "\n",
       "    .dataframe tbody tr th {\n",
       "        vertical-align: top;\n",
       "    }\n",
       "\n",
       "    .dataframe thead th {\n",
       "        text-align: right;\n",
       "    }\n",
       "</style>\n",
       "<table border=\"1\" class=\"dataframe\">\n",
       "  <thead>\n",
       "    <tr style=\"text-align: right;\">\n",
       "      <th></th>\n",
       "      <th>price_rupiah</th>\n",
       "    </tr>\n",
       "  </thead>\n",
       "  <tbody>\n",
       "    <tr>\n",
       "      <th>0</th>\n",
       "      <td>1598.0</td>\n",
       "    </tr>\n",
       "    <tr>\n",
       "      <th>1</th>\n",
       "      <td>1346.4</td>\n",
       "    </tr>\n",
       "    <tr>\n",
       "      <th>2</th>\n",
       "      <td>816.0</td>\n",
       "    </tr>\n",
       "    <tr>\n",
       "      <th>3</th>\n",
       "      <td>1054.0</td>\n",
       "    </tr>\n",
       "    <tr>\n",
       "      <th>4</th>\n",
       "      <td>1686.4</td>\n",
       "    </tr>\n",
       "  </tbody>\n",
       "</table>\n",
       "</div>"
      ],
      "text/plain": [
       "   price_rupiah\n",
       "0        1598.0\n",
       "1        1346.4\n",
       "2         816.0\n",
       "3        1054.0\n",
       "4        1686.4"
      ]
     },
     "execution_count": 54,
     "metadata": {},
     "output_type": "execute_result"
    }
   ],
   "source": [
    "#class 1st 5 row show\n",
    "y.head()"
   ]
  },
  {
   "cell_type": "code",
   "execution_count": 55,
   "id": "3bc57c54",
   "metadata": {},
   "outputs": [
    {
     "data": {
      "text/plain": [
       "(129, 1)"
      ]
     },
     "execution_count": 55,
     "metadata": {},
     "output_type": "execute_result"
    }
   ],
   "source": [
    "#class size\n",
    "y.shape"
   ]
  },
  {
   "cell_type": "code",
   "execution_count": 56,
   "id": "88ac1315",
   "metadata": {},
   "outputs": [
    {
     "data": {
      "image/png": "[encoded data removed]",
      "text/plain": [
       "<Figure size 1500x500 with 1 Axes>"
      ]
     },
     "metadata": {},
     "output_type": "display_data"
    }
   ],
   "source": [
    "plt.figure(figsize=(15,5))\n",
    "plt.bar(x = x.columns ,height=x.sum())\n",
    "plt.title(\"Pizza Data\",color = \"green\")\n",
    "plt.xlabel(\"Data\",color = \"green\")\n",
    "plt.ylabel(\"Count\",color = \"green\")\n",
    "plt.show()"
   ]
  },
  {
   "cell_type": "code",
   "execution_count": null,
   "id": "a5cc5d4f",
   "metadata": {},
   "outputs": [],
   "source": []
  },
  {
   "cell_type": "markdown",
   "id": "6c06d6a8",
   "metadata": {},
   "source": [
    "# Feature Importances"
   ]
  },
  {
   "cell_type": "code",
   "execution_count": 57,
   "id": "4412a8cf",
   "metadata": {},
   "outputs": [],
   "source": [
    "#import ExtraTreesRegressor\n",
    "from sklearn.ensemble import ExtraTreesRegressor"
   ]
  },
  {
   "cell_type": "code",
   "execution_count": 58,
   "id": "db820e0f",
   "metadata": {},
   "outputs": [],
   "source": [
    "#creating ExtraTreesRegressor object\n",
    "ext = ExtraTreesRegressor()"
   ]
  },
  {
   "cell_type": "code",
   "execution_count": 59,
   "id": "fe2f6603",
   "metadata": {},
   "outputs": [
    {
     "data": {
      "text/plain": [
       "ExtraTreesRegressor()"
      ]
     },
     "execution_count": 59,
     "metadata": {},
     "output_type": "execute_result"
    }
   ],
   "source": [
    "#training model\n",
    "ext.fit(x,y)"
   ]
  },
  {
   "cell_type": "code",
   "execution_count": 60,
   "id": "9c655391",
   "metadata": {},
   "outputs": [
    {
     "data": {
      "text/plain": [
       "array([0.01945367, 0.58071696, 0.04808468, 0.08248197, 0.16660773,\n",
       "       0.08021686, 0.02243814])"
      ]
     },
     "execution_count": 60,
     "metadata": {},
     "output_type": "execute_result"
    }
   ],
   "source": [
    "#Importance Feature\n",
    "ext.feature_importances_"
   ]
  },
  {
   "cell_type": "code",
   "execution_count": 61,
   "id": "3cb3e271",
   "metadata": {},
   "outputs": [],
   "source": [
    "#Importance Feature series\n",
    "top = pd.Series(ext.feature_importances_,index=x.columns)"
   ]
  },
  {
   "cell_type": "code",
   "execution_count": 62,
   "id": "4e7d3b2a",
   "metadata": {},
   "outputs": [
    {
     "data": {
      "text/plain": [
       "company         0.019454\n",
       "diameter        0.580717\n",
       "topping         0.048085\n",
       "variant         0.082482\n",
       "size            0.166608\n",
       "extra_sauce     0.080217\n",
       "extra_cheese    0.022438\n",
       "dtype: float64"
      ]
     },
     "execution_count": 62,
     "metadata": {},
     "output_type": "execute_result"
    }
   ],
   "source": [
    "#print Importance Feature series\n",
    "top"
   ]
  },
  {
   "cell_type": "code",
   "execution_count": 63,
   "id": "51bf8e74",
   "metadata": {},
   "outputs": [
    {
     "data": {
      "text/plain": [
       "diameter        0.580717\n",
       "size            0.166608\n",
       "variant         0.082482\n",
       "extra_sauce     0.080217\n",
       "topping         0.048085\n",
       "extra_cheese    0.022438\n",
       "company         0.019454\n",
       "dtype: float64"
      ]
     },
     "execution_count": 63,
     "metadata": {},
     "output_type": "execute_result"
    }
   ],
   "source": [
    "#Importance Feature Largest\n",
    "top.nlargest(7)"
   ]
  },
  {
   "cell_type": "code",
   "execution_count": 64,
   "id": "0a559f49",
   "metadata": {},
   "outputs": [
    {
     "data": {
      "image/png": "[encoded data removed]",
      "text/plain": [
       "<Figure size 1500x500 with 1 Axes>"
      ]
     },
     "metadata": {},
     "output_type": "display_data"
    }
   ],
   "source": [
    "plt.figure(figsize=(15,5))\n",
    "top.nlargest(7).plot(kind = \"bar\")\n",
    "plt.title(\"Pizza Data\",color = \"green\")\n",
    "plt.xlabel(\"Data\",color = \"green\")\n",
    "plt.ylabel(\"Count\",color = \"green\")\n",
    "plt.xticks(rotation = 360)\n",
    "plt.show()"
   ]
  },
  {
   "cell_type": "code",
   "execution_count": 65,
   "id": "5a0825d0",
   "metadata": {},
   "outputs": [
    {
     "data": {
      "image/png": "[encoded data removed]",
      "text/plain": [
       "<Figure size 1500x500 with 1 Axes>"
      ]
     },
     "metadata": {},
     "output_type": "display_data"
    }
   ],
   "source": [
    "plt.figure(figsize=(15,5))\n",
    "top.nlargest(7).plot(kind = \"barh\")\n",
    "plt.title(\"Pizza Data\",color = \"green\")\n",
    "plt.xlabel(\"Count\",color = \"green\")\n",
    "plt.ylabel(\"Data\",color = \"green\")\n",
    "plt.show()"
   ]
  },
  {
   "cell_type": "code",
   "execution_count": 66,
   "id": "c26d1970",
   "metadata": {},
   "outputs": [
    {
     "data": {
      "image/png": "[encoded data removed]",
      "text/plain": [
       "<Figure size 500x500 with 1 Axes>"
      ]
     },
     "metadata": {},
     "output_type": "display_data"
    }
   ],
   "source": [
    "plt.figure(figsize=(5,5))\n",
    "top.nlargest(7).plot(kind = \"pie\")\n",
    "plt.title(\"Pizza Data\",color = \"green\")\n",
    "plt.ylabel(\"\")\n",
    "plt.show()"
   ]
  },
  {
   "cell_type": "code",
   "execution_count": 67,
   "id": "3230ee68",
   "metadata": {},
   "outputs": [
    {
     "data": {
      "text/plain": [
       "company         0.019454\n",
       "extra_cheese    0.022438\n",
       "topping         0.048085\n",
       "extra_sauce     0.080217\n",
       "variant         0.082482\n",
       "size            0.166608\n",
       "diameter        0.580717\n",
       "dtype: float64"
      ]
     },
     "execution_count": 67,
     "metadata": {},
     "output_type": "execute_result"
    }
   ],
   "source": [
    "#Importance Feature Smallest\n",
    "top.nsmallest(7)"
   ]
  },
  {
   "cell_type": "code",
   "execution_count": 68,
   "id": "c0245403",
   "metadata": {},
   "outputs": [
    {
     "data": {
      "image/png": "[encoded data removed]",
      "text/plain": [
       "<Figure size 1500x500 with 1 Axes>"
      ]
     },
     "metadata": {},
     "output_type": "display_data"
    }
   ],
   "source": [
    "plt.figure(figsize=(15,5))\n",
    "top.nsmallest(7).plot(kind = \"bar\")\n",
    "plt.title(\"Pizza Data\",color = \"green\")\n",
    "plt.xlabel(\"Data\",color = \"green\")\n",
    "plt.ylabel(\"Count\",color = \"green\")\n",
    "plt.xticks(rotation = 360)\n",
    "plt.show()"
   ]
  },
  {
   "cell_type": "code",
   "execution_count": 69,
   "id": "0631a11a",
   "metadata": {},
   "outputs": [
    {
     "data": {
      "image/png": "[encoded data removed]",
      "text/plain": [
       "<Figure size 1500x500 with 1 Axes>"
      ]
     },
     "metadata": {},
     "output_type": "display_data"
    }
   ],
   "source": [
    "plt.figure(figsize=(15,5))\n",
    "top.nsmallest(7).plot(kind = \"barh\")\n",
    "plt.title(\"Pizza Data\",color = \"green\")\n",
    "plt.xlabel(\"Count\",color = \"green\")\n",
    "plt.ylabel(\"Data\",color = \"green\")\n",
    "plt.show()"
   ]
  },
  {
   "cell_type": "code",
   "execution_count": null,
   "id": "06dd6a86",
   "metadata": {},
   "outputs": [],
   "source": []
  },
  {
   "cell_type": "markdown",
   "id": "0a53db79",
   "metadata": {},
   "source": [
    "# Training & Testing Data"
   ]
  },
  {
   "cell_type": "code",
   "execution_count": 70,
   "id": "f8e19902",
   "metadata": {},
   "outputs": [],
   "source": [
    "#import train_test_split\n",
    "from sklearn.model_selection import train_test_split"
   ]
  },
  {
   "cell_type": "code",
   "execution_count": 71,
   "id": "ecd8eb5c",
   "metadata": {},
   "outputs": [],
   "source": [
    "# 70% data training & 30% data testing \n",
    "xtrain,xtest,ytrain,ytest = train_test_split(x,y,test_size=0.30,random_state=42)"
   ]
  },
  {
   "cell_type": "code",
   "execution_count": 72,
   "id": "4d3b873e",
   "metadata": {},
   "outputs": [
    {
     "data": {
      "text/html": [
       "<div>\n",
       "<style scoped>\n",
       "    .dataframe tbody tr th:only-of-type {\n",
       "        vertical-align: middle;\n",
       "    }\n",
       "\n",
       "    .dataframe tbody tr th {\n",
       "        vertical-align: top;\n",
       "    }\n",
       "\n",
       "    .dataframe thead th {\n",
       "        text-align: right;\n",
       "    }\n",
       "</style>\n",
       "<table border=\"1\" class=\"dataframe\">\n",
       "  <thead>\n",
       "    <tr style=\"text-align: right;\">\n",
       "      <th></th>\n",
       "      <th>company</th>\n",
       "      <th>diameter</th>\n",
       "      <th>topping</th>\n",
       "      <th>variant</th>\n",
       "      <th>size</th>\n",
       "      <th>extra_sauce</th>\n",
       "      <th>extra_cheese</th>\n",
       "    </tr>\n",
       "  </thead>\n",
       "  <tbody>\n",
       "    <tr>\n",
       "      <th>22</th>\n",
       "      <td>0</td>\n",
       "      <td>14.0</td>\n",
       "      <td>2</td>\n",
       "      <td>7</td>\n",
       "      <td>4</td>\n",
       "      <td>1</td>\n",
       "      <td>1</td>\n",
       "    </tr>\n",
       "    <tr>\n",
       "      <th>44</th>\n",
       "      <td>1</td>\n",
       "      <td>12.0</td>\n",
       "      <td>5</td>\n",
       "      <td>4</td>\n",
       "      <td>3</td>\n",
       "      <td>1</td>\n",
       "      <td>1</td>\n",
       "    </tr>\n",
       "    <tr>\n",
       "      <th>65</th>\n",
       "      <td>2</td>\n",
       "      <td>12.0</td>\n",
       "      <td>11</td>\n",
       "      <td>10</td>\n",
       "      <td>3</td>\n",
       "      <td>0</td>\n",
       "      <td>0</td>\n",
       "    </tr>\n",
       "    <tr>\n",
       "      <th>96</th>\n",
       "      <td>3</td>\n",
       "      <td>12.0</td>\n",
       "      <td>2</td>\n",
       "      <td>4</td>\n",
       "      <td>3</td>\n",
       "      <td>0</td>\n",
       "      <td>1</td>\n",
       "    </tr>\n",
       "    <tr>\n",
       "      <th>30</th>\n",
       "      <td>1</td>\n",
       "      <td>12.0</td>\n",
       "      <td>2</td>\n",
       "      <td>6</td>\n",
       "      <td>3</td>\n",
       "      <td>0</td>\n",
       "      <td>1</td>\n",
       "    </tr>\n",
       "  </tbody>\n",
       "</table>\n",
       "</div>"
      ],
      "text/plain": [
       "    company  diameter  topping  variant  size  extra_sauce  extra_cheese\n",
       "22        0      14.0        2        7     4            1             1\n",
       "44        1      12.0        5        4     3            1             1\n",
       "65        2      12.0       11       10     3            0             0\n",
       "96        3      12.0        2        4     3            0             1\n",
       "30        1      12.0        2        6     3            0             1"
      ]
     },
     "execution_count": 72,
     "metadata": {},
     "output_type": "execute_result"
    }
   ],
   "source": [
    "#training data 1st 5 row show\n",
    "xtrain.head()"
   ]
  },
  {
   "cell_type": "code",
   "execution_count": 73,
   "id": "2c2e130c",
   "metadata": {},
   "outputs": [
    {
     "data": {
      "text/plain": [
       "(90, 7)"
      ]
     },
     "execution_count": 73,
     "metadata": {},
     "output_type": "execute_result"
    }
   ],
   "source": [
    "#training data size\n",
    "xtrain.shape"
   ]
  },
  {
   "cell_type": "code",
   "execution_count": 74,
   "id": "8a752136",
   "metadata": {},
   "outputs": [
    {
     "data": {
      "text/html": [
       "<div>\n",
       "<style scoped>\n",
       "    .dataframe tbody tr th:only-of-type {\n",
       "        vertical-align: middle;\n",
       "    }\n",
       "\n",
       "    .dataframe tbody tr th {\n",
       "        vertical-align: top;\n",
       "    }\n",
       "\n",
       "    .dataframe thead th {\n",
       "        text-align: right;\n",
       "    }\n",
       "</style>\n",
       "<table border=\"1\" class=\"dataframe\">\n",
       "  <thead>\n",
       "    <tr style=\"text-align: right;\">\n",
       "      <th></th>\n",
       "      <th>price_rupiah</th>\n",
       "    </tr>\n",
       "  </thead>\n",
       "  <tbody>\n",
       "    <tr>\n",
       "      <th>22</th>\n",
       "      <td>775.2</td>\n",
       "    </tr>\n",
       "    <tr>\n",
       "      <th>44</th>\n",
       "      <td>312.8</td>\n",
       "    </tr>\n",
       "    <tr>\n",
       "      <th>65</th>\n",
       "      <td>530.4</td>\n",
       "    </tr>\n",
       "    <tr>\n",
       "      <th>96</th>\n",
       "      <td>469.2</td>\n",
       "    </tr>\n",
       "    <tr>\n",
       "      <th>30</th>\n",
       "      <td>652.8</td>\n",
       "    </tr>\n",
       "  </tbody>\n",
       "</table>\n",
       "</div>"
      ],
      "text/plain": [
       "    price_rupiah\n",
       "22         775.2\n",
       "44         312.8\n",
       "65         530.4\n",
       "96         469.2\n",
       "30         652.8"
      ]
     },
     "execution_count": 74,
     "metadata": {},
     "output_type": "execute_result"
    }
   ],
   "source": [
    "#training data 1st 5 row show\n",
    "ytrain.head()"
   ]
  },
  {
   "cell_type": "code",
   "execution_count": 75,
   "id": "742358c5",
   "metadata": {},
   "outputs": [
    {
     "data": {
      "text/plain": [
       "(90, 1)"
      ]
     },
     "execution_count": 75,
     "metadata": {},
     "output_type": "execute_result"
    }
   ],
   "source": [
    "#training data size\n",
    "ytrain.shape"
   ]
  },
  {
   "cell_type": "code",
   "execution_count": 76,
   "id": "c2b4bb58",
   "metadata": {},
   "outputs": [
    {
     "data": {
      "text/html": [
       "<div>\n",
       "<style scoped>\n",
       "    .dataframe tbody tr th:only-of-type {\n",
       "        vertical-align: middle;\n",
       "    }\n",
       "\n",
       "    .dataframe tbody tr th {\n",
       "        vertical-align: top;\n",
       "    }\n",
       "\n",
       "    .dataframe thead th {\n",
       "        text-align: right;\n",
       "    }\n",
       "</style>\n",
       "<table border=\"1\" class=\"dataframe\">\n",
       "  <thead>\n",
       "    <tr style=\"text-align: right;\">\n",
       "      <th></th>\n",
       "      <th>company</th>\n",
       "      <th>diameter</th>\n",
       "      <th>topping</th>\n",
       "      <th>variant</th>\n",
       "      <th>size</th>\n",
       "      <th>extra_sauce</th>\n",
       "      <th>extra_cheese</th>\n",
       "    </tr>\n",
       "  </thead>\n",
       "  <tbody>\n",
       "    <tr>\n",
       "      <th>55</th>\n",
       "      <td>2</td>\n",
       "      <td>8.5</td>\n",
       "      <td>8</td>\n",
       "      <td>1</td>\n",
       "      <td>5</td>\n",
       "      <td>0</td>\n",
       "      <td>1</td>\n",
       "    </tr>\n",
       "    <tr>\n",
       "      <th>40</th>\n",
       "      <td>1</td>\n",
       "      <td>12.0</td>\n",
       "      <td>2</td>\n",
       "      <td>5</td>\n",
       "      <td>3</td>\n",
       "      <td>0</td>\n",
       "      <td>0</td>\n",
       "    </tr>\n",
       "    <tr>\n",
       "      <th>19</th>\n",
       "      <td>0</td>\n",
       "      <td>12.0</td>\n",
       "      <td>4</td>\n",
       "      <td>13</td>\n",
       "      <td>4</td>\n",
       "      <td>1</td>\n",
       "      <td>1</td>\n",
       "    </tr>\n",
       "    <tr>\n",
       "      <th>31</th>\n",
       "      <td>1</td>\n",
       "      <td>8.5</td>\n",
       "      <td>5</td>\n",
       "      <td>4</td>\n",
       "      <td>5</td>\n",
       "      <td>1</td>\n",
       "      <td>1</td>\n",
       "    </tr>\n",
       "    <tr>\n",
       "      <th>114</th>\n",
       "      <td>4</td>\n",
       "      <td>14.0</td>\n",
       "      <td>2</td>\n",
       "      <td>4</td>\n",
       "      <td>2</td>\n",
       "      <td>1</td>\n",
       "      <td>1</td>\n",
       "    </tr>\n",
       "  </tbody>\n",
       "</table>\n",
       "</div>"
      ],
      "text/plain": [
       "     company  diameter  topping  variant  size  extra_sauce  extra_cheese\n",
       "55         2       8.5        8        1     5            0             1\n",
       "40         1      12.0        2        5     3            0             0\n",
       "19         0      12.0        4       13     4            1             1\n",
       "31         1       8.5        5        4     5            1             1\n",
       "114        4      14.0        2        4     2            1             1"
      ]
     },
     "execution_count": 76,
     "metadata": {},
     "output_type": "execute_result"
    }
   ],
   "source": [
    "#testing data 1st 5 row show\n",
    "xtest.head()"
   ]
  },
  {
   "cell_type": "code",
   "execution_count": 77,
   "id": "17997efc",
   "metadata": {},
   "outputs": [
    {
     "data": {
      "text/plain": [
       "(39, 7)"
      ]
     },
     "execution_count": 77,
     "metadata": {},
     "output_type": "execute_result"
    }
   ],
   "source": [
    "#testing data size\n",
    "xtest.shape"
   ]
  },
  {
   "cell_type": "code",
   "execution_count": 78,
   "id": "01869194",
   "metadata": {},
   "outputs": [
    {
     "data": {
      "text/html": [
       "<div>\n",
       "<style scoped>\n",
       "    .dataframe tbody tr th:only-of-type {\n",
       "        vertical-align: middle;\n",
       "    }\n",
       "\n",
       "    .dataframe tbody tr th {\n",
       "        vertical-align: top;\n",
       "    }\n",
       "\n",
       "    .dataframe thead th {\n",
       "        text-align: right;\n",
       "    }\n",
       "</style>\n",
       "<table border=\"1\" class=\"dataframe\">\n",
       "  <thead>\n",
       "    <tr style=\"text-align: right;\">\n",
       "      <th></th>\n",
       "      <th>price_rupiah</th>\n",
       "    </tr>\n",
       "  </thead>\n",
       "  <tbody>\n",
       "    <tr>\n",
       "      <th>55</th>\n",
       "      <td>265.2</td>\n",
       "    </tr>\n",
       "    <tr>\n",
       "      <th>40</th>\n",
       "      <td>516.8</td>\n",
       "    </tr>\n",
       "    <tr>\n",
       "      <th>19</th>\n",
       "      <td>612.0</td>\n",
       "    </tr>\n",
       "    <tr>\n",
       "      <th>31</th>\n",
       "      <td>210.8</td>\n",
       "    </tr>\n",
       "    <tr>\n",
       "      <th>114</th>\n",
       "      <td>489.6</td>\n",
       "    </tr>\n",
       "  </tbody>\n",
       "</table>\n",
       "</div>"
      ],
      "text/plain": [
       "     price_rupiah\n",
       "55          265.2\n",
       "40          516.8\n",
       "19          612.0\n",
       "31          210.8\n",
       "114         489.6"
      ]
     },
     "execution_count": 78,
     "metadata": {},
     "output_type": "execute_result"
    }
   ],
   "source": [
    "#testing data 1st 5 row show\n",
    "ytest.head()"
   ]
  },
  {
   "cell_type": "code",
   "execution_count": 79,
   "id": "0f017d66",
   "metadata": {},
   "outputs": [
    {
     "data": {
      "text/plain": [
       "(39, 1)"
      ]
     },
     "execution_count": 79,
     "metadata": {},
     "output_type": "execute_result"
    }
   ],
   "source": [
    "#testing data size\n",
    "ytest.shape"
   ]
  },
  {
   "cell_type": "code",
   "execution_count": null,
   "id": "3d29f4b5",
   "metadata": {},
   "outputs": [],
   "source": []
  },
  {
   "cell_type": "markdown",
   "id": "949e659b",
   "metadata": {},
   "source": [
    "# LinearRegression"
   ]
  },
  {
   "cell_type": "code",
   "execution_count": 80,
   "id": "3f436cde",
   "metadata": {},
   "outputs": [],
   "source": [
    "#import LinearRegression\n",
    "from sklearn.linear_model import LinearRegression"
   ]
  },
  {
   "cell_type": "code",
   "execution_count": 81,
   "id": "8e59911d",
   "metadata": {},
   "outputs": [],
   "source": [
    "#creating LinearRegression object\n",
    "lr = LinearRegression()"
   ]
  },
  {
   "cell_type": "code",
   "execution_count": 82,
   "id": "f85fd159",
   "metadata": {},
   "outputs": [
    {
     "data": {
      "text/plain": [
       "LinearRegression()"
      ]
     },
     "execution_count": 82,
     "metadata": {},
     "output_type": "execute_result"
    }
   ],
   "source": [
    "#training model\n",
    "lr.fit(xtrain,ytrain)"
   ]
  },
  {
   "cell_type": "code",
   "execution_count": 83,
   "id": "b4005f30",
   "metadata": {},
   "outputs": [
    {
     "data": {
      "text/plain": [
       "array([[ 327.11022131],\n",
       "       [ 463.5223841 ],\n",
       "       [ 604.14327915],\n",
       "       [ 330.503807  ],\n",
       "       [ 595.92795515],\n",
       "       [ 557.74501904],\n",
       "       [ 693.49325137],\n",
       "       [ 438.53478317],\n",
       "       [ 120.39747289],\n",
       "       [ 488.48721733],\n",
       "       [ 300.51991309],\n",
       "       [ 683.32873593],\n",
       "       [ 312.65809502],\n",
       "       [ 983.65627554],\n",
       "       [ 615.86960319],\n",
       "       [ 254.09073473],\n",
       "       [ 570.8886371 ],\n",
       "       [ 763.066827  ],\n",
       "       [ 719.14100002],\n",
       "       [1364.93999447],\n",
       "       [ 613.37605056],\n",
       "       [ 991.2835146 ],\n",
       "       [ 493.4141507 ],\n",
       "       [ 745.84800939],\n",
       "       [ 305.09718249],\n",
       "       [ 659.36933884],\n",
       "       [ 314.91657447],\n",
       "       [ 677.61181978],\n",
       "       [ 749.12489393],\n",
       "       [1407.69961527],\n",
       "       [ 218.92161335],\n",
       "       [ 548.68417712],\n",
       "       [ 253.72284356],\n",
       "       [1049.61307208],\n",
       "       [ 332.64633495],\n",
       "       [ 235.08103873],\n",
       "       [ 269.08268169],\n",
       "       [1024.56907489],\n",
       "       [ 547.39970108]])"
      ]
     },
     "execution_count": 83,
     "metadata": {},
     "output_type": "execute_result"
    }
   ],
   "source": [
    "#all data prediction\n",
    "lr.predict(xtest)"
   ]
  },
  {
   "cell_type": "markdown",
   "id": "3363afcb",
   "metadata": {},
   "source": [
    "# R^2 Score & MSE & MAE"
   ]
  },
  {
   "cell_type": "code",
   "execution_count": 84,
   "id": "46e6f3f7",
   "metadata": {},
   "outputs": [],
   "source": [
    "from sklearn.metrics import r2_score,mean_squared_error,mean_absolute_error"
   ]
  },
  {
   "cell_type": "code",
   "execution_count": 85,
   "id": "1351bec9",
   "metadata": {},
   "outputs": [
    {
     "data": {
      "text/plain": [
       "0.7647982447261048"
      ]
     },
     "execution_count": 85,
     "metadata": {},
     "output_type": "execute_result"
    }
   ],
   "source": [
    "lr.score(xtrain,ytrain)"
   ]
  },
  {
   "cell_type": "code",
   "execution_count": 86,
   "id": "061cbe8c",
   "metadata": {},
   "outputs": [
    {
     "data": {
      "text/plain": [
       "0.761419720436575"
      ]
     },
     "execution_count": 86,
     "metadata": {},
     "output_type": "execute_result"
    }
   ],
   "source": [
    "lr.score(xtest,ytest)"
   ]
  },
  {
   "cell_type": "code",
   "execution_count": 87,
   "id": "50a60942",
   "metadata": {},
   "outputs": [
    {
     "data": {
      "text/plain": [
       "0.761419720436575"
      ]
     },
     "execution_count": 87,
     "metadata": {},
     "output_type": "execute_result"
    }
   ],
   "source": [
    "r2_score(ytest,lr.predict(xtest))"
   ]
  },
  {
   "cell_type": "code",
   "execution_count": 88,
   "id": "abef6ef1",
   "metadata": {},
   "outputs": [
    {
     "data": {
      "text/plain": [
       "33715.814374500784"
      ]
     },
     "execution_count": 88,
     "metadata": {},
     "output_type": "execute_result"
    }
   ],
   "source": [
    "mean_squared_error(ytest,lr.predict(xtest))"
   ]
  },
  {
   "cell_type": "code",
   "execution_count": 89,
   "id": "5151ee28",
   "metadata": {},
   "outputs": [
    {
     "data": {
      "text/plain": [
       "130.9033209608296"
      ]
     },
     "execution_count": 89,
     "metadata": {},
     "output_type": "execute_result"
    }
   ],
   "source": [
    "mean_absolute_error(ytest,lr.predict(xtest))"
   ]
  },
  {
   "cell_type": "code",
   "execution_count": null,
   "id": "e9186927",
   "metadata": {},
   "outputs": [],
   "source": []
  },
  {
   "cell_type": "markdown",
   "id": "c98c4c54",
   "metadata": {},
   "source": [
    "# DecisionTreeRegressor"
   ]
  },
  {
   "cell_type": "code",
   "execution_count": 90,
   "id": "f92a9bd6",
   "metadata": {},
   "outputs": [],
   "source": [
    "#import DecisionTreeRegressor\n",
    "from sklearn.tree import DecisionTreeRegressor"
   ]
  },
  {
   "cell_type": "code",
   "execution_count": 91,
   "id": "f0d0806b",
   "metadata": {},
   "outputs": [],
   "source": [
    "#creating DecisionTreeRegressor object\n",
    "dtr = DecisionTreeRegressor()"
   ]
  },
  {
   "cell_type": "code",
   "execution_count": 92,
   "id": "098c0cc6",
   "metadata": {},
   "outputs": [
    {
     "data": {
      "text/plain": [
       "DecisionTreeRegressor()"
      ]
     },
     "execution_count": 92,
     "metadata": {},
     "output_type": "execute_result"
    }
   ],
   "source": [
    "#training model\n",
    "dtr.fit(xtrain,ytrain)"
   ]
  },
  {
   "cell_type": "code",
   "execution_count": 93,
   "id": "6d9a26a8",
   "metadata": {},
   "outputs": [
    {
     "data": {
      "text/plain": [
       "array([ 510. ,  516.8,  612. ,  159.8,  489.6,  530.4,  714. ,  652.8,\n",
       "        476. ,  312.8,  238. ,  489.6,  217.6, 1278.4,  632.4,  210.8,\n",
       "        836.4,  748. ,  564.4, 1564. ,  612. ,  952. ,  312.8,  564.4,\n",
       "        265.2,  489.6,  265.2,  673.2,  564.4, 1564. ,  476. ,  860.2,\n",
       "        299.2, 1013.2,  265.2,  210.8,  238. ,  952. ,  408. ])"
      ]
     },
     "execution_count": 93,
     "metadata": {},
     "output_type": "execute_result"
    }
   ],
   "source": [
    "#all data prediction\n",
    "dtr.predict(xtest)"
   ]
  },
  {
   "cell_type": "markdown",
   "id": "dffe49d2",
   "metadata": {},
   "source": [
    "# R^2 Score & MSE & MAE"
   ]
  },
  {
   "cell_type": "code",
   "execution_count": 94,
   "id": "0122ce4e",
   "metadata": {},
   "outputs": [
    {
     "data": {
      "text/plain": [
       "1.0"
      ]
     },
     "execution_count": 94,
     "metadata": {},
     "output_type": "execute_result"
    }
   ],
   "source": [
    "dtr.score(xtrain,ytrain)"
   ]
  },
  {
   "cell_type": "code",
   "execution_count": 95,
   "id": "141323f3",
   "metadata": {},
   "outputs": [
    {
     "data": {
      "text/plain": [
       "0.9434377403341956"
      ]
     },
     "execution_count": 95,
     "metadata": {},
     "output_type": "execute_result"
    }
   ],
   "source": [
    "dtr.score(xtest,ytest)"
   ]
  },
  {
   "cell_type": "code",
   "execution_count": 96,
   "id": "9772f79a",
   "metadata": {},
   "outputs": [
    {
     "data": {
      "text/plain": [
       "0.9434377403341956"
      ]
     },
     "execution_count": 96,
     "metadata": {},
     "output_type": "execute_result"
    }
   ],
   "source": [
    "r2_score(ytest,dtr.predict(xtest))"
   ]
  },
  {
   "cell_type": "code",
   "execution_count": 97,
   "id": "6abe3314",
   "metadata": {},
   "outputs": [
    {
     "data": {
      "text/plain": [
       "7993.295384615385"
      ]
     },
     "execution_count": 97,
     "metadata": {},
     "output_type": "execute_result"
    }
   ],
   "source": [
    "mean_squared_error(ytest,dtr.predict(xtest))"
   ]
  },
  {
   "cell_type": "code",
   "execution_count": 98,
   "id": "97f6bc9d",
   "metadata": {},
   "outputs": [
    {
     "data": {
      "text/plain": [
       "38.96923076923077"
      ]
     },
     "execution_count": 98,
     "metadata": {},
     "output_type": "execute_result"
    }
   ],
   "source": [
    "mean_absolute_error(ytest,dtr.predict(xtest))"
   ]
  },
  {
   "cell_type": "code",
   "execution_count": null,
   "id": "c2fba9b2",
   "metadata": {},
   "outputs": [],
   "source": []
  },
  {
   "cell_type": "markdown",
   "id": "ddc53809",
   "metadata": {},
   "source": [
    "# RandomForestRegressor"
   ]
  },
  {
   "cell_type": "code",
   "execution_count": 99,
   "id": "e7bb39fb",
   "metadata": {},
   "outputs": [],
   "source": [
    "#import RandomForestRegressor\n",
    "from sklearn.ensemble import RandomForestRegressor"
   ]
  },
  {
   "cell_type": "code",
   "execution_count": 100,
   "id": "6ae3e083",
   "metadata": {},
   "outputs": [],
   "source": [
    "#creating RandomForestRegressor object\n",
    "rfr = RandomForestRegressor()"
   ]
  },
  {
   "cell_type": "code",
   "execution_count": 101,
   "id": "24df5899",
   "metadata": {},
   "outputs": [
    {
     "data": {
      "text/plain": [
       "RandomForestRegressor()"
      ]
     },
     "execution_count": 101,
     "metadata": {},
     "output_type": "execute_result"
    }
   ],
   "source": [
    "#training model\n",
    "rfr.fit(xtrain,ytrain)"
   ]
  },
  {
   "cell_type": "code",
   "execution_count": 102,
   "id": "855f56f8",
   "metadata": {},
   "outputs": [
    {
     "data": {
      "text/plain": [
       "array([ 402.968,  452.948,  584.732,  238.17 ,  516.256,  453.424,\n",
       "        672.928,  666.468,  499.154,  344.488,  250.614,  597.584,\n",
       "        276.794, 1170.28 ,  620.228,  252.416,  699.924,  768.468,\n",
       "        567.528, 1377.136,  589.016, 1038.836,  357.884,  631.108,\n",
       "        359.72 ,  574.26 ,  300.22 ,  674.968,  563.652, 1394.612,\n",
       "        520.88 ,  742.73 ,  297.84 ,  983.824,  281.724,  269.892,\n",
       "        232.662, 1056.652,  460.428])"
      ]
     },
     "execution_count": 102,
     "metadata": {},
     "output_type": "execute_result"
    }
   ],
   "source": [
    "#all data prediction\n",
    "rfr.predict(xtest)"
   ]
  },
  {
   "cell_type": "markdown",
   "id": "e3fd8469",
   "metadata": {},
   "source": [
    "# R^2 Score & MSE & MAE"
   ]
  },
  {
   "cell_type": "code",
   "execution_count": 103,
   "id": "cb9d6ea4",
   "metadata": {},
   "outputs": [
    {
     "data": {
      "text/plain": [
       "0.9795264382595137"
      ]
     },
     "execution_count": 103,
     "metadata": {},
     "output_type": "execute_result"
    }
   ],
   "source": [
    "rfr.score(xtrain,ytrain)"
   ]
  },
  {
   "cell_type": "code",
   "execution_count": 104,
   "id": "fc372bff",
   "metadata": {},
   "outputs": [
    {
     "data": {
      "text/plain": [
       "0.9059393297909528"
      ]
     },
     "execution_count": 104,
     "metadata": {},
     "output_type": "execute_result"
    }
   ],
   "source": [
    "rfr.score(xtest,ytest)"
   ]
  },
  {
   "cell_type": "code",
   "execution_count": 105,
   "id": "493a76f0",
   "metadata": {},
   "outputs": [
    {
     "data": {
      "text/plain": [
       "0.9059393297909528"
      ]
     },
     "execution_count": 105,
     "metadata": {},
     "output_type": "execute_result"
    }
   ],
   "source": [
    "r2_score(ytest,rfr.predict(xtest))"
   ]
  },
  {
   "cell_type": "code",
   "execution_count": 106,
   "id": "6b68e53f",
   "metadata": {},
   "outputs": [
    {
     "data": {
      "text/plain": [
       "13292.515636717962"
      ]
     },
     "execution_count": 106,
     "metadata": {},
     "output_type": "execute_result"
    }
   ],
   "source": [
    "mean_squared_error(ytest,rfr.predict(xtest))"
   ]
  },
  {
   "cell_type": "code",
   "execution_count": 107,
   "id": "71e5770f",
   "metadata": {},
   "outputs": [
    {
     "data": {
      "text/plain": [
       "76.09025641025636"
      ]
     },
     "execution_count": 107,
     "metadata": {},
     "output_type": "execute_result"
    }
   ],
   "source": [
    "mean_absolute_error(ytest,rfr.predict(xtest))"
   ]
  },
  {
   "cell_type": "code",
   "execution_count": null,
   "id": "ae9e7cfd",
   "metadata": {},
   "outputs": [],
   "source": []
  },
  {
   "cell_type": "markdown",
   "id": "f22262a4",
   "metadata": {},
   "source": [
    "# SVM"
   ]
  },
  {
   "cell_type": "code",
   "execution_count": 108,
   "id": "398231fe",
   "metadata": {},
   "outputs": [],
   "source": [
    "#import svr\n",
    "from sklearn.svm import SVR"
   ]
  },
  {
   "cell_type": "code",
   "execution_count": 109,
   "id": "d25df31d",
   "metadata": {},
   "outputs": [],
   "source": [
    "#creating svr object\n",
    "svr = SVR()"
   ]
  },
  {
   "cell_type": "code",
   "execution_count": 110,
   "id": "e343d5eb",
   "metadata": {},
   "outputs": [
    {
     "data": {
      "text/plain": [
       "SVR()"
      ]
     },
     "execution_count": 110,
     "metadata": {},
     "output_type": "execute_result"
    }
   ],
   "source": [
    "#training model\n",
    "svr.fit(xtrain,ytrain)"
   ]
  },
  {
   "cell_type": "code",
   "execution_count": 111,
   "id": "86149b6f",
   "metadata": {},
   "outputs": [
    {
     "data": {
      "text/plain": [
       "array([546.37622752, 550.55393582, 557.83572169, 546.32208381,\n",
       "       552.00417176, 549.20843463, 558.57015252, 550.92251778,\n",
       "       553.42635691, 549.81266795, 545.94834252, 553.63998982,\n",
       "       551.53123753, 561.52342407, 552.43323879, 545.82451594,\n",
       "       552.35834967, 562.33228275, 564.44585212, 562.3384379 ,\n",
       "       557.81350645, 564.96360186, 549.47569646, 563.54383867,\n",
       "       555.03812948, 552.76175212, 556.08965589, 560.38427957,\n",
       "       564.54709941, 563.28736693, 556.07016053, 552.34269618,\n",
       "       545.20959577, 557.80917659, 552.19538352, 545.96972922,\n",
       "       545.84049615, 565.03840315, 558.00439077])"
      ]
     },
     "execution_count": 111,
     "metadata": {},
     "output_type": "execute_result"
    }
   ],
   "source": [
    "#all prediction\n",
    "svr.predict(xtest)"
   ]
  },
  {
   "cell_type": "markdown",
   "id": "dc0e31d5",
   "metadata": {},
   "source": [
    "# R^2 Score & MSE & MAE"
   ]
  },
  {
   "cell_type": "code",
   "execution_count": 112,
   "id": "1289bab6",
   "metadata": {},
   "outputs": [
    {
     "data": {
      "text/plain": [
       "-0.0005073465380749376"
      ]
     },
     "execution_count": 112,
     "metadata": {},
     "output_type": "execute_result"
    }
   ],
   "source": [
    "svr.score(xtrain,ytrain)"
   ]
  },
  {
   "cell_type": "code",
   "execution_count": 113,
   "id": "d7ef68e3",
   "metadata": {},
   "outputs": [
    {
     "data": {
      "text/plain": [
       "0.01585685562847794"
      ]
     },
     "execution_count": 113,
     "metadata": {},
     "output_type": "execute_result"
    }
   ],
   "source": [
    "svr.score(xtest,ytest)"
   ]
  },
  {
   "cell_type": "code",
   "execution_count": 114,
   "id": "6c60284f",
   "metadata": {},
   "outputs": [
    {
     "data": {
      "text/plain": [
       "0.01585685562847794"
      ]
     },
     "execution_count": 114,
     "metadata": {},
     "output_type": "execute_result"
    }
   ],
   "source": [
    "r2_score(ytest,svr.predict(xtest))"
   ]
  },
  {
   "cell_type": "code",
   "execution_count": 115,
   "id": "e0f6a324",
   "metadata": {},
   "outputs": [
    {
     "data": {
      "text/plain": [
       "139077.66238804648"
      ]
     },
     "execution_count": 115,
     "metadata": {},
     "output_type": "execute_result"
    }
   ],
   "source": [
    "mean_squared_error(ytest,svr.predict(xtest))"
   ]
  },
  {
   "cell_type": "code",
   "execution_count": 116,
   "id": "1bfc9a82",
   "metadata": {},
   "outputs": [
    {
     "data": {
      "text/plain": [
       "264.41535669486376"
      ]
     },
     "execution_count": 116,
     "metadata": {},
     "output_type": "execute_result"
    }
   ],
   "source": [
    "mean_absolute_error(ytest,svr.predict(xtest))"
   ]
  },
  {
   "cell_type": "code",
   "execution_count": null,
   "id": "5739acfa",
   "metadata": {},
   "outputs": [],
   "source": []
  },
  {
   "cell_type": "markdown",
   "id": "da466c42",
   "metadata": {},
   "source": [
    "# AdaBoostRegressor"
   ]
  },
  {
   "cell_type": "code",
   "execution_count": 117,
   "id": "b96b11b0",
   "metadata": {},
   "outputs": [],
   "source": [
    "#import AdaBoostRegressor\n",
    "from sklearn.ensemble import AdaBoostRegressor"
   ]
  },
  {
   "cell_type": "code",
   "execution_count": 118,
   "id": "853611e2",
   "metadata": {},
   "outputs": [],
   "source": [
    "#creating AdaBoostRegressor object\n",
    "abr = AdaBoostRegressor()"
   ]
  },
  {
   "cell_type": "code",
   "execution_count": 119,
   "id": "f6ac4216",
   "metadata": {},
   "outputs": [
    {
     "data": {
      "text/plain": [
       "AdaBoostRegressor()"
      ]
     },
     "execution_count": 119,
     "metadata": {},
     "output_type": "execute_result"
    }
   ],
   "source": [
    "#training model \n",
    "abr.fit(xtrain,ytrain)"
   ]
  },
  {
   "cell_type": "code",
   "execution_count": 120,
   "id": "73c1951d",
   "metadata": {},
   "outputs": [
    {
     "data": {
      "text/plain": [
       "array([ 375.13333333,  411.22105263,  529.61538462,  338.64      ,\n",
       "        623.02068966,  428.74      ,  653.28571429,  661.41333333,\n",
       "        525.80540541,  411.22105263,  338.64      ,  626.90769231,\n",
       "        338.64      , 1042.21333333,  580.26666667,  321.6       ,\n",
       "        650.76      ,  685.66666667,  673.2       , 1564.        ,\n",
       "        529.61538462,  952.        ,  415.072     ,  685.66666667,\n",
       "        405.38461538,  623.02068966,  372.6       ,  653.28571429,\n",
       "        670.752     , 1564.        ,  523.41621622,  669.12      ,\n",
       "        321.6       ,  956.85714286,  372.6       ,  338.64      ,\n",
       "        305.75714286,  952.        ,  466.93333333])"
      ]
     },
     "execution_count": 120,
     "metadata": {},
     "output_type": "execute_result"
    }
   ],
   "source": [
    "#all data prediction\n",
    "abr.predict(xtest)"
   ]
  },
  {
   "cell_type": "markdown",
   "id": "df83fb25",
   "metadata": {},
   "source": [
    "# R^2 Score & MSE & MAE"
   ]
  },
  {
   "cell_type": "code",
   "execution_count": 121,
   "id": "1a7c3304",
   "metadata": {},
   "outputs": [
    {
     "data": {
      "text/plain": [
       "0.8927753644458877"
      ]
     },
     "execution_count": 121,
     "metadata": {},
     "output_type": "execute_result"
    }
   ],
   "source": [
    "abr.score(xtrain,ytrain)"
   ]
  },
  {
   "cell_type": "code",
   "execution_count": 122,
   "id": "c00fbf0d",
   "metadata": {},
   "outputs": [
    {
     "data": {
      "text/plain": [
       "0.8510466645670958"
      ]
     },
     "execution_count": 122,
     "metadata": {},
     "output_type": "execute_result"
    }
   ],
   "source": [
    "abr.score(xtest,ytest)"
   ]
  },
  {
   "cell_type": "code",
   "execution_count": 123,
   "id": "8e76a670",
   "metadata": {},
   "outputs": [
    {
     "data": {
      "text/plain": [
       "0.8510466645670958"
      ]
     },
     "execution_count": 123,
     "metadata": {},
     "output_type": "execute_result"
    }
   ],
   "source": [
    "r2_score(ytest,abr.predict(xtest))"
   ]
  },
  {
   "cell_type": "code",
   "execution_count": 124,
   "id": "e7407bf4",
   "metadata": {},
   "outputs": [
    {
     "data": {
      "text/plain": [
       "21049.866389243893"
      ]
     },
     "execution_count": 124,
     "metadata": {},
     "output_type": "execute_result"
    }
   ],
   "source": [
    "mean_squared_error(ytest,abr.predict(xtest))"
   ]
  },
  {
   "cell_type": "code",
   "execution_count": 125,
   "id": "541d68f8",
   "metadata": {},
   "outputs": [
    {
     "data": {
      "text/plain": [
       "103.43145217004106"
      ]
     },
     "execution_count": 125,
     "metadata": {},
     "output_type": "execute_result"
    }
   ],
   "source": [
    "mean_absolute_error(ytest,abr.predict(xtest))"
   ]
  },
  {
   "cell_type": "code",
   "execution_count": null,
   "id": "df10e8e5",
   "metadata": {},
   "outputs": [],
   "source": []
  },
  {
   "cell_type": "markdown",
   "id": "b4b6aca3",
   "metadata": {},
   "source": [
    "# GradientBoostingRegressor"
   ]
  },
  {
   "cell_type": "code",
   "execution_count": 126,
   "id": "b6106797",
   "metadata": {},
   "outputs": [],
   "source": [
    "#import GradientBoostingRegressor\n",
    "from sklearn.ensemble import GradientBoostingRegressor"
   ]
  },
  {
   "cell_type": "code",
   "execution_count": 127,
   "id": "5e6bf5fa",
   "metadata": {},
   "outputs": [],
   "source": [
    "#creating GradientBoostingRegressor object\n",
    "gbr = GradientBoostingRegressor()"
   ]
  },
  {
   "cell_type": "code",
   "execution_count": 128,
   "id": "2620797c",
   "metadata": {},
   "outputs": [
    {
     "data": {
      "text/plain": [
       "GradientBoostingRegressor()"
      ]
     },
     "execution_count": 128,
     "metadata": {},
     "output_type": "execute_result"
    }
   ],
   "source": [
    "#training model\n",
    "gbr.fit(xtrain,ytrain)"
   ]
  },
  {
   "cell_type": "code",
   "execution_count": 129,
   "id": "9145169c",
   "metadata": {},
   "outputs": [
    {
     "data": {
      "text/plain": [
       "array([ 404.63573488,  425.70186654,  564.65992172,  260.99974266,\n",
       "        466.98572042,  465.46881383,  644.91587054,  673.90104234,\n",
       "        518.22581749,  310.09872024,  294.75139466,  531.11263137,\n",
       "        295.02006979, 1267.93112257,  611.22489852,  174.39301653,\n",
       "        746.51150463,  725.20923278,  585.36735873, 1517.15719201,\n",
       "        580.35389224, 1021.63719527,  403.76063472,  646.05797413,\n",
       "        321.58604587,  525.44429566,  269.89277091,  670.3909292 ,\n",
       "        603.71741678, 1534.37879962,  587.73623037,  756.1803336 ,\n",
       "        302.37634304,  953.42259443,  220.04883841,  281.99643636,\n",
       "        195.56026439,  984.53516135,  459.81519499])"
      ]
     },
     "execution_count": 129,
     "metadata": {},
     "output_type": "execute_result"
    }
   ],
   "source": [
    "#all data predicion\n",
    "gbr.predict(xtest)"
   ]
  },
  {
   "cell_type": "markdown",
   "id": "9f6fe49a",
   "metadata": {},
   "source": [
    "# R^2 Score & MSE & MAE"
   ]
  },
  {
   "cell_type": "code",
   "execution_count": 130,
   "id": "5b0a21ac",
   "metadata": {},
   "outputs": [
    {
     "data": {
      "text/plain": [
       "0.9834202328671097"
      ]
     },
     "execution_count": 130,
     "metadata": {},
     "output_type": "execute_result"
    }
   ],
   "source": [
    "gbr.score(xtrain,ytrain)"
   ]
  },
  {
   "cell_type": "code",
   "execution_count": 131,
   "id": "30bf3984",
   "metadata": {},
   "outputs": [
    {
     "data": {
      "text/plain": [
       "0.9427248411563095"
      ]
     },
     "execution_count": 131,
     "metadata": {},
     "output_type": "execute_result"
    }
   ],
   "source": [
    "gbr.score(xtest,ytest)"
   ]
  },
  {
   "cell_type": "code",
   "execution_count": 132,
   "id": "491abf77",
   "metadata": {},
   "outputs": [
    {
     "data": {
      "text/plain": [
       "0.9427248411563095"
      ]
     },
     "execution_count": 132,
     "metadata": {},
     "output_type": "execute_result"
    }
   ],
   "source": [
    "r2_score(ytest,gbr.predict(xtest))"
   ]
  },
  {
   "cell_type": "code",
   "execution_count": 133,
   "id": "b7cc4b88",
   "metadata": {},
   "outputs": [
    {
     "data": {
      "text/plain": [
       "8094.041248411536"
      ]
     },
     "execution_count": 133,
     "metadata": {},
     "output_type": "execute_result"
    }
   ],
   "source": [
    "mean_squared_error(ytest,gbr.predict(xtest))"
   ]
  },
  {
   "cell_type": "code",
   "execution_count": 134,
   "id": "b5e2c700",
   "metadata": {},
   "outputs": [
    {
     "data": {
      "text/plain": [
       "60.11891562719537"
      ]
     },
     "execution_count": 134,
     "metadata": {},
     "output_type": "execute_result"
    }
   ],
   "source": [
    "mean_absolute_error(ytest,gbr.predict(xtest))"
   ]
  },
  {
   "cell_type": "code",
   "execution_count": null,
   "id": "89748844",
   "metadata": {},
   "outputs": [],
   "source": []
  },
  {
   "cell_type": "markdown",
   "id": "a29351e5",
   "metadata": {},
   "source": [
    "# CatBoostRegressor"
   ]
  },
  {
   "cell_type": "code",
   "execution_count": 135,
   "id": "9898a5dd",
   "metadata": {},
   "outputs": [],
   "source": [
    "#import CatBoostRegressor\n",
    "from catboost import CatBoostRegressor"
   ]
  },
  {
   "cell_type": "code",
   "execution_count": 136,
   "id": "be941db0",
   "metadata": {},
   "outputs": [],
   "source": [
    "#creating CatBoostRegressor object\n",
    "cbr = CatBoostRegressor()"
   ]
  },
  {
   "cell_type": "code",
   "execution_count": 137,
   "id": "d4934b5d",
   "metadata": {},
   "outputs": [
    {
     "name": "stdout",
     "output_type": "stream",
     "text": [
      "Learning rate set to 0.027987\n",
      "0:\tlearn: 261.4423839\ttotal: 143ms\tremaining: 2m 22s\n",
      "1:\tlearn: 258.3714640\ttotal: 143ms\tremaining: 1m 11s\n",
      "2:\tlearn: 255.6678750\ttotal: 144ms\tremaining: 47.8s\n",
      "3:\tlearn: 252.5954209\ttotal: 144ms\tremaining: 35.9s\n",
      "4:\tlearn: 249.0126649\ttotal: 145ms\tremaining: 28.8s\n",
      "5:\tlearn: 246.7790322\ttotal: 145ms\tremaining: 24s\n",
      "6:\tlearn: 243.8853552\ttotal: 145ms\tremaining: 20.6s\n",
      "7:\tlearn: 241.1480600\ttotal: 146ms\tremaining: 18.1s\n",
      "8:\tlearn: 238.3033403\ttotal: 146ms\tremaining: 16.1s\n",
      "9:\tlearn: 235.3801649\ttotal: 147ms\tremaining: 14.5s\n",
      "10:\tlearn: 232.2219124\ttotal: 147ms\tremaining: 13.2s\n",
      "11:\tlearn: 230.6198048\ttotal: 147ms\tremaining: 12.1s\n",
      "12:\tlearn: 228.4456818\ttotal: 148ms\tremaining: 11.2s\n",
      "13:\tlearn: 226.8504059\ttotal: 148ms\tremaining: 10.4s\n",
      "14:\tlearn: 224.1907429\ttotal: 148ms\tremaining: 9.74s\n",
      "15:\tlearn: 221.7416543\ttotal: 149ms\tremaining: 9.14s\n",
      "16:\tlearn: 219.5571121\ttotal: 149ms\tremaining: 8.62s\n",
      "17:\tlearn: 216.7452812\ttotal: 149ms\tremaining: 8.15s\n",
      "18:\tlearn: 214.5377967\ttotal: 150ms\tremaining: 7.73s\n",
      "19:\tlearn: 211.8381796\ttotal: 150ms\tremaining: 7.36s\n",
      "20:\tlearn: 209.3022907\ttotal: 151ms\tremaining: 7.02s\n",
      "21:\tlearn: 207.4392278\ttotal: 151ms\tremaining: 6.71s\n",
      "22:\tlearn: 205.0860091\ttotal: 151ms\tremaining: 6.43s\n",
      "23:\tlearn: 202.6769241\ttotal: 152ms\tremaining: 6.17s\n",
      "24:\tlearn: 200.5194727\ttotal: 152ms\tremaining: 5.93s\n",
      "25:\tlearn: 198.7211695\ttotal: 153ms\tremaining: 5.71s\n",
      "26:\tlearn: 196.3659684\ttotal: 153ms\tremaining: 5.51s\n",
      "27:\tlearn: 194.5679142\ttotal: 154ms\tremaining: 5.33s\n",
      "28:\tlearn: 192.2872896\ttotal: 154ms\tremaining: 5.16s\n",
      "29:\tlearn: 190.4287680\ttotal: 154ms\tremaining: 4.99s\n",
      "30:\tlearn: 188.6773938\ttotal: 155ms\tremaining: 4.84s\n",
      "31:\tlearn: 186.6984087\ttotal: 155ms\tremaining: 4.7s\n",
      "32:\tlearn: 185.1366930\ttotal: 156ms\tremaining: 4.56s\n",
      "33:\tlearn: 183.3277637\ttotal: 156ms\tremaining: 4.43s\n",
      "34:\tlearn: 181.7201342\ttotal: 156ms\tremaining: 4.31s\n",
      "35:\tlearn: 180.3111600\ttotal: 157ms\tremaining: 4.2s\n",
      "36:\tlearn: 178.9157060\ttotal: 157ms\tremaining: 4.09s\n",
      "37:\tlearn: 177.2596628\ttotal: 158ms\tremaining: 3.99s\n",
      "38:\tlearn: 175.5957358\ttotal: 158ms\tremaining: 3.89s\n",
      "39:\tlearn: 173.5616605\ttotal: 158ms\tremaining: 3.8s\n",
      "40:\tlearn: 172.2648622\ttotal: 159ms\tremaining: 3.71s\n",
      "41:\tlearn: 170.8346452\ttotal: 159ms\tremaining: 3.63s\n",
      "42:\tlearn: 169.4195656\ttotal: 159ms\tremaining: 3.55s\n",
      "43:\tlearn: 168.2705125\ttotal: 160ms\tremaining: 3.47s\n",
      "44:\tlearn: 166.4385607\ttotal: 160ms\tremaining: 3.4s\n",
      "45:\tlearn: 164.6047003\ttotal: 161ms\tremaining: 3.33s\n",
      "46:\tlearn: 163.2814388\ttotal: 161ms\tremaining: 3.26s\n",
      "47:\tlearn: 161.9273340\ttotal: 161ms\tremaining: 3.2s\n",
      "48:\tlearn: 160.5718313\ttotal: 162ms\tremaining: 3.14s\n",
      "49:\tlearn: 159.0540418\ttotal: 162ms\tremaining: 3.08s\n",
      "50:\tlearn: 157.2641894\ttotal: 163ms\tremaining: 3.02s\n",
      "51:\tlearn: 156.0001959\ttotal: 163ms\tremaining: 2.97s\n",
      "52:\tlearn: 154.4031629\ttotal: 163ms\tremaining: 2.92s\n",
      "53:\tlearn: 152.8913514\ttotal: 164ms\tremaining: 2.87s\n",
      "54:\tlearn: 151.8446400\ttotal: 164ms\tremaining: 2.82s\n",
      "55:\tlearn: 150.5067873\ttotal: 165ms\tremaining: 2.77s\n",
      "56:\tlearn: 149.5179071\ttotal: 165ms\tremaining: 2.73s\n",
      "57:\tlearn: 148.4607804\ttotal: 165ms\tremaining: 2.69s\n",
      "58:\tlearn: 146.6987674\ttotal: 166ms\tremaining: 2.65s\n",
      "59:\tlearn: 145.0701141\ttotal: 166ms\tremaining: 2.6s\n",
      "60:\tlearn: 143.9418785\ttotal: 167ms\tremaining: 2.57s\n",
      "61:\tlearn: 142.9937233\ttotal: 167ms\tremaining: 2.53s\n",
      "62:\tlearn: 141.8025366\ttotal: 168ms\tremaining: 2.49s\n",
      "63:\tlearn: 140.5258906\ttotal: 168ms\tremaining: 2.46s\n",
      "64:\tlearn: 139.3361286\ttotal: 169ms\tremaining: 2.42s\n",
      "65:\tlearn: 138.3294823\ttotal: 169ms\tremaining: 2.39s\n",
      "66:\tlearn: 137.3228819\ttotal: 169ms\tremaining: 2.36s\n",
      "67:\tlearn: 136.2946120\ttotal: 170ms\tremaining: 2.32s\n",
      "68:\tlearn: 135.1905684\ttotal: 170ms\tremaining: 2.29s\n",
      "69:\tlearn: 133.8978210\ttotal: 170ms\tremaining: 2.26s\n",
      "70:\tlearn: 132.8072378\ttotal: 171ms\tremaining: 2.23s\n",
      "71:\tlearn: 131.7608019\ttotal: 171ms\tremaining: 2.21s\n",
      "72:\tlearn: 130.3808702\ttotal: 172ms\tremaining: 2.18s\n",
      "73:\tlearn: 129.8060315\ttotal: 172ms\tremaining: 2.15s\n",
      "74:\tlearn: 128.9110806\ttotal: 172ms\tremaining: 2.12s\n",
      "75:\tlearn: 127.4273189\ttotal: 173ms\tremaining: 2.1s\n",
      "76:\tlearn: 126.6508086\ttotal: 173ms\tremaining: 2.07s\n",
      "77:\tlearn: 125.8338475\ttotal: 173ms\tremaining: 2.05s\n",
      "78:\tlearn: 124.9480995\ttotal: 174ms\tremaining: 2.03s\n",
      "79:\tlearn: 123.6415858\ttotal: 174ms\tremaining: 2s\n",
      "80:\tlearn: 122.5700010\ttotal: 175ms\tremaining: 1.99s\n",
      "81:\tlearn: 121.1800676\ttotal: 175ms\tremaining: 1.96s\n",
      "82:\tlearn: 120.2530852\ttotal: 176ms\tremaining: 1.94s\n",
      "83:\tlearn: 119.3512428\ttotal: 176ms\tremaining: 1.92s\n",
      "84:\tlearn: 118.2543998\ttotal: 177ms\tremaining: 1.9s\n",
      "85:\tlearn: 117.4483363\ttotal: 177ms\tremaining: 1.88s\n",
      "86:\tlearn: 116.4275600\ttotal: 177ms\tremaining: 1.86s\n",
      "87:\tlearn: 115.8137182\ttotal: 178ms\tremaining: 1.84s\n",
      "88:\tlearn: 115.1024456\ttotal: 178ms\tremaining: 1.82s\n",
      "89:\tlearn: 114.1700665\ttotal: 178ms\tremaining: 1.8s\n",
      "90:\tlearn: 113.2974853\ttotal: 179ms\tremaining: 1.78s\n",
      "91:\tlearn: 112.2735435\ttotal: 179ms\tremaining: 1.77s\n",
      "92:\tlearn: 111.6584233\ttotal: 179ms\tremaining: 1.75s\n",
      "93:\tlearn: 111.1032968\ttotal: 180ms\tremaining: 1.73s\n",
      "94:\tlearn: 110.2140168\ttotal: 180ms\tremaining: 1.72s\n",
      "95:\tlearn: 109.3008611\ttotal: 181ms\tremaining: 1.7s\n",
      "96:\tlearn: 108.5852306\ttotal: 181ms\tremaining: 1.68s\n",
      "97:\tlearn: 107.9076515\ttotal: 181ms\tremaining: 1.67s\n",
      "98:\tlearn: 107.2529354\ttotal: 182ms\tremaining: 1.65s\n",
      "99:\tlearn: 106.5773111\ttotal: 182ms\tremaining: 1.64s\n",
      "100:\tlearn: 105.8073485\ttotal: 182ms\tremaining: 1.62s\n",
      "101:\tlearn: 105.1333498\ttotal: 183ms\tremaining: 1.61s\n",
      "102:\tlearn: 104.8190514\ttotal: 183ms\tremaining: 1.59s\n",
      "103:\tlearn: 104.1782019\ttotal: 183ms\tremaining: 1.58s\n",
      "104:\tlearn: 103.3575298\ttotal: 184ms\tremaining: 1.56s\n",
      "105:\tlearn: 102.8363556\ttotal: 184ms\tremaining: 1.55s\n",
      "106:\tlearn: 102.3884699\ttotal: 184ms\tremaining: 1.54s\n",
      "107:\tlearn: 101.5531095\ttotal: 185ms\tremaining: 1.52s\n",
      "108:\tlearn: 100.8713885\ttotal: 185ms\tremaining: 1.51s\n",
      "109:\tlearn: 100.0354481\ttotal: 185ms\tremaining: 1.5s\n",
      "110:\tlearn: 99.6200274\ttotal: 186ms\tremaining: 1.49s\n",
      "111:\tlearn: 99.0426502\ttotal: 186ms\tremaining: 1.47s\n",
      "112:\tlearn: 98.4561254\ttotal: 186ms\tremaining: 1.46s\n",
      "113:\tlearn: 98.0176252\ttotal: 187ms\tremaining: 1.45s\n",
      "114:\tlearn: 97.5806326\ttotal: 187ms\tremaining: 1.44s\n",
      "115:\tlearn: 96.8416296\ttotal: 194ms\tremaining: 1.48s\n",
      "116:\tlearn: 96.4025716\ttotal: 195ms\tremaining: 1.47s\n",
      "117:\tlearn: 95.6876127\ttotal: 195ms\tremaining: 1.46s\n",
      "118:\tlearn: 94.9968472\ttotal: 195ms\tremaining: 1.45s\n",
      "119:\tlearn: 94.6752099\ttotal: 196ms\tremaining: 1.44s\n",
      "120:\tlearn: 94.0018384\ttotal: 196ms\tremaining: 1.42s\n",
      "121:\tlearn: 93.4673190\ttotal: 197ms\tremaining: 1.41s\n",
      "122:\tlearn: 92.9355141\ttotal: 197ms\tremaining: 1.4s\n",
      "123:\tlearn: 92.3026861\ttotal: 197ms\tremaining: 1.39s\n",
      "124:\tlearn: 91.7522025\ttotal: 198ms\tremaining: 1.38s\n",
      "125:\tlearn: 91.2930307\ttotal: 198ms\tremaining: 1.37s\n",
      "126:\tlearn: 90.7418178\ttotal: 199ms\tremaining: 1.36s\n",
      "127:\tlearn: 90.0687984\ttotal: 199ms\tremaining: 1.35s\n",
      "128:\tlearn: 89.5777502\ttotal: 199ms\tremaining: 1.35s\n",
      "129:\tlearn: 89.1386875\ttotal: 200ms\tremaining: 1.34s\n",
      "130:\tlearn: 88.8947232\ttotal: 200ms\tremaining: 1.33s\n",
      "131:\tlearn: 88.3661998\ttotal: 201ms\tremaining: 1.32s\n",
      "132:\tlearn: 87.8095003\ttotal: 201ms\tremaining: 1.31s\n",
      "133:\tlearn: 87.3831988\ttotal: 202ms\tremaining: 1.3s\n",
      "134:\tlearn: 86.6914763\ttotal: 203ms\tremaining: 1.3s\n",
      "135:\tlearn: 86.1609663\ttotal: 203ms\tremaining: 1.29s\n",
      "136:\tlearn: 86.0716431\ttotal: 204ms\tremaining: 1.28s\n",
      "137:\tlearn: 85.6474229\ttotal: 204ms\tremaining: 1.27s\n",
      "138:\tlearn: 84.9139389\ttotal: 205ms\tremaining: 1.27s\n",
      "139:\tlearn: 84.3763842\ttotal: 205ms\tremaining: 1.26s\n",
      "140:\tlearn: 83.9972896\ttotal: 205ms\tremaining: 1.25s\n",
      "141:\tlearn: 83.7465928\ttotal: 206ms\tremaining: 1.24s\n",
      "142:\tlearn: 83.2100581\ttotal: 206ms\tremaining: 1.24s\n",
      "143:\tlearn: 82.6516521\ttotal: 207ms\tremaining: 1.23s\n",
      "144:\tlearn: 82.2739370\ttotal: 207ms\tremaining: 1.22s\n",
      "145:\tlearn: 81.6911896\ttotal: 208ms\tremaining: 1.21s\n",
      "146:\tlearn: 81.2837652\ttotal: 208ms\tremaining: 1.21s\n",
      "147:\tlearn: 80.9366956\ttotal: 208ms\tremaining: 1.2s\n",
      "148:\tlearn: 80.5126625\ttotal: 209ms\tremaining: 1.19s\n",
      "149:\tlearn: 80.1364725\ttotal: 209ms\tremaining: 1.19s\n",
      "150:\tlearn: 79.5569707\ttotal: 210ms\tremaining: 1.18s\n",
      "151:\tlearn: 79.2744955\ttotal: 210ms\tremaining: 1.17s\n",
      "152:\tlearn: 79.0067995\ttotal: 210ms\tremaining: 1.16s\n",
      "153:\tlearn: 78.6473332\ttotal: 210ms\tremaining: 1.16s\n",
      "154:\tlearn: 78.4279628\ttotal: 211ms\tremaining: 1.15s\n",
      "155:\tlearn: 77.7004114\ttotal: 211ms\tremaining: 1.14s\n",
      "156:\tlearn: 77.2686816\ttotal: 212ms\tremaining: 1.14s\n",
      "157:\tlearn: 76.7037701\ttotal: 212ms\tremaining: 1.13s\n",
      "158:\tlearn: 76.4045253\ttotal: 212ms\tremaining: 1.12s\n",
      "159:\tlearn: 75.9624631\ttotal: 213ms\tremaining: 1.12s\n",
      "160:\tlearn: 75.5055240\ttotal: 213ms\tremaining: 1.11s\n",
      "161:\tlearn: 75.1887603\ttotal: 214ms\tremaining: 1.1s\n",
      "162:\tlearn: 74.8735318\ttotal: 214ms\tremaining: 1.1s\n",
      "163:\tlearn: 74.4423500\ttotal: 215ms\tremaining: 1.1s\n",
      "164:\tlearn: 74.0476834\ttotal: 216ms\tremaining: 1.09s\n",
      "165:\tlearn: 73.6696672\ttotal: 216ms\tremaining: 1.09s\n",
      "166:\tlearn: 73.6044813\ttotal: 217ms\tremaining: 1.08s\n",
      "167:\tlearn: 73.0751930\ttotal: 217ms\tremaining: 1.08s\n",
      "168:\tlearn: 72.8118177\ttotal: 218ms\tremaining: 1.07s\n",
      "169:\tlearn: 72.2289683\ttotal: 219ms\tremaining: 1.07s\n",
      "170:\tlearn: 72.1699998\ttotal: 219ms\tremaining: 1.06s\n",
      "171:\tlearn: 71.8584167\ttotal: 219ms\tremaining: 1.05s\n",
      "172:\tlearn: 71.8028091\ttotal: 220ms\tremaining: 1.05s\n",
      "173:\tlearn: 71.3561059\ttotal: 220ms\tremaining: 1.04s\n",
      "174:\tlearn: 71.0585540\ttotal: 220ms\tremaining: 1.04s\n",
      "175:\tlearn: 70.6809083\ttotal: 221ms\tremaining: 1.03s\n",
      "176:\tlearn: 70.4930575\ttotal: 221ms\tremaining: 1.03s\n",
      "177:\tlearn: 70.4410072\ttotal: 222ms\tremaining: 1.02s\n",
      "178:\tlearn: 70.0087901\ttotal: 222ms\tremaining: 1.02s\n",
      "179:\tlearn: 69.6128211\ttotal: 223ms\tremaining: 1.01s\n",
      "180:\tlearn: 69.2430223\ttotal: 223ms\tremaining: 1.01s\n",
      "181:\tlearn: 68.7612199\ttotal: 224ms\tremaining: 1s\n",
      "182:\tlearn: 68.5627405\ttotal: 224ms\tremaining: 1000ms\n",
      "183:\tlearn: 68.3741886\ttotal: 224ms\tremaining: 995ms\n",
      "184:\tlearn: 68.0991246\ttotal: 225ms\tremaining: 990ms\n",
      "185:\tlearn: 67.5216059\ttotal: 225ms\tremaining: 985ms\n",
      "186:\tlearn: 67.2399962\ttotal: 225ms\tremaining: 980ms\n",
      "187:\tlearn: 66.9379284\ttotal: 226ms\tremaining: 976ms\n",
      "188:\tlearn: 66.8053603\ttotal: 226ms\tremaining: 971ms\n",
      "189:\tlearn: 66.5206598\ttotal: 227ms\tremaining: 967ms\n",
      "190:\tlearn: 66.4693796\ttotal: 227ms\tremaining: 961ms\n",
      "191:\tlearn: 66.3091843\ttotal: 234ms\tremaining: 984ms\n",
      "192:\tlearn: 65.8966918\ttotal: 234ms\tremaining: 979ms\n",
      "193:\tlearn: 65.5333095\ttotal: 235ms\tremaining: 975ms\n",
      "194:\tlearn: 65.4891234\ttotal: 235ms\tremaining: 969ms\n",
      "195:\tlearn: 65.4366590\ttotal: 235ms\tremaining: 964ms\n",
      "196:\tlearn: 65.2532906\ttotal: 235ms\tremaining: 960ms\n",
      "197:\tlearn: 64.8961994\ttotal: 236ms\tremaining: 955ms\n",
      "198:\tlearn: 64.8538177\ttotal: 236ms\tremaining: 950ms\n",
      "199:\tlearn: 64.5705985\ttotal: 236ms\tremaining: 946ms\n",
      "200:\tlearn: 64.2334088\ttotal: 237ms\tremaining: 942ms\n",
      "201:\tlearn: 64.0565945\ttotal: 237ms\tremaining: 937ms\n",
      "202:\tlearn: 63.7754196\ttotal: 238ms\tremaining: 933ms\n",
      "203:\tlearn: 63.4954769\ttotal: 238ms\tremaining: 929ms\n",
      "204:\tlearn: 63.2338659\ttotal: 238ms\tremaining: 925ms\n",
      "205:\tlearn: 62.8380436\ttotal: 239ms\tremaining: 920ms\n",
      "206:\tlearn: 62.5826731\ttotal: 239ms\tremaining: 916ms\n",
      "207:\tlearn: 62.2263283\ttotal: 240ms\tremaining: 913ms\n",
      "208:\tlearn: 61.8972569\ttotal: 240ms\tremaining: 909ms\n",
      "209:\tlearn: 61.6147306\ttotal: 241ms\tremaining: 905ms\n",
      "210:\tlearn: 61.3272962\ttotal: 241ms\tremaining: 902ms\n",
      "211:\tlearn: 60.9858355\ttotal: 242ms\tremaining: 900ms\n",
      "212:\tlearn: 60.5076120\ttotal: 243ms\tremaining: 897ms\n",
      "213:\tlearn: 60.4709289\ttotal: 243ms\tremaining: 893ms\n",
      "214:\tlearn: 60.2111755\ttotal: 243ms\tremaining: 889ms\n",
      "215:\tlearn: 59.9193142\ttotal: 244ms\tremaining: 885ms\n",
      "216:\tlearn: 59.6992956\ttotal: 244ms\tremaining: 882ms\n",
      "217:\tlearn: 59.3744866\ttotal: 245ms\tremaining: 878ms\n",
      "218:\tlearn: 59.0070226\ttotal: 245ms\tremaining: 874ms\n",
      "219:\tlearn: 58.8040718\ttotal: 246ms\tremaining: 871ms\n",
      "220:\tlearn: 58.3705271\ttotal: 246ms\tremaining: 867ms\n",
      "221:\tlearn: 57.9948959\ttotal: 246ms\tremaining: 864ms\n",
      "222:\tlearn: 57.6907055\ttotal: 247ms\tremaining: 860ms\n",
      "223:\tlearn: 57.5116470\ttotal: 247ms\tremaining: 856ms\n",
      "224:\tlearn: 57.2389490\ttotal: 248ms\tremaining: 853ms\n",
      "225:\tlearn: 57.1100588\ttotal: 248ms\tremaining: 849ms\n",
      "226:\tlearn: 56.8915211\ttotal: 248ms\tremaining: 845ms\n",
      "227:\tlearn: 56.6030647\ttotal: 249ms\tremaining: 842ms\n",
      "228:\tlearn: 56.3396552\ttotal: 249ms\tremaining: 838ms\n",
      "229:\tlearn: 56.0550229\ttotal: 249ms\tremaining: 835ms\n",
      "230:\tlearn: 55.9042474\ttotal: 250ms\tremaining: 832ms\n",
      "231:\tlearn: 55.6176833\ttotal: 250ms\tremaining: 828ms\n",
      "232:\tlearn: 55.3744109\ttotal: 251ms\tremaining: 825ms\n",
      "233:\tlearn: 55.1611500\ttotal: 251ms\tremaining: 821ms\n",
      "234:\tlearn: 54.8747190\ttotal: 252ms\tremaining: 819ms\n",
      "235:\tlearn: 54.7005870\ttotal: 252ms\tremaining: 816ms\n",
      "236:\tlearn: 54.4039902\ttotal: 253ms\tremaining: 813ms\n",
      "237:\tlearn: 54.2027621\ttotal: 253ms\tremaining: 810ms\n",
      "238:\tlearn: 54.0181801\ttotal: 253ms\tremaining: 807ms\n",
      "239:\tlearn: 53.8040730\ttotal: 254ms\tremaining: 804ms\n",
      "240:\tlearn: 53.6314854\ttotal: 254ms\tremaining: 800ms\n",
      "241:\tlearn: 53.3651405\ttotal: 255ms\tremaining: 797ms\n",
      "242:\tlearn: 53.3349974\ttotal: 256ms\tremaining: 798ms\n",
      "243:\tlearn: 53.1931927\ttotal: 257ms\tremaining: 795ms\n",
      "244:\tlearn: 53.0723372\ttotal: 257ms\tremaining: 793ms\n",
      "245:\tlearn: 52.8317714\ttotal: 258ms\tremaining: 790ms\n",
      "246:\tlearn: 52.5418956\ttotal: 258ms\tremaining: 787ms\n",
      "247:\tlearn: 52.5140827\ttotal: 258ms\tremaining: 783ms\n",
      "248:\tlearn: 52.4072042\ttotal: 259ms\tremaining: 780ms\n",
      "249:\tlearn: 52.1656298\ttotal: 259ms\tremaining: 778ms\n",
      "250:\tlearn: 51.8809262\ttotal: 260ms\tremaining: 775ms\n",
      "251:\tlearn: 51.7995634\ttotal: 260ms\tremaining: 773ms\n",
      "252:\tlearn: 51.6453580\ttotal: 261ms\tremaining: 770ms\n",
      "253:\tlearn: 51.4164278\ttotal: 261ms\tremaining: 768ms\n",
      "254:\tlearn: 51.2566528\ttotal: 262ms\tremaining: 765ms\n",
      "255:\tlearn: 51.2311835\ttotal: 262ms\tremaining: 761ms\n",
      "256:\tlearn: 51.0431688\ttotal: 262ms\tremaining: 759ms\n",
      "257:\tlearn: 50.9321665\ttotal: 263ms\tremaining: 757ms\n",
      "258:\tlearn: 50.7466096\ttotal: 264ms\tremaining: 754ms\n",
      "259:\tlearn: 50.5812968\ttotal: 264ms\tremaining: 752ms\n",
      "260:\tlearn: 50.4672114\ttotal: 265ms\tremaining: 749ms\n",
      "261:\tlearn: 50.3112557\ttotal: 265ms\tremaining: 747ms\n",
      "262:\tlearn: 50.2863549\ttotal: 266ms\tremaining: 744ms\n",
      "263:\tlearn: 50.1463156\ttotal: 266ms\tremaining: 742ms\n",
      "264:\tlearn: 49.9584405\ttotal: 266ms\tremaining: 739ms\n",
      "265:\tlearn: 49.8769966\ttotal: 267ms\tremaining: 736ms\n",
      "266:\tlearn: 49.6218682\ttotal: 267ms\tremaining: 733ms\n",
      "267:\tlearn: 49.4903698\ttotal: 268ms\tremaining: 732ms\n",
      "268:\tlearn: 49.3658567\ttotal: 268ms\tremaining: 730ms\n",
      "269:\tlearn: 49.2024906\ttotal: 269ms\tremaining: 727ms\n",
      "270:\tlearn: 49.0082026\ttotal: 269ms\tremaining: 724ms\n",
      "271:\tlearn: 48.9487391\ttotal: 270ms\tremaining: 722ms\n",
      "272:\tlearn: 48.8384612\ttotal: 270ms\tremaining: 719ms\n",
      "273:\tlearn: 48.6491689\ttotal: 270ms\tremaining: 717ms\n",
      "274:\tlearn: 48.5408778\ttotal: 271ms\tremaining: 714ms\n",
      "275:\tlearn: 48.4291721\ttotal: 271ms\tremaining: 712ms\n",
      "276:\tlearn: 48.3402873\ttotal: 272ms\tremaining: 709ms\n",
      "277:\tlearn: 48.2348766\ttotal: 272ms\tremaining: 707ms\n",
      "278:\tlearn: 48.0850080\ttotal: 272ms\tremaining: 704ms\n",
      "279:\tlearn: 47.9145050\ttotal: 273ms\tremaining: 702ms\n",
      "280:\tlearn: 47.8058875\ttotal: 273ms\tremaining: 699ms\n",
      "281:\tlearn: 47.6454561\ttotal: 274ms\tremaining: 697ms\n",
      "282:\tlearn: 47.5858357\ttotal: 274ms\tremaining: 694ms\n",
      "283:\tlearn: 47.5054174\ttotal: 274ms\tremaining: 691ms\n",
      "284:\tlearn: 47.3333598\ttotal: 275ms\tremaining: 689ms\n",
      "285:\tlearn: 47.2347290\ttotal: 275ms\tremaining: 687ms\n",
      "286:\tlearn: 47.1113237\ttotal: 276ms\tremaining: 685ms\n",
      "287:\tlearn: 46.8879437\ttotal: 276ms\tremaining: 683ms\n",
      "288:\tlearn: 46.6630708\ttotal: 277ms\tremaining: 681ms\n",
      "289:\tlearn: 46.6264539\ttotal: 277ms\tremaining: 678ms\n",
      "290:\tlearn: 46.5492429\ttotal: 278ms\tremaining: 676ms\n",
      "291:\tlearn: 46.4569910\ttotal: 278ms\tremaining: 674ms\n",
      "292:\tlearn: 46.2866278\ttotal: 278ms\tremaining: 672ms\n",
      "293:\tlearn: 46.2359534\ttotal: 279ms\tremaining: 670ms\n",
      "294:\tlearn: 46.1482498\ttotal: 279ms\tremaining: 667ms\n",
      "295:\tlearn: 46.0914237\ttotal: 280ms\tremaining: 665ms\n",
      "296:\tlearn: 45.9505003\ttotal: 280ms\tremaining: 663ms\n",
      "297:\tlearn: 45.8024630\ttotal: 281ms\tremaining: 661ms\n",
      "298:\tlearn: 45.7147489\ttotal: 281ms\tremaining: 660ms\n",
      "299:\tlearn: 45.5498711\ttotal: 282ms\tremaining: 658ms\n",
      "300:\tlearn: 45.4662720\ttotal: 282ms\tremaining: 655ms\n",
      "301:\tlearn: 45.3406709\ttotal: 283ms\tremaining: 653ms\n",
      "302:\tlearn: 45.1855857\ttotal: 283ms\tremaining: 651ms\n",
      "303:\tlearn: 45.0999353\ttotal: 283ms\tremaining: 649ms\n",
      "304:\tlearn: 44.9687703\ttotal: 284ms\tremaining: 647ms\n",
      "305:\tlearn: 44.7618699\ttotal: 284ms\tremaining: 644ms\n",
      "306:\tlearn: 44.6819138\ttotal: 284ms\tremaining: 642ms\n",
      "307:\tlearn: 44.5325870\ttotal: 285ms\tremaining: 640ms\n",
      "308:\tlearn: 44.4801433\ttotal: 285ms\tremaining: 638ms\n",
      "309:\tlearn: 44.4283855\ttotal: 286ms\tremaining: 636ms\n",
      "310:\tlearn: 44.4010032\ttotal: 286ms\tremaining: 634ms\n",
      "311:\tlearn: 44.3519578\ttotal: 286ms\tremaining: 631ms\n",
      "312:\tlearn: 44.2077390\ttotal: 287ms\tremaining: 629ms\n",
      "313:\tlearn: 44.1331237\ttotal: 287ms\tremaining: 627ms\n",
      "314:\tlearn: 43.9517940\ttotal: 288ms\tremaining: 625ms\n",
      "315:\tlearn: 43.7564311\ttotal: 288ms\tremaining: 623ms\n",
      "316:\tlearn: 43.6275540\ttotal: 288ms\tremaining: 621ms\n",
      "317:\tlearn: 43.5580341\ttotal: 289ms\tremaining: 620ms\n",
      "318:\tlearn: 43.4336844\ttotal: 290ms\tremaining: 618ms\n",
      "319:\tlearn: 43.3124811\ttotal: 290ms\tremaining: 616ms\n",
      "320:\tlearn: 43.1404217\ttotal: 290ms\tremaining: 614ms\n",
      "321:\tlearn: 42.9723507\ttotal: 291ms\tremaining: 612ms\n",
      "322:\tlearn: 42.8081798\ttotal: 291ms\tremaining: 610ms\n",
      "323:\tlearn: 42.6722087\ttotal: 292ms\tremaining: 609ms\n",
      "324:\tlearn: 42.5948677\ttotal: 292ms\tremaining: 607ms\n",
      "325:\tlearn: 42.3868809\ttotal: 293ms\tremaining: 605ms\n",
      "326:\tlearn: 42.2800120\ttotal: 293ms\tremaining: 603ms\n",
      "327:\tlearn: 42.1209149\ttotal: 293ms\tremaining: 601ms\n",
      "328:\tlearn: 42.0482365\ttotal: 294ms\tremaining: 599ms\n",
      "329:\tlearn: 41.8925059\ttotal: 294ms\tremaining: 597ms\n",
      "330:\tlearn: 41.7893925\ttotal: 294ms\tremaining: 595ms\n",
      "331:\tlearn: 41.7302938\ttotal: 295ms\tremaining: 593ms\n",
      "332:\tlearn: 41.5780279\ttotal: 295ms\tremaining: 591ms\n",
      "333:\tlearn: 41.4074446\ttotal: 295ms\tremaining: 589ms\n",
      "334:\tlearn: 41.3507531\ttotal: 296ms\tremaining: 587ms\n",
      "335:\tlearn: 41.2955567\ttotal: 296ms\tremaining: 585ms\n",
      "336:\tlearn: 41.2418107\ttotal: 297ms\tremaining: 584ms\n",
      "337:\tlearn: 41.1660602\ttotal: 297ms\tremaining: 582ms\n",
      "338:\tlearn: 41.0206155\ttotal: 297ms\tremaining: 580ms\n",
      "339:\tlearn: 40.9095418\ttotal: 298ms\tremaining: 578ms\n",
      "340:\tlearn: 40.8014943\ttotal: 298ms\tremaining: 576ms\n",
      "341:\tlearn: 40.7501764\ttotal: 299ms\tremaining: 574ms\n",
      "342:\tlearn: 40.5084440\ttotal: 299ms\tremaining: 573ms\n",
      "343:\tlearn: 40.4044644\ttotal: 299ms\tremaining: 571ms\n",
      "344:\tlearn: 40.1697651\ttotal: 300ms\tremaining: 569ms\n",
      "345:\tlearn: 39.9411592\ttotal: 300ms\tremaining: 567ms\n",
      "346:\tlearn: 39.8647938\ttotal: 301ms\tremaining: 566ms\n",
      "347:\tlearn: 39.7909647\ttotal: 301ms\tremaining: 564ms\n",
      "348:\tlearn: 39.5598749\ttotal: 301ms\tremaining: 562ms\n",
      "349:\tlearn: 39.3348970\ttotal: 302ms\tremaining: 561ms\n",
      "350:\tlearn: 39.2356401\ttotal: 303ms\tremaining: 560ms\n",
      "351:\tlearn: 39.1894290\ttotal: 303ms\tremaining: 558ms\n",
      "352:\tlearn: 38.9785815\ttotal: 303ms\tremaining: 556ms\n",
      "353:\tlearn: 38.8159470\ttotal: 304ms\tremaining: 554ms\n",
      "354:\tlearn: 38.6134276\ttotal: 304ms\tremaining: 553ms\n",
      "355:\tlearn: 38.4827773\ttotal: 305ms\tremaining: 551ms\n",
      "356:\tlearn: 38.2836019\ttotal: 305ms\tremaining: 549ms\n",
      "357:\tlearn: 38.1551091\ttotal: 305ms\tremaining: 548ms\n",
      "358:\tlearn: 38.0142297\ttotal: 306ms\tremaining: 546ms\n",
      "359:\tlearn: 37.8884040\ttotal: 306ms\tremaining: 544ms\n",
      "360:\tlearn: 37.7738092\ttotal: 307ms\tremaining: 543ms\n",
      "361:\tlearn: 37.6635072\ttotal: 307ms\tremaining: 541ms\n",
      "362:\tlearn: 37.5940532\ttotal: 307ms\tremaining: 539ms\n",
      "363:\tlearn: 37.4445547\ttotal: 308ms\tremaining: 538ms\n",
      "364:\tlearn: 37.3394027\ttotal: 308ms\tremaining: 536ms\n",
      "365:\tlearn: 37.2731932\ttotal: 309ms\tremaining: 534ms\n",
      "366:\tlearn: 37.1282931\ttotal: 309ms\tremaining: 533ms\n",
      "367:\tlearn: 37.0842957\ttotal: 309ms\tremaining: 531ms\n",
      "368:\tlearn: 36.9477276\ttotal: 310ms\tremaining: 530ms\n",
      "369:\tlearn: 36.8149921\ttotal: 310ms\tremaining: 528ms\n",
      "370:\tlearn: 36.7721859\ttotal: 310ms\tremaining: 526ms\n",
      "371:\tlearn: 36.6728235\ttotal: 311ms\tremaining: 525ms\n",
      "372:\tlearn: 36.5369849\ttotal: 311ms\tremaining: 523ms\n",
      "373:\tlearn: 36.3502738\ttotal: 312ms\tremaining: 522ms\n",
      "374:\tlearn: 36.2550726\ttotal: 312ms\tremaining: 520ms\n",
      "375:\tlearn: 36.1687751\ttotal: 312ms\tremaining: 518ms\n",
      "376:\tlearn: 36.0424520\ttotal: 313ms\tremaining: 517ms\n",
      "377:\tlearn: 36.0014068\ttotal: 313ms\tremaining: 515ms\n",
      "378:\tlearn: 35.8229259\ttotal: 313ms\tremaining: 514ms\n",
      "379:\tlearn: 35.7407180\ttotal: 314ms\tremaining: 512ms\n",
      "380:\tlearn: 35.7041946\ttotal: 314ms\tremaining: 510ms\n",
      "381:\tlearn: 35.6109464\ttotal: 314ms\tremaining: 509ms\n",
      "382:\tlearn: 35.5606568\ttotal: 315ms\tremaining: 507ms\n",
      "383:\tlearn: 35.5219056\ttotal: 315ms\tremaining: 506ms\n",
      "384:\tlearn: 35.4452462\ttotal: 316ms\tremaining: 505ms\n",
      "385:\tlearn: 35.4101770\ttotal: 316ms\tremaining: 503ms\n",
      "386:\tlearn: 35.3250466\ttotal: 317ms\tremaining: 501ms\n",
      "387:\tlearn: 35.2576566\ttotal: 317ms\tremaining: 500ms\n",
      "388:\tlearn: 35.1838586\ttotal: 317ms\tremaining: 498ms\n",
      "389:\tlearn: 35.1513106\ttotal: 318ms\tremaining: 497ms\n",
      "390:\tlearn: 35.0705149\ttotal: 318ms\tremaining: 495ms\n",
      "391:\tlearn: 34.9992874\ttotal: 318ms\tremaining: 494ms\n",
      "392:\tlearn: 34.9213687\ttotal: 319ms\tremaining: 492ms\n",
      "393:\tlearn: 34.8587854\ttotal: 319ms\tremaining: 490ms\n",
      "394:\tlearn: 34.7984643\ttotal: 319ms\tremaining: 489ms\n",
      "395:\tlearn: 34.7138991\ttotal: 320ms\tremaining: 487ms\n",
      "396:\tlearn: 34.6406234\ttotal: 320ms\tremaining: 486ms\n",
      "397:\tlearn: 34.5830748\ttotal: 321ms\tremaining: 485ms\n",
      "398:\tlearn: 34.5153989\ttotal: 321ms\tremaining: 484ms\n",
      "399:\tlearn: 34.4600972\ttotal: 322ms\tremaining: 482ms\n",
      "400:\tlearn: 34.3802010\ttotal: 322ms\tremaining: 481ms\n",
      "401:\tlearn: 34.3150335\ttotal: 322ms\tremaining: 480ms\n",
      "402:\tlearn: 34.2372591\ttotal: 323ms\tremaining: 478ms\n",
      "403:\tlearn: 34.1855887\ttotal: 323ms\tremaining: 477ms\n",
      "404:\tlearn: 34.1105153\ttotal: 323ms\tremaining: 475ms\n",
      "405:\tlearn: 34.0348714\ttotal: 324ms\tremaining: 474ms\n",
      "406:\tlearn: 33.9620298\ttotal: 324ms\tremaining: 472ms\n",
      "407:\tlearn: 33.9003759\ttotal: 325ms\tremaining: 471ms\n",
      "408:\tlearn: 33.8294632\ttotal: 325ms\tremaining: 470ms\n",
      "409:\tlearn: 33.7442304\ttotal: 325ms\tremaining: 468ms\n",
      "410:\tlearn: 33.7211957\ttotal: 326ms\tremaining: 467ms\n",
      "411:\tlearn: 33.6537566\ttotal: 326ms\tremaining: 465ms\n",
      "412:\tlearn: 33.5880375\ttotal: 326ms\tremaining: 464ms\n",
      "413:\tlearn: 33.5657997\ttotal: 327ms\tremaining: 462ms\n",
      "414:\tlearn: 33.4863823\ttotal: 327ms\tremaining: 461ms\n",
      "415:\tlearn: 33.4413155\ttotal: 327ms\tremaining: 460ms\n",
      "416:\tlearn: 33.3978704\ttotal: 328ms\tremaining: 458ms\n",
      "417:\tlearn: 33.3221187\ttotal: 328ms\tremaining: 457ms\n",
      "418:\tlearn: 33.3006944\ttotal: 328ms\tremaining: 455ms\n",
      "419:\tlearn: 33.2408549\ttotal: 329ms\tremaining: 454ms\n",
      "420:\tlearn: 33.2201832\ttotal: 329ms\tremaining: 453ms\n",
      "421:\tlearn: 33.1481676\ttotal: 330ms\tremaining: 451ms\n",
      "422:\tlearn: 33.0912449\ttotal: 330ms\tremaining: 450ms\n",
      "423:\tlearn: 33.0712515\ttotal: 330ms\tremaining: 449ms\n",
      "424:\tlearn: 33.0157666\ttotal: 331ms\tremaining: 447ms\n",
      "425:\tlearn: 32.9964708\ttotal: 331ms\tremaining: 446ms\n",
      "426:\tlearn: 32.9293325\ttotal: 331ms\tremaining: 445ms\n",
      "427:\tlearn: 32.8765497\ttotal: 332ms\tremaining: 443ms\n",
      "428:\tlearn: 32.8578803\ttotal: 332ms\tremaining: 442ms\n",
      "429:\tlearn: 32.8050364\ttotal: 332ms\tremaining: 441ms\n",
      "430:\tlearn: 32.7672968\ttotal: 333ms\tremaining: 439ms\n",
      "431:\tlearn: 32.7047553\ttotal: 333ms\tremaining: 438ms\n",
      "432:\tlearn: 32.6130658\ttotal: 339ms\tremaining: 443ms\n",
      "433:\tlearn: 32.5236147\ttotal: 339ms\tremaining: 442ms\n",
      "434:\tlearn: 32.4753460\ttotal: 339ms\tremaining: 441ms\n",
      "435:\tlearn: 32.3884741\ttotal: 340ms\tremaining: 439ms\n",
      "436:\tlearn: 32.3609470\ttotal: 340ms\tremaining: 438ms\n",
      "437:\tlearn: 32.3522439\ttotal: 340ms\tremaining: 436ms\n",
      "438:\tlearn: 32.3021112\ttotal: 341ms\tremaining: 435ms\n",
      "439:\tlearn: 32.2172271\ttotal: 341ms\tremaining: 434ms\n",
      "440:\tlearn: 32.2087985\ttotal: 341ms\tremaining: 432ms\n",
      "441:\tlearn: 32.1597892\ttotal: 341ms\tremaining: 431ms\n",
      "442:\tlearn: 32.1339290\ttotal: 342ms\tremaining: 430ms\n",
      "443:\tlearn: 32.1257857\ttotal: 342ms\tremaining: 428ms\n",
      "444:\tlearn: 32.0571718\ttotal: 342ms\tremaining: 427ms\n",
      "445:\tlearn: 31.9740568\ttotal: 343ms\tremaining: 426ms\n",
      "446:\tlearn: 31.9493319\ttotal: 343ms\tremaining: 424ms\n",
      "447:\tlearn: 31.8830968\ttotal: 343ms\tremaining: 423ms\n",
      "448:\tlearn: 31.8018765\ttotal: 344ms\tremaining: 422ms\n",
      "449:\tlearn: 31.7379132\ttotal: 344ms\tremaining: 421ms\n",
      "450:\tlearn: 31.6585359\ttotal: 345ms\tremaining: 419ms\n",
      "451:\tlearn: 31.6349146\ttotal: 345ms\tremaining: 418ms\n",
      "452:\tlearn: 31.5237023\ttotal: 345ms\tremaining: 417ms\n",
      "453:\tlearn: 31.4152443\ttotal: 346ms\tremaining: 416ms\n",
      "454:\tlearn: 31.3578007\ttotal: 346ms\tremaining: 414ms\n",
      "455:\tlearn: 31.3350576\ttotal: 346ms\tremaining: 413ms\n",
      "456:\tlearn: 31.2877709\ttotal: 347ms\tremaining: 412ms\n",
      "457:\tlearn: 31.1835058\ttotal: 347ms\tremaining: 411ms\n"
     ]
    },
    {
     "name": "stdout",
     "output_type": "stream",
     "text": [
      "458:\tlearn: 31.1075180\ttotal: 347ms\tremaining: 409ms\n",
      "459:\tlearn: 31.0063213\ttotal: 349ms\tremaining: 410ms\n",
      "460:\tlearn: 30.9409785\ttotal: 350ms\tremaining: 409ms\n",
      "461:\tlearn: 30.8423755\ttotal: 350ms\tremaining: 408ms\n",
      "462:\tlearn: 30.7550978\ttotal: 351ms\tremaining: 407ms\n",
      "463:\tlearn: 30.6591697\ttotal: 351ms\tremaining: 406ms\n",
      "464:\tlearn: 30.5656394\ttotal: 352ms\tremaining: 405ms\n",
      "465:\tlearn: 30.4810282\ttotal: 352ms\tremaining: 404ms\n",
      "466:\tlearn: 30.3900276\ttotal: 353ms\tremaining: 403ms\n",
      "467:\tlearn: 30.3077796\ttotal: 353ms\tremaining: 401ms\n",
      "468:\tlearn: 30.2192321\ttotal: 354ms\tremaining: 400ms\n",
      "469:\tlearn: 30.1329042\ttotal: 354ms\tremaining: 399ms\n",
      "470:\tlearn: 30.0354716\ttotal: 354ms\tremaining: 398ms\n",
      "471:\tlearn: 29.8642292\ttotal: 355ms\tremaining: 397ms\n",
      "472:\tlearn: 29.7805232\ttotal: 355ms\tremaining: 396ms\n",
      "473:\tlearn: 29.6127792\ttotal: 356ms\tremaining: 395ms\n",
      "474:\tlearn: 29.5197382\ttotal: 356ms\tremaining: 393ms\n",
      "475:\tlearn: 29.3557425\ttotal: 356ms\tremaining: 392ms\n",
      "476:\tlearn: 29.2746376\ttotal: 357ms\tremaining: 391ms\n",
      "477:\tlearn: 29.1139815\ttotal: 357ms\tremaining: 390ms\n",
      "478:\tlearn: 29.0251106\ttotal: 357ms\tremaining: 389ms\n",
      "479:\tlearn: 28.8680425\ttotal: 358ms\tremaining: 388ms\n",
      "480:\tlearn: 28.8430029\ttotal: 358ms\tremaining: 387ms\n",
      "481:\tlearn: 28.7575400\ttotal: 359ms\tremaining: 385ms\n",
      "482:\tlearn: 28.6035179\ttotal: 359ms\tremaining: 384ms\n",
      "483:\tlearn: 28.4525678\ttotal: 359ms\tremaining: 383ms\n",
      "484:\tlearn: 28.3046292\ttotal: 360ms\tremaining: 382ms\n",
      "485:\tlearn: 28.2205909\ttotal: 361ms\tremaining: 382ms\n",
      "486:\tlearn: 28.0752980\ttotal: 362ms\tremaining: 381ms\n",
      "487:\tlearn: 27.9329058\ttotal: 362ms\tremaining: 380ms\n",
      "488:\tlearn: 27.8596614\ttotal: 362ms\tremaining: 379ms\n",
      "489:\tlearn: 27.7196879\ttotal: 363ms\tremaining: 378ms\n",
      "490:\tlearn: 27.6477357\ttotal: 363ms\tremaining: 377ms\n",
      "491:\tlearn: 27.5101295\ttotal: 364ms\tremaining: 375ms\n",
      "492:\tlearn: 27.4870562\ttotal: 364ms\tremaining: 374ms\n",
      "493:\tlearn: 27.4708273\ttotal: 364ms\tremaining: 373ms\n",
      "494:\tlearn: 27.4256350\ttotal: 365ms\tremaining: 372ms\n",
      "495:\tlearn: 27.3595414\ttotal: 365ms\tremaining: 371ms\n",
      "496:\tlearn: 27.2850196\ttotal: 365ms\tremaining: 370ms\n",
      "497:\tlearn: 27.2119702\ttotal: 366ms\tremaining: 369ms\n",
      "498:\tlearn: 27.1320525\ttotal: 366ms\tremaining: 368ms\n",
      "499:\tlearn: 26.9987403\ttotal: 367ms\tremaining: 367ms\n",
      "500:\tlearn: 26.8907040\ttotal: 367ms\tremaining: 365ms\n",
      "501:\tlearn: 26.7677017\ttotal: 367ms\tremaining: 364ms\n",
      "502:\tlearn: 26.6476130\ttotal: 368ms\tremaining: 363ms\n",
      "503:\tlearn: 26.5782170\ttotal: 368ms\tremaining: 362ms\n",
      "504:\tlearn: 26.5104611\ttotal: 368ms\tremaining: 361ms\n",
      "505:\tlearn: 26.4443061\ttotal: 369ms\tremaining: 360ms\n",
      "506:\tlearn: 26.3797133\ttotal: 369ms\tremaining: 359ms\n",
      "507:\tlearn: 26.3104024\ttotal: 370ms\tremaining: 358ms\n",
      "508:\tlearn: 26.2473471\ttotal: 370ms\tremaining: 357ms\n",
      "509:\tlearn: 26.1802156\ttotal: 371ms\tremaining: 356ms\n",
      "510:\tlearn: 26.1253711\ttotal: 371ms\tremaining: 355ms\n",
      "511:\tlearn: 26.0718607\ttotal: 371ms\tremaining: 354ms\n",
      "512:\tlearn: 26.0196521\ttotal: 372ms\tremaining: 353ms\n",
      "513:\tlearn: 25.8905677\ttotal: 372ms\tremaining: 352ms\n",
      "514:\tlearn: 25.8397171\ttotal: 373ms\tremaining: 351ms\n",
      "515:\tlearn: 25.7133010\ttotal: 373ms\tremaining: 350ms\n",
      "516:\tlearn: 25.6846223\ttotal: 377ms\tremaining: 353ms\n",
      "517:\tlearn: 25.5607878\ttotal: 399ms\tremaining: 372ms\n",
      "518:\tlearn: 25.4982956\ttotal: 400ms\tremaining: 371ms\n",
      "519:\tlearn: 25.4703351\ttotal: 401ms\tremaining: 370ms\n",
      "520:\tlearn: 25.3486029\ttotal: 401ms\tremaining: 369ms\n",
      "521:\tlearn: 25.2875204\ttotal: 402ms\tremaining: 368ms\n",
      "522:\tlearn: 25.1678002\ttotal: 402ms\tremaining: 367ms\n",
      "523:\tlearn: 25.1405545\ttotal: 417ms\tremaining: 379ms\n",
      "524:\tlearn: 25.0805391\ttotal: 418ms\tremaining: 379ms\n",
      "525:\tlearn: 24.9628266\ttotal: 419ms\tremaining: 378ms\n",
      "526:\tlearn: 24.9362224\ttotal: 420ms\tremaining: 377ms\n",
      "527:\tlearn: 24.8563539\ttotal: 420ms\tremaining: 376ms\n",
      "528:\tlearn: 24.7936712\ttotal: 421ms\tremaining: 374ms\n",
      "529:\tlearn: 24.7352270\ttotal: 422ms\tremaining: 374ms\n",
      "530:\tlearn: 24.6443073\ttotal: 422ms\tremaining: 373ms\n",
      "531:\tlearn: 24.5548468\ttotal: 423ms\tremaining: 372ms\n",
      "532:\tlearn: 24.4677573\ttotal: 423ms\tremaining: 371ms\n",
      "533:\tlearn: 24.3929554\ttotal: 424ms\tremaining: 370ms\n",
      "534:\tlearn: 24.3334428\ttotal: 424ms\tremaining: 369ms\n",
      "535:\tlearn: 24.2713800\ttotal: 425ms\tremaining: 368ms\n",
      "536:\tlearn: 24.2458460\ttotal: 425ms\tremaining: 367ms\n",
      "537:\tlearn: 24.1330905\ttotal: 426ms\tremaining: 366ms\n",
      "538:\tlearn: 24.0215180\ttotal: 426ms\tremaining: 365ms\n",
      "539:\tlearn: 23.9387736\ttotal: 427ms\tremaining: 364ms\n",
      "540:\tlearn: 23.8260128\ttotal: 427ms\tremaining: 363ms\n",
      "541:\tlearn: 23.7208795\ttotal: 428ms\tremaining: 362ms\n",
      "542:\tlearn: 23.6134223\ttotal: 428ms\tremaining: 361ms\n",
      "543:\tlearn: 23.5261786\ttotal: 429ms\tremaining: 360ms\n",
      "544:\tlearn: 23.4406128\ttotal: 429ms\tremaining: 359ms\n",
      "545:\tlearn: 23.3545084\ttotal: 430ms\tremaining: 358ms\n",
      "546:\tlearn: 23.2706577\ttotal: 431ms\tremaining: 357ms\n",
      "547:\tlearn: 23.1889967\ttotal: 431ms\tremaining: 356ms\n",
      "548:\tlearn: 23.1105242\ttotal: 432ms\tremaining: 355ms\n",
      "549:\tlearn: 23.0034686\ttotal: 433ms\tremaining: 354ms\n",
      "550:\tlearn: 22.9261816\ttotal: 434ms\tremaining: 353ms\n",
      "551:\tlearn: 22.8508968\ttotal: 434ms\tremaining: 353ms\n",
      "552:\tlearn: 22.7775572\ttotal: 435ms\tremaining: 352ms\n",
      "553:\tlearn: 22.7070381\ttotal: 436ms\tremaining: 351ms\n",
      "554:\tlearn: 22.6373706\ttotal: 436ms\tremaining: 350ms\n",
      "555:\tlearn: 22.5694890\ttotal: 437ms\tremaining: 349ms\n",
      "556:\tlearn: 22.4642468\ttotal: 437ms\tremaining: 348ms\n",
      "557:\tlearn: 22.3983394\ttotal: 438ms\tremaining: 347ms\n",
      "558:\tlearn: 22.3341110\ttotal: 439ms\tremaining: 346ms\n",
      "559:\tlearn: 22.2715142\ttotal: 439ms\tremaining: 345ms\n",
      "560:\tlearn: 22.1562654\ttotal: 496ms\tremaining: 388ms\n",
      "561:\tlearn: 22.0449655\ttotal: 496ms\tremaining: 387ms\n",
      "562:\tlearn: 21.9841763\ttotal: 497ms\tremaining: 386ms\n",
      "563:\tlearn: 21.8754296\ttotal: 498ms\tremaining: 385ms\n",
      "564:\tlearn: 21.8162227\ttotal: 506ms\tremaining: 390ms\n",
      "565:\tlearn: 21.7441049\ttotal: 507ms\tremaining: 389ms\n",
      "566:\tlearn: 21.6254106\ttotal: 507ms\tremaining: 387ms\n",
      "567:\tlearn: 21.5688359\ttotal: 513ms\tremaining: 390ms\n",
      "568:\tlearn: 21.4648621\ttotal: 514ms\tremaining: 389ms\n",
      "569:\tlearn: 21.3954578\ttotal: 515ms\tremaining: 388ms\n",
      "570:\tlearn: 21.3275785\ttotal: 515ms\tremaining: 387ms\n",
      "571:\tlearn: 21.2785640\ttotal: 520ms\tremaining: 389ms\n",
      "572:\tlearn: 21.1772575\ttotal: 521ms\tremaining: 388ms\n",
      "573:\tlearn: 21.1230200\ttotal: 521ms\tremaining: 387ms\n",
      "574:\tlearn: 21.0576935\ttotal: 522ms\tremaining: 386ms\n",
      "575:\tlearn: 20.9588414\ttotal: 522ms\tremaining: 385ms\n",
      "576:\tlearn: 20.9108633\ttotal: 523ms\tremaining: 383ms\n",
      "577:\tlearn: 20.8515620\ttotal: 523ms\tremaining: 382ms\n",
      "578:\tlearn: 20.7934692\ttotal: 524ms\tremaining: 381ms\n",
      "579:\tlearn: 20.7419270\ttotal: 525ms\tremaining: 380ms\n",
      "580:\tlearn: 20.6805059\ttotal: 525ms\tremaining: 379ms\n",
      "581:\tlearn: 20.6347383\ttotal: 528ms\tremaining: 379ms\n",
      "582:\tlearn: 20.5722593\ttotal: 529ms\tremaining: 378ms\n",
      "583:\tlearn: 20.5410082\ttotal: 529ms\tremaining: 377ms\n",
      "584:\tlearn: 20.5138437\ttotal: 530ms\tremaining: 376ms\n",
      "585:\tlearn: 20.3990025\ttotal: 531ms\tremaining: 375ms\n",
      "586:\tlearn: 20.3609520\ttotal: 531ms\tremaining: 374ms\n",
      "587:\tlearn: 20.2954196\ttotal: 532ms\tremaining: 373ms\n",
      "588:\tlearn: 20.2691657\ttotal: 532ms\tremaining: 371ms\n",
      "589:\tlearn: 20.2396329\ttotal: 533ms\tremaining: 370ms\n",
      "590:\tlearn: 20.1284279\ttotal: 533ms\tremaining: 369ms\n",
      "591:\tlearn: 20.0852020\ttotal: 533ms\tremaining: 368ms\n",
      "592:\tlearn: 20.0600580\ttotal: 534ms\tremaining: 366ms\n",
      "593:\tlearn: 19.9512030\ttotal: 534ms\tremaining: 365ms\n",
      "594:\tlearn: 19.9226166\ttotal: 535ms\tremaining: 364ms\n",
      "595:\tlearn: 19.8948806\ttotal: 535ms\tremaining: 363ms\n",
      "596:\tlearn: 19.8679673\ttotal: 535ms\tremaining: 361ms\n",
      "597:\tlearn: 19.8055628\ttotal: 536ms\tremaining: 360ms\n",
      "598:\tlearn: 19.7773742\ttotal: 536ms\tremaining: 359ms\n",
      "599:\tlearn: 19.7519548\ttotal: 537ms\tremaining: 358ms\n",
      "600:\tlearn: 19.7289567\ttotal: 537ms\tremaining: 356ms\n",
      "601:\tlearn: 19.7066722\ttotal: 537ms\tremaining: 355ms\n",
      "602:\tlearn: 19.6818849\ttotal: 538ms\tremaining: 354ms\n",
      "603:\tlearn: 19.6575761\ttotal: 538ms\tremaining: 353ms\n",
      "604:\tlearn: 19.5962478\ttotal: 539ms\tremaining: 352ms\n",
      "605:\tlearn: 19.5726100\ttotal: 539ms\tremaining: 351ms\n",
      "606:\tlearn: 19.5511059\ttotal: 540ms\tremaining: 350ms\n",
      "607:\tlearn: 19.5300537\ttotal: 541ms\tremaining: 349ms\n",
      "608:\tlearn: 19.4700415\ttotal: 542ms\tremaining: 348ms\n",
      "609:\tlearn: 19.4492599\ttotal: 542ms\tremaining: 347ms\n",
      "610:\tlearn: 19.4068039\ttotal: 543ms\tremaining: 346ms\n",
      "611:\tlearn: 19.3483248\ttotal: 543ms\tremaining: 344ms\n",
      "612:\tlearn: 19.2912577\ttotal: 544ms\tremaining: 343ms\n",
      "613:\tlearn: 19.2453663\ttotal: 544ms\tremaining: 342ms\n",
      "614:\tlearn: 19.2009256\ttotal: 544ms\tremaining: 341ms\n",
      "615:\tlearn: 19.1770876\ttotal: 545ms\tremaining: 340ms\n",
      "616:\tlearn: 19.1342524\ttotal: 545ms\tremaining: 338ms\n",
      "617:\tlearn: 19.0940805\ttotal: 545ms\tremaining: 337ms\n",
      "618:\tlearn: 19.0549755\ttotal: 546ms\tremaining: 336ms\n",
      "619:\tlearn: 19.0322559\ttotal: 546ms\tremaining: 335ms\n",
      "620:\tlearn: 18.9932093\ttotal: 547ms\tremaining: 334ms\n",
      "621:\tlearn: 18.9644873\ttotal: 547ms\tremaining: 332ms\n",
      "622:\tlearn: 18.9231702\ttotal: 547ms\tremaining: 331ms\n",
      "623:\tlearn: 18.8931126\ttotal: 548ms\tremaining: 330ms\n",
      "624:\tlearn: 18.8261203\ttotal: 548ms\tremaining: 329ms\n",
      "625:\tlearn: 18.7675237\ttotal: 549ms\tremaining: 328ms\n",
      "626:\tlearn: 18.7142166\ttotal: 549ms\tremaining: 327ms\n",
      "627:\tlearn: 18.6850845\ttotal: 549ms\tremaining: 325ms\n",
      "628:\tlearn: 18.6210624\ttotal: 550ms\tremaining: 324ms\n",
      "629:\tlearn: 18.5648894\ttotal: 550ms\tremaining: 323ms\n",
      "630:\tlearn: 18.5132858\ttotal: 551ms\tremaining: 322ms\n",
      "631:\tlearn: 18.4850354\ttotal: 551ms\tremaining: 321ms\n",
      "632:\tlearn: 18.4572771\ttotal: 551ms\tremaining: 320ms\n",
      "633:\tlearn: 18.3798605\ttotal: 552ms\tremaining: 318ms\n",
      "634:\tlearn: 18.3261901\ttotal: 552ms\tremaining: 317ms\n",
      "635:\tlearn: 18.2862615\ttotal: 552ms\tremaining: 316ms\n",
      "636:\tlearn: 18.2593973\ttotal: 553ms\tremaining: 315ms\n",
      "637:\tlearn: 18.1717904\ttotal: 554ms\tremaining: 314ms\n",
      "638:\tlearn: 18.1224148\ttotal: 554ms\tremaining: 313ms\n",
      "639:\tlearn: 18.0481720\ttotal: 555ms\tremaining: 312ms\n",
      "640:\tlearn: 17.9969815\ttotal: 555ms\tremaining: 311ms\n",
      "641:\tlearn: 17.9708817\ttotal: 556ms\tremaining: 310ms\n",
      "642:\tlearn: 17.9062181\ttotal: 556ms\tremaining: 309ms\n",
      "643:\tlearn: 17.8135222\ttotal: 556ms\tremaining: 308ms\n",
      "644:\tlearn: 17.7509624\ttotal: 557ms\tremaining: 306ms\n",
      "645:\tlearn: 17.6605636\ttotal: 557ms\tremaining: 305ms\n",
      "646:\tlearn: 17.6113689\ttotal: 557ms\tremaining: 304ms\n",
      "647:\tlearn: 17.5228384\ttotal: 558ms\tremaining: 303ms\n",
      "648:\tlearn: 17.4629046\ttotal: 558ms\tremaining: 302ms\n",
      "649:\tlearn: 17.3765595\ttotal: 559ms\tremaining: 301ms\n",
      "650:\tlearn: 17.3289147\ttotal: 559ms\tremaining: 300ms\n",
      "651:\tlearn: 17.2974874\ttotal: 559ms\tremaining: 299ms\n",
      "652:\tlearn: 17.2129632\ttotal: 560ms\tremaining: 297ms\n",
      "653:\tlearn: 17.1821318\ttotal: 560ms\tremaining: 296ms\n",
      "654:\tlearn: 17.1359081\ttotal: 560ms\tremaining: 295ms\n",
      "655:\tlearn: 17.1056929\ttotal: 561ms\tremaining: 294ms\n",
      "656:\tlearn: 17.0229825\ttotal: 561ms\tremaining: 293ms\n",
      "657:\tlearn: 16.9933373\ttotal: 562ms\tremaining: 292ms\n",
      "658:\tlearn: 16.9642155\ttotal: 562ms\tremaining: 291ms\n",
      "659:\tlearn: 16.8832528\ttotal: 562ms\tremaining: 290ms\n",
      "660:\tlearn: 16.8272674\ttotal: 563ms\tremaining: 289ms\n",
      "661:\tlearn: 16.7483006\ttotal: 563ms\tremaining: 288ms\n",
      "662:\tlearn: 16.7037205\ttotal: 564ms\tremaining: 286ms\n",
      "663:\tlearn: 16.6753411\ttotal: 564ms\tremaining: 285ms\n",
      "664:\tlearn: 16.5980272\ttotal: 564ms\tremaining: 284ms\n",
      "665:\tlearn: 16.5605229\ttotal: 565ms\tremaining: 283ms\n",
      "666:\tlearn: 16.5071076\ttotal: 565ms\tremaining: 282ms\n",
      "667:\tlearn: 16.4316723\ttotal: 565ms\tremaining: 281ms\n",
      "668:\tlearn: 16.3886257\ttotal: 566ms\tremaining: 280ms\n",
      "669:\tlearn: 16.3182681\ttotal: 566ms\tremaining: 279ms\n",
      "670:\tlearn: 16.2444772\ttotal: 573ms\tremaining: 281ms\n",
      "671:\tlearn: 16.2201146\ttotal: 574ms\tremaining: 280ms\n",
      "672:\tlearn: 16.1874293\ttotal: 574ms\tremaining: 279ms\n",
      "673:\tlearn: 16.1746219\ttotal: 575ms\tremaining: 278ms\n",
      "674:\tlearn: 16.0998701\ttotal: 575ms\tremaining: 277ms\n",
      "675:\tlearn: 16.0759740\ttotal: 575ms\tremaining: 276ms\n",
      "676:\tlearn: 16.0365236\ttotal: 576ms\tremaining: 275ms\n",
      "677:\tlearn: 15.9684688\ttotal: 576ms\tremaining: 274ms\n",
      "678:\tlearn: 15.8974065\ttotal: 577ms\tremaining: 273ms\n",
      "679:\tlearn: 15.8846267\ttotal: 577ms\tremaining: 271ms\n",
      "680:\tlearn: 15.8720687\ttotal: 577ms\tremaining: 270ms\n",
      "681:\tlearn: 15.8022458\ttotal: 578ms\tremaining: 269ms\n",
      "682:\tlearn: 15.7788677\ttotal: 578ms\tremaining: 268ms\n",
      "683:\tlearn: 15.7473085\ttotal: 578ms\tremaining: 267ms\n",
      "684:\tlearn: 15.7244717\ttotal: 579ms\tremaining: 266ms\n",
      "685:\tlearn: 15.6535494\ttotal: 579ms\tremaining: 265ms\n",
      "686:\tlearn: 15.5748872\ttotal: 580ms\tremaining: 264ms\n",
      "687:\tlearn: 15.4980354\ttotal: 580ms\tremaining: 263ms\n",
      "688:\tlearn: 15.4229534\ttotal: 580ms\tremaining: 262ms\n",
      "689:\tlearn: 15.3496016\ttotal: 581ms\tremaining: 261ms\n",
      "690:\tlearn: 15.2779411\ttotal: 581ms\tremaining: 260ms\n",
      "691:\tlearn: 15.2079336\ttotal: 582ms\tremaining: 259ms\n",
      "692:\tlearn: 15.1411217\ttotal: 583ms\tremaining: 258ms\n",
      "693:\tlearn: 15.0739196\ttotal: 583ms\tremaining: 257ms\n",
      "694:\tlearn: 15.0098084\ttotal: 583ms\tremaining: 256ms\n",
      "695:\tlearn: 14.9601291\ttotal: 584ms\tremaining: 255ms\n",
      "696:\tlearn: 14.9476273\ttotal: 584ms\tremaining: 254ms\n",
      "697:\tlearn: 14.9353273\ttotal: 585ms\tremaining: 253ms\n",
      "698:\tlearn: 14.9232252\ttotal: 585ms\tremaining: 252ms\n",
      "699:\tlearn: 14.9113169\ttotal: 585ms\tremaining: 251ms\n",
      "700:\tlearn: 14.8992985\ttotal: 586ms\tremaining: 250ms\n",
      "701:\tlearn: 14.8874802\ttotal: 586ms\tremaining: 249ms\n",
      "702:\tlearn: 14.8758589\ttotal: 587ms\tremaining: 248ms\n",
      "703:\tlearn: 14.8644309\ttotal: 587ms\tremaining: 247ms\n",
      "704:\tlearn: 14.8248134\ttotal: 587ms\tremaining: 246ms\n",
      "705:\tlearn: 14.7642542\ttotal: 588ms\tremaining: 245ms\n",
      "706:\tlearn: 14.7256816\ttotal: 588ms\tremaining: 244ms\n",
      "707:\tlearn: 14.7143131\ttotal: 588ms\tremaining: 243ms\n",
      "708:\tlearn: 14.6549140\ttotal: 589ms\tremaining: 242ms\n",
      "709:\tlearn: 14.6138371\ttotal: 589ms\tremaining: 241ms\n",
      "710:\tlearn: 14.5558548\ttotal: 590ms\tremaining: 240ms\n",
      "711:\tlearn: 14.5183984\ttotal: 590ms\tremaining: 239ms\n",
      "712:\tlearn: 14.4616021\ttotal: 590ms\tremaining: 238ms\n",
      "713:\tlearn: 14.4220879\ttotal: 591ms\tremaining: 237ms\n",
      "714:\tlearn: 14.3753362\ttotal: 591ms\tremaining: 236ms\n",
      "715:\tlearn: 14.3391629\ttotal: 591ms\tremaining: 235ms\n",
      "716:\tlearn: 14.3009283\ttotal: 592ms\tremaining: 234ms\n",
      "717:\tlearn: 14.2456822\ttotal: 592ms\tremaining: 233ms\n",
      "718:\tlearn: 14.2006121\ttotal: 593ms\tremaining: 232ms\n",
      "719:\tlearn: 14.1788205\ttotal: 593ms\tremaining: 231ms\n",
      "720:\tlearn: 14.1574466\ttotal: 593ms\tremaining: 230ms\n",
      "721:\tlearn: 14.1364825\ttotal: 594ms\tremaining: 229ms\n",
      "722:\tlearn: 14.1159200\ttotal: 594ms\tremaining: 228ms\n",
      "723:\tlearn: 14.0616472\ttotal: 595ms\tremaining: 227ms\n",
      "724:\tlearn: 14.0498111\ttotal: 595ms\tremaining: 226ms\n",
      "725:\tlearn: 13.9906374\ttotal: 600ms\tremaining: 226ms\n",
      "726:\tlearn: 13.9328311\ttotal: 600ms\tremaining: 225ms\n",
      "727:\tlearn: 13.8897597\ttotal: 601ms\tremaining: 224ms\n",
      "728:\tlearn: 13.8781600\ttotal: 601ms\tremaining: 223ms\n",
      "729:\tlearn: 13.8578921\ttotal: 602ms\tremaining: 223ms\n",
      "730:\tlearn: 13.8463494\ttotal: 602ms\tremaining: 222ms\n",
      "731:\tlearn: 13.7854170\ttotal: 602ms\tremaining: 221ms\n",
      "732:\tlearn: 13.7742442\ttotal: 603ms\tremaining: 220ms\n",
      "733:\tlearn: 13.7632489\ttotal: 603ms\tremaining: 219ms\n",
      "734:\tlearn: 13.7523392\ttotal: 603ms\tremaining: 218ms\n",
      "735:\tlearn: 13.7173855\ttotal: 604ms\tremaining: 217ms\n",
      "736:\tlearn: 13.6579343\ttotal: 604ms\tremaining: 216ms\n",
      "737:\tlearn: 13.6471904\ttotal: 605ms\tremaining: 215ms\n",
      "738:\tlearn: 13.6366252\ttotal: 605ms\tremaining: 214ms\n",
      "739:\tlearn: 13.5784848\ttotal: 605ms\tremaining: 213ms\n",
      "740:\tlearn: 13.5455828\ttotal: 606ms\tremaining: 212ms\n",
      "741:\tlearn: 13.5351441\ttotal: 606ms\tremaining: 211ms\n",
      "742:\tlearn: 13.5030939\ttotal: 606ms\tremaining: 210ms\n",
      "743:\tlearn: 13.4461054\ttotal: 607ms\tremaining: 209ms\n",
      "744:\tlearn: 13.4178180\ttotal: 607ms\tremaining: 208ms\n",
      "745:\tlearn: 13.3768019\ttotal: 608ms\tremaining: 207ms\n",
      "746:\tlearn: 13.3435342\ttotal: 608ms\tremaining: 206ms\n",
      "747:\tlearn: 13.3115410\ttotal: 609ms\tremaining: 205ms\n",
      "748:\tlearn: 13.2791348\ttotal: 609ms\tremaining: 204ms\n",
      "749:\tlearn: 13.2397828\ttotal: 609ms\tremaining: 203ms\n",
      "750:\tlearn: 13.2083165\ttotal: 610ms\tremaining: 202ms\n",
      "751:\tlearn: 13.1565257\ttotal: 611ms\tremaining: 201ms\n",
      "752:\tlearn: 13.1250145\ttotal: 611ms\tremaining: 201ms\n",
      "753:\tlearn: 13.0947407\ttotal: 612ms\tremaining: 200ms\n",
      "754:\tlearn: 13.0641111\ttotal: 612ms\tremaining: 199ms\n",
      "755:\tlearn: 13.0341795\ttotal: 613ms\tremaining: 198ms\n",
      "756:\tlearn: 12.9851229\ttotal: 613ms\tremaining: 197ms\n",
      "757:\tlearn: 12.9545411\ttotal: 613ms\tremaining: 196ms\n",
      "758:\tlearn: 12.9053285\ttotal: 614ms\tremaining: 195ms\n",
      "759:\tlearn: 12.8754957\ttotal: 614ms\tremaining: 194ms\n",
      "760:\tlearn: 12.8468704\ttotal: 615ms\tremaining: 193ms\n",
      "761:\tlearn: 12.8181411\ttotal: 615ms\tremaining: 192ms\n",
      "762:\tlearn: 12.7892009\ttotal: 616ms\tremaining: 191ms\n",
      "763:\tlearn: 12.7366550\ttotal: 616ms\tremaining: 190ms\n",
      "764:\tlearn: 12.7176112\ttotal: 616ms\tremaining: 189ms\n",
      "765:\tlearn: 12.6645221\ttotal: 617ms\tremaining: 188ms\n",
      "766:\tlearn: 12.6446797\ttotal: 617ms\tremaining: 187ms\n",
      "767:\tlearn: 12.6264973\ttotal: 617ms\tremaining: 187ms\n",
      "768:\tlearn: 12.5814309\ttotal: 618ms\tremaining: 186ms\n",
      "769:\tlearn: 12.5635775\ttotal: 618ms\tremaining: 185ms\n",
      "770:\tlearn: 12.5460678\ttotal: 619ms\tremaining: 184ms\n",
      "771:\tlearn: 12.4954875\ttotal: 619ms\tremaining: 183ms\n",
      "772:\tlearn: 12.4782540\ttotal: 619ms\tremaining: 182ms\n",
      "773:\tlearn: 12.4613523\ttotal: 620ms\tremaining: 181ms\n",
      "774:\tlearn: 12.4178831\ttotal: 620ms\tremaining: 180ms\n",
      "775:\tlearn: 12.4012841\ttotal: 620ms\tremaining: 179ms\n",
      "776:\tlearn: 12.3826785\ttotal: 621ms\tremaining: 178ms\n",
      "777:\tlearn: 12.3643510\ttotal: 621ms\tremaining: 177ms\n",
      "778:\tlearn: 12.3156222\ttotal: 622ms\tremaining: 176ms\n",
      "779:\tlearn: 12.2992524\ttotal: 622ms\tremaining: 176ms\n",
      "780:\tlearn: 12.2812325\ttotal: 623ms\tremaining: 175ms\n",
      "781:\tlearn: 12.2375508\ttotal: 623ms\tremaining: 174ms\n",
      "782:\tlearn: 12.2247944\ttotal: 624ms\tremaining: 173ms\n",
      "783:\tlearn: 12.2123305\ttotal: 624ms\tremaining: 172ms\n",
      "784:\tlearn: 12.1706281\ttotal: 625ms\tremaining: 171ms\n",
      "785:\tlearn: 12.1584068\ttotal: 625ms\tremaining: 170ms\n",
      "786:\tlearn: 12.1175056\ttotal: 626ms\tremaining: 169ms\n",
      "787:\tlearn: 12.1047890\ttotal: 626ms\tremaining: 168ms\n",
      "788:\tlearn: 12.0660005\ttotal: 627ms\tremaining: 168ms\n",
      "789:\tlearn: 12.0543046\ttotal: 627ms\tremaining: 167ms\n",
      "790:\tlearn: 12.0428735\ttotal: 628ms\tremaining: 166ms\n",
      "791:\tlearn: 12.0317003\ttotal: 628ms\tremaining: 165ms\n",
      "792:\tlearn: 11.9916970\ttotal: 628ms\tremaining: 164ms\n",
      "793:\tlearn: 11.9807323\ttotal: 629ms\tremaining: 163ms\n",
      "794:\tlearn: 11.9431140\ttotal: 629ms\tremaining: 162ms\n",
      "795:\tlearn: 11.9097612\ttotal: 630ms\tremaining: 161ms\n",
      "796:\tlearn: 11.8885730\ttotal: 630ms\tremaining: 160ms\n",
      "797:\tlearn: 11.8771183\ttotal: 630ms\tremaining: 160ms\n",
      "798:\tlearn: 11.8484154\ttotal: 631ms\tremaining: 159ms\n",
      "799:\tlearn: 11.8277241\ttotal: 631ms\tremaining: 158ms\n",
      "800:\tlearn: 11.8075768\ttotal: 632ms\tremaining: 157ms\n",
      "801:\tlearn: 11.7879574\ttotal: 632ms\tremaining: 156ms\n",
      "802:\tlearn: 11.7784704\ttotal: 632ms\tremaining: 155ms\n",
      "803:\tlearn: 11.7504006\ttotal: 633ms\tremaining: 154ms\n",
      "804:\tlearn: 11.7313158\ttotal: 633ms\tremaining: 153ms\n",
      "805:\tlearn: 11.7127275\ttotal: 633ms\tremaining: 152ms\n",
      "806:\tlearn: 11.7026520\ttotal: 634ms\tremaining: 152ms\n",
      "807:\tlearn: 11.6751577\ttotal: 634ms\tremaining: 151ms\n",
      "808:\tlearn: 11.6570432\ttotal: 635ms\tremaining: 150ms\n",
      "809:\tlearn: 11.6393973\ttotal: 635ms\tremaining: 149ms\n",
      "810:\tlearn: 11.6124999\ttotal: 636ms\tremaining: 148ms\n",
      "811:\tlearn: 11.5884144\ttotal: 636ms\tremaining: 147ms\n",
      "812:\tlearn: 11.5714164\ttotal: 637ms\tremaining: 146ms\n",
      "813:\tlearn: 11.5451517\ttotal: 637ms\tremaining: 146ms\n",
      "814:\tlearn: 11.5249337\ttotal: 644ms\tremaining: 146ms\n",
      "815:\tlearn: 11.5052517\ttotal: 645ms\tremaining: 145ms\n",
      "816:\tlearn: 11.4862834\ttotal: 645ms\tremaining: 144ms\n",
      "817:\tlearn: 11.4748223\ttotal: 645ms\tremaining: 144ms\n",
      "818:\tlearn: 11.4561660\ttotal: 646ms\tremaining: 143ms\n",
      "819:\tlearn: 11.4397736\ttotal: 646ms\tremaining: 142ms\n",
      "820:\tlearn: 11.4170706\ttotal: 647ms\tremaining: 141ms\n",
      "821:\tlearn: 11.3919579\ttotal: 647ms\tremaining: 140ms\n",
      "822:\tlearn: 11.3684339\ttotal: 647ms\tremaining: 139ms\n",
      "823:\tlearn: 11.3526754\ttotal: 648ms\tremaining: 138ms\n",
      "824:\tlearn: 11.3296666\ttotal: 648ms\tremaining: 137ms\n",
      "825:\tlearn: 11.3143419\ttotal: 648ms\tremaining: 137ms\n",
      "826:\tlearn: 11.2959107\ttotal: 649ms\tremaining: 136ms\n",
      "827:\tlearn: 11.2810771\ttotal: 649ms\tremaining: 135ms\n",
      "828:\tlearn: 11.2630750\ttotal: 650ms\tremaining: 134ms\n",
      "829:\tlearn: 11.2407633\ttotal: 650ms\tremaining: 133ms\n",
      "830:\tlearn: 11.2262839\ttotal: 651ms\tremaining: 132ms\n",
      "831:\tlearn: 11.2044544\ttotal: 651ms\tremaining: 131ms\n",
      "832:\tlearn: 11.1949364\ttotal: 651ms\tremaining: 131ms\n",
      "833:\tlearn: 11.1797993\ttotal: 652ms\tremaining: 130ms\n",
      "834:\tlearn: 11.1706127\ttotal: 652ms\tremaining: 129ms\n",
      "835:\tlearn: 11.1461715\ttotal: 653ms\tremaining: 128ms\n",
      "836:\tlearn: 11.1321806\ttotal: 653ms\tremaining: 127ms\n",
      "837:\tlearn: 11.1148170\ttotal: 654ms\tremaining: 126ms\n",
      "838:\tlearn: 11.0975547\ttotal: 654ms\tremaining: 126ms\n",
      "839:\tlearn: 11.0743692\ttotal: 654ms\tremaining: 125ms\n",
      "840:\tlearn: 11.0631599\ttotal: 655ms\tremaining: 124ms\n",
      "841:\tlearn: 11.0424483\ttotal: 655ms\tremaining: 123ms\n",
      "842:\tlearn: 11.0314144\ttotal: 656ms\tremaining: 122ms\n",
      "843:\tlearn: 11.0178355\ttotal: 656ms\tremaining: 121ms\n",
      "844:\tlearn: 11.0069708\ttotal: 656ms\tremaining: 120ms\n",
      "845:\tlearn: 10.9927552\ttotal: 657ms\tremaining: 120ms\n",
      "846:\tlearn: 10.9719923\ttotal: 657ms\tremaining: 119ms\n",
      "847:\tlearn: 10.9588273\ttotal: 657ms\tremaining: 118ms\n",
      "848:\tlearn: 10.9388342\ttotal: 658ms\tremaining: 117ms\n",
      "849:\tlearn: 10.9316220\ttotal: 658ms\tremaining: 116ms\n",
      "850:\tlearn: 10.9188730\ttotal: 659ms\tremaining: 115ms\n",
      "851:\tlearn: 10.9081760\ttotal: 659ms\tremaining: 114ms\n",
      "852:\tlearn: 10.8879998\ttotal: 659ms\tremaining: 114ms\n",
      "853:\tlearn: 10.8809273\ttotal: 660ms\tremaining: 113ms\n",
      "854:\tlearn: 10.8703809\ttotal: 660ms\tremaining: 112ms\n",
      "855:\tlearn: 10.8563613\ttotal: 661ms\tremaining: 111ms\n",
      "856:\tlearn: 10.8459583\ttotal: 661ms\tremaining: 110ms\n",
      "857:\tlearn: 10.8357090\ttotal: 661ms\tremaining: 109ms\n",
      "858:\tlearn: 10.8223808\ttotal: 662ms\tremaining: 109ms\n",
      "859:\tlearn: 10.8027460\ttotal: 662ms\tremaining: 108ms\n",
      "860:\tlearn: 10.7904516\ttotal: 663ms\tremaining: 107ms\n",
      "861:\tlearn: 10.7635198\ttotal: 663ms\tremaining: 106ms\n",
      "862:\tlearn: 10.7500338\ttotal: 663ms\tremaining: 105ms\n",
      "863:\tlearn: 10.6983369\ttotal: 664ms\tremaining: 104ms\n",
      "864:\tlearn: 10.6722215\ttotal: 664ms\tremaining: 104ms\n",
      "865:\tlearn: 10.6506152\ttotal: 665ms\tremaining: 103ms\n",
      "866:\tlearn: 10.6386355\ttotal: 665ms\tremaining: 102ms\n",
      "867:\tlearn: 10.6200294\ttotal: 665ms\tremaining: 101ms\n",
      "868:\tlearn: 10.5947348\ttotal: 666ms\tremaining: 100ms\n",
      "869:\tlearn: 10.5817960\ttotal: 667ms\tremaining: 99.7ms\n",
      "870:\tlearn: 10.5316113\ttotal: 667ms\tremaining: 98.9ms\n",
      "871:\tlearn: 10.5249729\ttotal: 668ms\tremaining: 98ms\n",
      "872:\tlearn: 10.5041058\ttotal: 668ms\tremaining: 97.2ms\n",
      "873:\tlearn: 10.4795386\ttotal: 669ms\tremaining: 96.4ms\n",
      "874:\tlearn: 10.4670946\ttotal: 669ms\tremaining: 95.6ms\n",
      "875:\tlearn: 10.4568159\ttotal: 669ms\tremaining: 94.8ms\n",
      "876:\tlearn: 10.4466870\ttotal: 670ms\tremaining: 93.9ms\n",
      "877:\tlearn: 10.4350737\ttotal: 670ms\tremaining: 93.1ms\n",
      "878:\tlearn: 10.4174264\ttotal: 671ms\tremaining: 92.3ms\n",
      "879:\tlearn: 10.4052404\ttotal: 671ms\tremaining: 91.5ms\n",
      "880:\tlearn: 10.3564468\ttotal: 671ms\tremaining: 90.7ms\n",
      "881:\tlearn: 10.3355064\ttotal: 672ms\tremaining: 89.9ms\n",
      "882:\tlearn: 10.3234003\ttotal: 672ms\tremaining: 89.1ms\n",
      "883:\tlearn: 10.2758058\ttotal: 672ms\tremaining: 88.2ms\n",
      "884:\tlearn: 10.2293762\ttotal: 673ms\tremaining: 87.4ms\n",
      "885:\tlearn: 10.2174971\ttotal: 673ms\tremaining: 86.6ms\n",
      "886:\tlearn: 10.1721573\ttotal: 674ms\tremaining: 85.8ms\n",
      "887:\tlearn: 10.1523929\ttotal: 674ms\tremaining: 85ms\n",
      "888:\tlearn: 10.1273289\ttotal: 674ms\tremaining: 84.2ms\n",
      "889:\tlearn: 10.1161019\ttotal: 675ms\tremaining: 83.4ms\n",
      "890:\tlearn: 10.1045965\ttotal: 675ms\tremaining: 82.6ms\n",
      "891:\tlearn: 10.0801826\ttotal: 676ms\tremaining: 81.8ms\n",
      "892:\tlearn: 10.0610637\ttotal: 676ms\tremaining: 81ms\n",
      "893:\tlearn: 10.0500961\ttotal: 677ms\tremaining: 80.2ms\n",
      "894:\tlearn: 10.0216024\ttotal: 677ms\tremaining: 79.4ms\n",
      "895:\tlearn: 10.0114268\ttotal: 677ms\tremaining: 78.6ms\n",
      "896:\tlearn: 10.0003812\ttotal: 678ms\tremaining: 77.8ms\n",
      "897:\tlearn: 9.9903424\ttotal: 678ms\tremaining: 77ms\n",
      "898:\tlearn: 9.9625358\ttotal: 679ms\tremaining: 76.2ms\n",
      "899:\tlearn: 9.9182753\ttotal: 679ms\tremaining: 75.4ms\n",
      "900:\tlearn: 9.9075266\ttotal: 679ms\tremaining: 74.6ms\n",
      "901:\tlearn: 9.8975809\ttotal: 680ms\tremaining: 73.8ms\n",
      "902:\tlearn: 9.8877785\ttotal: 680ms\tremaining: 73.1ms\n",
      "903:\tlearn: 9.8697033\ttotal: 681ms\tremaining: 72.3ms\n",
      "904:\tlearn: 9.8418972\ttotal: 682ms\tremaining: 71.5ms\n",
      "905:\tlearn: 9.8311051\ttotal: 682ms\tremaining: 70.8ms\n",
      "906:\tlearn: 9.8039763\ttotal: 682ms\tremaining: 70ms\n",
      "907:\tlearn: 9.7918151\ttotal: 683ms\tremaining: 69.2ms\n",
      "908:\tlearn: 9.7740337\ttotal: 683ms\tremaining: 68.4ms\n",
      "909:\tlearn: 9.7636861\ttotal: 684ms\tremaining: 67.6ms\n",
      "910:\tlearn: 9.7540983\ttotal: 684ms\tremaining: 66.8ms\n",
      "911:\tlearn: 9.7275183\ttotal: 684ms\tremaining: 66ms\n",
      "912:\tlearn: 9.7102306\ttotal: 685ms\tremaining: 65.3ms\n",
      "913:\tlearn: 9.6911701\ttotal: 685ms\tremaining: 64.5ms\n",
      "914:\tlearn: 9.6806068\ttotal: 686ms\tremaining: 63.7ms\n",
      "915:\tlearn: 9.6548745\ttotal: 686ms\tremaining: 62.9ms\n",
      "916:\tlearn: 9.6436824\ttotal: 686ms\tremaining: 62.1ms\n",
      "917:\tlearn: 9.6334642\ttotal: 687ms\tremaining: 61.3ms\n",
      "918:\tlearn: 9.6072065\ttotal: 687ms\tremaining: 60.6ms\n",
      "919:\tlearn: 9.5977468\ttotal: 688ms\tremaining: 59.8ms\n",
      "920:\tlearn: 9.5877081\ttotal: 688ms\tremaining: 59ms\n"
     ]
    },
    {
     "name": "stdout",
     "output_type": "stream",
     "text": [
      "921:\tlearn: 9.5783739\ttotal: 689ms\tremaining: 58.3ms\n",
      "922:\tlearn: 9.5533741\ttotal: 690ms\tremaining: 57.5ms\n",
      "923:\tlearn: 9.5365739\ttotal: 690ms\tremaining: 56.8ms\n",
      "924:\tlearn: 9.5102066\ttotal: 690ms\tremaining: 56ms\n",
      "925:\tlearn: 9.4923517\ttotal: 691ms\tremaining: 55.2ms\n",
      "926:\tlearn: 9.4670023\ttotal: 691ms\tremaining: 54.5ms\n",
      "927:\tlearn: 9.4421919\ttotal: 692ms\tremaining: 53.7ms\n",
      "928:\tlearn: 9.4329922\ttotal: 692ms\tremaining: 52.9ms\n",
      "929:\tlearn: 9.4233626\ttotal: 693ms\tremaining: 52.1ms\n",
      "930:\tlearn: 9.4142851\ttotal: 693ms\tremaining: 51.4ms\n",
      "931:\tlearn: 9.4042230\ttotal: 702ms\tremaining: 51.2ms\n",
      "932:\tlearn: 9.3803875\ttotal: 703ms\tremaining: 50.5ms\n",
      "933:\tlearn: 9.3689412\ttotal: 703ms\tremaining: 49.7ms\n",
      "934:\tlearn: 9.3527829\ttotal: 704ms\tremaining: 48.9ms\n",
      "935:\tlearn: 9.3354464\ttotal: 704ms\tremaining: 48.2ms\n",
      "936:\tlearn: 9.3084309\ttotal: 705ms\tremaining: 47.4ms\n",
      "937:\tlearn: 9.2991621\ttotal: 705ms\tremaining: 46.6ms\n",
      "938:\tlearn: 9.2902001\ttotal: 706ms\tremaining: 45.8ms\n",
      "939:\tlearn: 9.2804260\ttotal: 706ms\tremaining: 45.1ms\n",
      "940:\tlearn: 9.2572699\ttotal: 706ms\tremaining: 44.3ms\n",
      "941:\tlearn: 9.2327633\ttotal: 707ms\tremaining: 43.5ms\n",
      "942:\tlearn: 9.2224226\ttotal: 707ms\tremaining: 42.7ms\n",
      "943:\tlearn: 9.1986744\ttotal: 708ms\tremaining: 42ms\n",
      "944:\tlearn: 9.1896771\ttotal: 708ms\tremaining: 41.2ms\n",
      "945:\tlearn: 9.1807699\ttotal: 708ms\tremaining: 40.4ms\n",
      "946:\tlearn: 9.1719887\ttotal: 709ms\tremaining: 39.7ms\n",
      "947:\tlearn: 9.1624702\ttotal: 710ms\tremaining: 38.9ms\n",
      "948:\tlearn: 9.1311052\ttotal: 710ms\tremaining: 38.2ms\n",
      "949:\tlearn: 9.1143145\ttotal: 711ms\tremaining: 37.4ms\n",
      "950:\tlearn: 9.0999559\ttotal: 711ms\tremaining: 36.7ms\n",
      "951:\tlearn: 9.0901182\ttotal: 712ms\tremaining: 35.9ms\n",
      "952:\tlearn: 9.0807242\ttotal: 712ms\tremaining: 35.1ms\n",
      "953:\tlearn: 9.0714630\ttotal: 713ms\tremaining: 34.4ms\n",
      "954:\tlearn: 9.0623323\ttotal: 713ms\tremaining: 33.6ms\n",
      "955:\tlearn: 9.0538884\ttotal: 714ms\tremaining: 32.8ms\n",
      "956:\tlearn: 9.0449768\ttotal: 714ms\tremaining: 32.1ms\n",
      "957:\tlearn: 9.0361908\ttotal: 714ms\tremaining: 31.3ms\n",
      "958:\tlearn: 9.0280446\ttotal: 715ms\tremaining: 30.6ms\n",
      "959:\tlearn: 9.0194694\ttotal: 715ms\tremaining: 29.8ms\n",
      "960:\tlearn: 9.0115255\ttotal: 716ms\tremaining: 29.1ms\n",
      "961:\tlearn: 9.0031561\ttotal: 716ms\tremaining: 28.3ms\n",
      "962:\tlearn: 8.9801710\ttotal: 717ms\tremaining: 27.5ms\n",
      "963:\tlearn: 8.9719234\ttotal: 717ms\tremaining: 26.8ms\n",
      "964:\tlearn: 8.9637920\ttotal: 718ms\tremaining: 26ms\n",
      "965:\tlearn: 8.9562129\ttotal: 718ms\tremaining: 25.3ms\n",
      "966:\tlearn: 8.9422684\ttotal: 719ms\tremaining: 24.5ms\n",
      "967:\tlearn: 8.9343111\ttotal: 719ms\tremaining: 23.8ms\n",
      "968:\tlearn: 8.9264659\ttotal: 720ms\tremaining: 23ms\n",
      "969:\tlearn: 8.9191501\ttotal: 720ms\tremaining: 22.3ms\n",
      "970:\tlearn: 8.9114931\ttotal: 721ms\tremaining: 21.5ms\n",
      "971:\tlearn: 8.9039439\ttotal: 721ms\tremaining: 20.8ms\n",
      "972:\tlearn: 8.8968864\ttotal: 722ms\tremaining: 20ms\n",
      "973:\tlearn: 8.8898641\ttotal: 723ms\tremaining: 19.3ms\n",
      "974:\tlearn: 8.8760412\ttotal: 723ms\tremaining: 18.5ms\n",
      "975:\tlearn: 8.8686623\ttotal: 724ms\tremaining: 17.8ms\n",
      "976:\tlearn: 8.8617829\ttotal: 724ms\tremaining: 17ms\n",
      "977:\tlearn: 8.8549751\ttotal: 724ms\tremaining: 16.3ms\n",
      "978:\tlearn: 8.8483348\ttotal: 725ms\tremaining: 15.5ms\n",
      "979:\tlearn: 8.8435598\ttotal: 725ms\tremaining: 14.8ms\n",
      "980:\tlearn: 8.8367618\ttotal: 726ms\tremaining: 14.1ms\n",
      "981:\tlearn: 8.8303373\ttotal: 726ms\tremaining: 13.3ms\n",
      "982:\tlearn: 8.8080146\ttotal: 726ms\tremaining: 12.6ms\n",
      "983:\tlearn: 8.7961523\ttotal: 727ms\tremaining: 11.8ms\n",
      "984:\tlearn: 8.7894574\ttotal: 727ms\tremaining: 11.1ms\n",
      "985:\tlearn: 8.7828593\ttotal: 728ms\tremaining: 10.3ms\n",
      "986:\tlearn: 8.7734934\ttotal: 728ms\tremaining: 9.59ms\n",
      "987:\tlearn: 8.7669762\ttotal: 729ms\tremaining: 8.85ms\n",
      "988:\tlearn: 8.7615939\ttotal: 729ms\tremaining: 8.11ms\n",
      "989:\tlearn: 8.7398013\ttotal: 729ms\tremaining: 7.37ms\n",
      "990:\tlearn: 8.7333817\ttotal: 730ms\tremaining: 6.63ms\n",
      "991:\tlearn: 8.7242066\ttotal: 730ms\tremaining: 5.89ms\n",
      "992:\tlearn: 8.7178656\ttotal: 731ms\tremaining: 5.15ms\n",
      "993:\tlearn: 8.7065398\ttotal: 731ms\tremaining: 4.41ms\n",
      "994:\tlearn: 8.7002959\ttotal: 732ms\tremaining: 3.68ms\n",
      "995:\tlearn: 8.6861199\ttotal: 733ms\tremaining: 2.94ms\n",
      "996:\tlearn: 8.6799585\ttotal: 734ms\tremaining: 2.21ms\n",
      "997:\tlearn: 8.6588091\ttotal: 735ms\tremaining: 1.47ms\n",
      "998:\tlearn: 8.6534618\ttotal: 747ms\tremaining: 747us\n",
      "999:\tlearn: 8.6309570\ttotal: 748ms\tremaining: 0us\n"
     ]
    },
    {
     "data": {
      "text/plain": [
       "<catboost.core.CatBoostRegressor at 0x20d52774550>"
      ]
     },
     "execution_count": 137,
     "metadata": {},
     "output_type": "execute_result"
    }
   ],
   "source": [
    "#training model\n",
    "cbr.fit(xtrain,ytrain)"
   ]
  },
  {
   "cell_type": "code",
   "execution_count": 138,
   "id": "998f3cce",
   "metadata": {},
   "outputs": [
    {
     "data": {
      "text/plain": [
       "array([ 370.3647676 ,  471.34199671,  595.29119001,  201.96072111,\n",
       "        497.17711862,  497.90682355,  660.48524492,  669.56952753,\n",
       "        462.86027651,  313.96734198,  212.27982652,  555.73719751,\n",
       "        357.73783347, 1136.55175805,  634.59514917,  194.95048546,\n",
       "        739.16333893,  710.43989195,  590.24921403, 1289.97850512,\n",
       "        604.94776284,  851.06272574,  342.50445168,  700.78107981,\n",
       "        355.63580278,  503.159188  ,  307.51888541,  659.28052951,\n",
       "        575.92063614, 1533.82653969,  545.87994928,  777.37016831,\n",
       "        333.11814617,  964.92161504,  246.02072436,  301.57635406,\n",
       "        175.22012189,  997.92612389,  435.67443629])"
      ]
     },
     "execution_count": 138,
     "metadata": {},
     "output_type": "execute_result"
    }
   ],
   "source": [
    "#all data predication\n",
    "cbr.predict(xtest)"
   ]
  },
  {
   "cell_type": "markdown",
   "id": "89da3b04",
   "metadata": {},
   "source": [
    "# R^2 Score & MSE & MAE"
   ]
  },
  {
   "cell_type": "code",
   "execution_count": 139,
   "id": "454bea14",
   "metadata": {},
   "outputs": [
    {
     "data": {
      "text/plain": [
       "-177.99298620968565"
      ]
     },
     "execution_count": 139,
     "metadata": {},
     "output_type": "execute_result"
    }
   ],
   "source": [
    "cbr.score(xtrain,ytrain)"
   ]
  },
  {
   "cell_type": "code",
   "execution_count": 140,
   "id": "5ba650de",
   "metadata": {},
   "outputs": [
    {
     "data": {
      "text/plain": [
       "-62.737319089267416"
      ]
     },
     "execution_count": 140,
     "metadata": {},
     "output_type": "execute_result"
    }
   ],
   "source": [
    "cbr.score(xtest,ytest)"
   ]
  },
  {
   "cell_type": "code",
   "execution_count": 141,
   "id": "4bad3e4e",
   "metadata": {},
   "outputs": [
    {
     "data": {
      "text/plain": [
       "0.9128655807497832"
      ]
     },
     "execution_count": 141,
     "metadata": {},
     "output_type": "execute_result"
    }
   ],
   "source": [
    "r2_score(ytest,cbr.predict(xtest))"
   ]
  },
  {
   "cell_type": "code",
   "execution_count": 142,
   "id": "8d808fee",
   "metadata": {},
   "outputs": [
    {
     "data": {
      "text/plain": [
       "12313.708033396959"
      ]
     },
     "execution_count": 142,
     "metadata": {},
     "output_type": "execute_result"
    }
   ],
   "source": [
    "mean_squared_error(ytest,cbr.predict(xtest))"
   ]
  },
  {
   "cell_type": "code",
   "execution_count": 143,
   "id": "935bc530",
   "metadata": {},
   "outputs": [
    {
     "data": {
      "text/plain": [
       "61.501495128952044"
      ]
     },
     "execution_count": 143,
     "metadata": {},
     "output_type": "execute_result"
    }
   ],
   "source": [
    "mean_absolute_error(ytest,cbr.predict(xtest))"
   ]
  },
  {
   "cell_type": "code",
   "execution_count": null,
   "id": "68d416e6",
   "metadata": {},
   "outputs": [],
   "source": []
  },
  {
   "cell_type": "markdown",
   "id": "72585242",
   "metadata": {},
   "source": [
    "# XGBRegressor"
   ]
  },
  {
   "cell_type": "code",
   "execution_count": 144,
   "id": "113d95ca",
   "metadata": {},
   "outputs": [],
   "source": [
    "#import XGBRegressor\n",
    "from xgboost import XGBRegressor"
   ]
  },
  {
   "cell_type": "code",
   "execution_count": 145,
   "id": "67b6f4d3",
   "metadata": {},
   "outputs": [],
   "source": [
    "#creating XGBRegressor object\n",
    "xbr = XGBRegressor()"
   ]
  },
  {
   "cell_type": "code",
   "execution_count": 146,
   "id": "84b7cbbf",
   "metadata": {},
   "outputs": [
    {
     "data": {
      "text/plain": [
       "XGBRegressor(base_score=None, booster=None, callbacks=None,\n",
       "             colsample_bylevel=None, colsample_bynode=None,\n",
       "             colsample_bytree=None, early_stopping_rounds=None,\n",
       "             enable_categorical=False, eval_metric=None, feature_types=None,\n",
       "             gamma=None, gpu_id=None, grow_policy=None, importance_type=None,\n",
       "             interaction_constraints=None, learning_rate=None, max_bin=None,\n",
       "             max_cat_threshold=None, max_cat_to_onehot=None,\n",
       "             max_delta_step=None, max_depth=None, max_leaves=None,\n",
       "             min_child_weight=None, missing=nan, monotone_constraints=None,\n",
       "             n_estimators=100, n_jobs=None, num_parallel_tree=None,\n",
       "             predictor=None, random_state=None, ...)"
      ]
     },
     "execution_count": 146,
     "metadata": {},
     "output_type": "execute_result"
    }
   ],
   "source": [
    "#training model\n",
    "xbr.fit(xtrain,ytrain)"
   ]
  },
  {
   "cell_type": "code",
   "execution_count": 147,
   "id": "49f9c14a",
   "metadata": {},
   "outputs": [
    {
     "data": {
      "text/plain": [
       "array([ 316.23972,  457.8288 ,  620.7001 ,  232.58722,  482.67236,\n",
       "        541.74554,  676.05804,  639.00867,  499.66626,  291.70776,\n",
       "        213.85492,  491.5614 ,  266.39508, 1257.8187 ,  645.43823,\n",
       "        147.69598,  763.2329 ,  768.86694,  607.6569 , 1527.9047 ,\n",
       "        614.4186 ,  915.94586,  323.4787 ,  697.428  ,  277.41974,\n",
       "        526.4019 ,  208.5723 ,  687.4414 ,  564.42126, 1563.6617 ,\n",
       "        548.81055,  781.6088 ,  277.47473,  974.5052 ,  167.72209,\n",
       "        226.93303,  150.11572,  940.1156 ,  483.80066], dtype=float32)"
      ]
     },
     "execution_count": 147,
     "metadata": {},
     "output_type": "execute_result"
    }
   ],
   "source": [
    "#all data predication\n",
    "xbr.predict(xtest)"
   ]
  },
  {
   "cell_type": "markdown",
   "id": "79770120",
   "metadata": {},
   "source": [
    "# R^2 Score & MSE & MAE"
   ]
  },
  {
   "cell_type": "code",
   "execution_count": 148,
   "id": "6d2d79ec",
   "metadata": {},
   "outputs": [
    {
     "data": {
      "text/plain": [
       "0.9999999918358089"
      ]
     },
     "execution_count": 148,
     "metadata": {},
     "output_type": "execute_result"
    }
   ],
   "source": [
    "xbr.score(xtrain,ytrain)"
   ]
  },
  {
   "cell_type": "code",
   "execution_count": 149,
   "id": "40127dbe",
   "metadata": {},
   "outputs": [
    {
     "data": {
      "text/plain": [
       "0.9533457917190191"
      ]
     },
     "execution_count": 149,
     "metadata": {},
     "output_type": "execute_result"
    }
   ],
   "source": [
    "xbr.score(xtest,ytest)"
   ]
  },
  {
   "cell_type": "code",
   "execution_count": 150,
   "id": "a8a7d7c1",
   "metadata": {},
   "outputs": [
    {
     "data": {
      "text/plain": [
       "0.9533457917190191"
      ]
     },
     "execution_count": 150,
     "metadata": {},
     "output_type": "execute_result"
    }
   ],
   "source": [
    "r2_score(ytest,xbr.predict(xtest))"
   ]
  },
  {
   "cell_type": "code",
   "execution_count": 151,
   "id": "b31df629",
   "metadata": {},
   "outputs": [
    {
     "data": {
      "text/plain": [
       "6593.104128594505"
      ]
     },
     "execution_count": 151,
     "metadata": {},
     "output_type": "execute_result"
    }
   ],
   "source": [
    "mean_squared_error(ytest,xbr.predict(xtest))"
   ]
  },
  {
   "cell_type": "code",
   "execution_count": 152,
   "id": "37db0fc0",
   "metadata": {},
   "outputs": [
    {
     "data": {
      "text/plain": [
       "43.70990052834535"
      ]
     },
     "execution_count": 152,
     "metadata": {},
     "output_type": "execute_result"
    }
   ],
   "source": [
    "mean_absolute_error(ytest,xbr.predict(xtest))"
   ]
  },
  {
   "cell_type": "code",
   "execution_count": null,
   "id": "5503caca",
   "metadata": {},
   "outputs": [],
   "source": []
  },
  {
   "cell_type": "markdown",
   "id": "05ce1284",
   "metadata": {},
   "source": [
    "# Best Machine Learning Model Idetification"
   ]
  },
  {
   "cell_type": "code",
   "execution_count": 153,
   "id": "aba2b3dd",
   "metadata": {},
   "outputs": [],
   "source": [
    "LR = mean_squared_error(ytest,lr.predict(xtest))\n",
    "DT = mean_squared_error(ytest,dtr.predict(xtest))\n",
    "RF= mean_squared_error(ytest,rfr.predict(xtest))\n",
    "SVM =mean_squared_error(ytest,svr.predict(xtest))\n",
    "AB = mean_squared_error(ytest,abr.predict(xtest))\n",
    "GB = mean_squared_error(ytest,gbr.predict(xtest))\n",
    "CATB = mean_squared_error(ytest,cbr.predict(xtest))\n",
    "XB = mean_squared_error(ytest,xbr.predict(xtest))"
   ]
  },
  {
   "cell_type": "code",
   "execution_count": 154,
   "id": "4a12c11a",
   "metadata": {},
   "outputs": [
    {
     "name": "stdout",
     "output_type": "stream",
     "text": [
      "33715.814374500784\n",
      "7993.295384615385\n",
      "13292.515636717962\n",
      "139077.66238804648\n",
      "21049.866389243893\n",
      "8094.041248411536\n",
      "12313.708033396959\n",
      "6593.104128594505\n"
     ]
    }
   ],
   "source": [
    "print(LR)\n",
    "print(DT)\n",
    "print(RF)\n",
    "print(SVM)\n",
    "print(AB)\n",
    "print(GB)\n",
    "print(CATB)\n",
    "print(XB)"
   ]
  },
  {
   "cell_type": "code",
   "execution_count": 155,
   "id": "ed9a5507",
   "metadata": {},
   "outputs": [],
   "source": [
    "MSE_Score = pd.DataFrame({\"Model\":[\"LR\",\"DT\",\"RF\",\"SVM\",\"AB\",\"GB\",\"CATB\",\"XB\"],\"MSE Score\":[LR,DT,RF,SVM,AB,GB,CATB,XB]})"
   ]
  },
  {
   "cell_type": "code",
   "execution_count": 156,
   "id": "19115d2e",
   "metadata": {},
   "outputs": [
    {
     "data": {
      "text/html": [
       "<div>\n",
       "<style scoped>\n",
       "    .dataframe tbody tr th:only-of-type {\n",
       "        vertical-align: middle;\n",
       "    }\n",
       "\n",
       "    .dataframe tbody tr th {\n",
       "        vertical-align: top;\n",
       "    }\n",
       "\n",
       "    .dataframe thead th {\n",
       "        text-align: right;\n",
       "    }\n",
       "</style>\n",
       "<table border=\"1\" class=\"dataframe\">\n",
       "  <thead>\n",
       "    <tr style=\"text-align: right;\">\n",
       "      <th></th>\n",
       "      <th>Model</th>\n",
       "      <th>MSE Score</th>\n",
       "    </tr>\n",
       "  </thead>\n",
       "  <tbody>\n",
       "    <tr>\n",
       "      <th>0</th>\n",
       "      <td>LR</td>\n",
       "      <td>33715.814375</td>\n",
       "    </tr>\n",
       "    <tr>\n",
       "      <th>1</th>\n",
       "      <td>DT</td>\n",
       "      <td>7993.295385</td>\n",
       "    </tr>\n",
       "    <tr>\n",
       "      <th>2</th>\n",
       "      <td>RF</td>\n",
       "      <td>13292.515637</td>\n",
       "    </tr>\n",
       "    <tr>\n",
       "      <th>3</th>\n",
       "      <td>SVM</td>\n",
       "      <td>139077.662388</td>\n",
       "    </tr>\n",
       "    <tr>\n",
       "      <th>4</th>\n",
       "      <td>AB</td>\n",
       "      <td>21049.866389</td>\n",
       "    </tr>\n",
       "    <tr>\n",
       "      <th>5</th>\n",
       "      <td>GB</td>\n",
       "      <td>8094.041248</td>\n",
       "    </tr>\n",
       "    <tr>\n",
       "      <th>6</th>\n",
       "      <td>CATB</td>\n",
       "      <td>12313.708033</td>\n",
       "    </tr>\n",
       "    <tr>\n",
       "      <th>7</th>\n",
       "      <td>XB</td>\n",
       "      <td>6593.104129</td>\n",
       "    </tr>\n",
       "  </tbody>\n",
       "</table>\n",
       "</div>"
      ],
      "text/plain": [
       "  Model      MSE Score\n",
       "0    LR   33715.814375\n",
       "1    DT    7993.295385\n",
       "2    RF   13292.515637\n",
       "3   SVM  139077.662388\n",
       "4    AB   21049.866389\n",
       "5    GB    8094.041248\n",
       "6  CATB   12313.708033\n",
       "7    XB    6593.104129"
      ]
     },
     "execution_count": 156,
     "metadata": {},
     "output_type": "execute_result"
    }
   ],
   "source": [
    "MSE_Score"
   ]
  },
  {
   "cell_type": "code",
   "execution_count": 157,
   "id": "c6fe608b",
   "metadata": {},
   "outputs": [
    {
     "data": {
      "text/plain": [
       "<AxesSubplot:xlabel='Model', ylabel='MSE Score'>"
      ]
     },
     "execution_count": 157,
     "metadata": {},
     "output_type": "execute_result"
    },
    {
     "data": {
      "image/png": "[encoded data removed]",
      "text/plain": [
       "<Figure size 640x480 with 1 Axes>"
      ]
     },
     "metadata": {},
     "output_type": "display_data"
    }
   ],
   "source": [
    "sns.barplot(MSE_Score[\"Model\"],MSE_Score[\"MSE Score\"])"
   ]
  },
  {
   "cell_type": "code",
   "execution_count": 158,
   "id": "2ab27398",
   "metadata": {},
   "outputs": [],
   "source": [
    "LR = r2_score(ytest,lr.predict(xtest))\n",
    "DT = r2_score(ytest,dtr.predict(xtest))\n",
    "RF= r2_score(ytest,rfr.predict(xtest))\n",
    "SVM = r2_score(ytest,svr.predict(xtest))\n",
    "AB = r2_score(ytest,abr.predict(xtest))\n",
    "GB = r2_score(ytest,gbr.predict(xtest))\n",
    "CATB = r2_score(ytest,cbr.predict(xtest))\n",
    "XB = r2_score(ytest,xbr.predict(xtest))"
   ]
  },
  {
   "cell_type": "code",
   "execution_count": 159,
   "id": "d1c86fdc",
   "metadata": {},
   "outputs": [
    {
     "name": "stdout",
     "output_type": "stream",
     "text": [
      "0.761419720436575\n",
      "0.9434377403341956\n",
      "0.9059393297909528\n",
      "0.01585685562847794\n",
      "0.8510466645670958\n",
      "0.9427248411563095\n",
      "0.9128655807497832\n",
      "0.9533457917190191\n"
     ]
    }
   ],
   "source": [
    "print(LR)\n",
    "print(DT)\n",
    "print(RF)\n",
    "print(SVM)\n",
    "print(AB)\n",
    "print(GB)\n",
    "print(CATB)\n",
    "print(XB)"
   ]
  },
  {
   "cell_type": "code",
   "execution_count": 160,
   "id": "af713d34",
   "metadata": {},
   "outputs": [],
   "source": [
    "R2_Score = pd.DataFrame({\"Model\":[\"LR\",\"DT\",\"RF\",\"SVM\",\"AB\",\"GB\",\"CATB\",\"XB\"],\"R^2 Score\":[LR,DT,RF,SVM,AB,GB,CATB,XB]})"
   ]
  },
  {
   "cell_type": "code",
   "execution_count": 161,
   "id": "8403eb0e",
   "metadata": {},
   "outputs": [
    {
     "data": {
      "text/html": [
       "<div>\n",
       "<style scoped>\n",
       "    .dataframe tbody tr th:only-of-type {\n",
       "        vertical-align: middle;\n",
       "    }\n",
       "\n",
       "    .dataframe tbody tr th {\n",
       "        vertical-align: top;\n",
       "    }\n",
       "\n",
       "    .dataframe thead th {\n",
       "        text-align: right;\n",
       "    }\n",
       "</style>\n",
       "<table border=\"1\" class=\"dataframe\">\n",
       "  <thead>\n",
       "    <tr style=\"text-align: right;\">\n",
       "      <th></th>\n",
       "      <th>Model</th>\n",
       "      <th>R^2 Score</th>\n",
       "    </tr>\n",
       "  </thead>\n",
       "  <tbody>\n",
       "    <tr>\n",
       "      <th>0</th>\n",
       "      <td>LR</td>\n",
       "      <td>0.761420</td>\n",
       "    </tr>\n",
       "    <tr>\n",
       "      <th>1</th>\n",
       "      <td>DT</td>\n",
       "      <td>0.943438</td>\n",
       "    </tr>\n",
       "    <tr>\n",
       "      <th>2</th>\n",
       "      <td>RF</td>\n",
       "      <td>0.905939</td>\n",
       "    </tr>\n",
       "    <tr>\n",
       "      <th>3</th>\n",
       "      <td>SVM</td>\n",
       "      <td>0.015857</td>\n",
       "    </tr>\n",
       "    <tr>\n",
       "      <th>4</th>\n",
       "      <td>AB</td>\n",
       "      <td>0.851047</td>\n",
       "    </tr>\n",
       "    <tr>\n",
       "      <th>5</th>\n",
       "      <td>GB</td>\n",
       "      <td>0.942725</td>\n",
       "    </tr>\n",
       "    <tr>\n",
       "      <th>6</th>\n",
       "      <td>CATB</td>\n",
       "      <td>0.912866</td>\n",
       "    </tr>\n",
       "    <tr>\n",
       "      <th>7</th>\n",
       "      <td>XB</td>\n",
       "      <td>0.953346</td>\n",
       "    </tr>\n",
       "  </tbody>\n",
       "</table>\n",
       "</div>"
      ],
      "text/plain": [
       "  Model  R^2 Score\n",
       "0    LR   0.761420\n",
       "1    DT   0.943438\n",
       "2    RF   0.905939\n",
       "3   SVM   0.015857\n",
       "4    AB   0.851047\n",
       "5    GB   0.942725\n",
       "6  CATB   0.912866\n",
       "7    XB   0.953346"
      ]
     },
     "execution_count": 161,
     "metadata": {},
     "output_type": "execute_result"
    }
   ],
   "source": [
    "R2_Score"
   ]
  },
  {
   "cell_type": "code",
   "execution_count": 162,
   "id": "7a324d96",
   "metadata": {},
   "outputs": [
    {
     "data": {
      "text/plain": [
       "<AxesSubplot:xlabel='Model', ylabel='R^2 Score'>"
      ]
     },
     "execution_count": 162,
     "metadata": {},
     "output_type": "execute_result"
    },
    {
     "data": {
      "image/png": "[encoded data removed]",
      "text/plain": [
       "<Figure size 640x480 with 1 Axes>"
      ]
     },
     "metadata": {},
     "output_type": "display_data"
    }
   ],
   "source": [
    "sns.barplot(R2_Score[\"Model\"],R2_Score[\"R^2 Score\"])"
   ]
  },
  {
   "cell_type": "code",
   "execution_count": null,
   "id": "4881f43b",
   "metadata": {},
   "outputs": [],
   "source": []
  },
  {
   "cell_type": "markdown",
   "id": "9e5ca872",
   "metadata": {},
   "source": [
    "# Download Machine Learning Model"
   ]
  },
  {
   "cell_type": "code",
   "execution_count": 163,
   "id": "aa90c3a9",
   "metadata": {},
   "outputs": [],
   "source": [
    "import pickle as pk"
   ]
  },
  {
   "cell_type": "code",
   "execution_count": 164,
   "id": "cd2280a8",
   "metadata": {},
   "outputs": [],
   "source": [
    "pk.dump(dtr,open(\"Pizza_Prize_Prediction\",\"wb\"))"
   ]
  },
  {
   "cell_type": "code",
   "execution_count": null,
   "id": "4d09ce98",
   "metadata": {},
   "outputs": [],
   "source": []
  },
  {
   "cell_type": "code",
   "execution_count": null,
   "id": "78e991de",
   "metadata": {},
   "outputs": [],
   "source": []
  },
  {
   "cell_type": "code",
   "execution_count": 165,
   "id": "63a32028",
   "metadata": {},
   "outputs": [],
   "source": [
    "model = pk.load(open(\"Pizza_Prize_Prediction\",\"rb\"))"
   ]
  },
  {
   "cell_type": "code",
   "execution_count": 166,
   "id": "1ce4cdc7",
   "metadata": {},
   "outputs": [
    {
     "name": "stdout",
     "output_type": "stream",
     "text": [
      "Enter Pizza Company Class 0(A),1(B),2(C),3(D) & 4(E) = 0\n",
      "Enter Pizza Size 8 t0 22 inch = 18\n",
      "Enter Topping 2(chicken),5(mushrooms),4 (mozzarella),9 (smoked beef),10 (tuna),11 (vegetables),3 (meat),1 (black papper),8 (sausage),0 (beef),7 (papperoni) & 6 (onion)  = 4\n",
      "Enter Pizza Variant 4 (classic),13 (meat_lovers),7 (double_mix),5 (crunchy),15 (new_york),6 (double_decker),8 (double_signature),3 (american_favorite),0 (BBQ_meat_fiesta),18 (super_supreme),17 (spicy_tuna),1 (BBQ_sausage),9 (extravaganza),12 (meat_eater),10 (gournet_greek),11 (italian_veggie),19 (thai_veggie),2 (american_classic),14 (neptune_tuna),16 (spicy tuna) = 8\n",
      "Enter Pizza 3 (Size medium),5 (small),2 (large),4 (reguler),1 (jumbo),0 (XL) = 1\n",
      "Enter Pizza Extra Sauce 0 (NO) & 1 (YES) = 1\n",
      "Enter Pizza Extra Cheese 0 (NO) & 1 (YES) = 1\n",
      "Pizza Prize =  [1278.4]\n"
     ]
    }
   ],
   "source": [
    "Company = float(input(\"Enter Pizza Company Class 0(A),1(B),2(C),3(D) & 4(E) = \"))\n",
    "Diameter = float(input(\"Enter Pizza Size 8 t0 22 inch = \"))\n",
    "Topping = float(input(\"Enter Topping 2(chicken),5(mushrooms),4 (mozzarella),9 (smoked beef),10 (tuna),11 (vegetables),3 (meat),1 (black papper),8 (sausage),0 (beef),7 (papperoni) & 6 (onion)  = \"))\n",
    "Variant = float(input(\"Enter Pizza Variant 4 (classic),13 (meat_lovers),7 (double_mix),5 (crunchy),15 (new_york),6 (double_decker),8 (double_signature),3 (american_favorite),0 (BBQ_meat_fiesta),18 (super_supreme),17 (spicy_tuna),1 (BBQ_sausage),9 (extravaganza),12 (meat_eater),10 (gournet_greek),11 (italian_veggie),19 (thai_veggie),2 (american_classic),14 (neptune_tuna),16 (spicy tuna) = \"))\n",
    "Size = float(input(\"Enter Pizza 3 (Size medium),5 (small),2 (large),4 (reguler),1 (jumbo),0 (XL) = \"))\n",
    "Extra_sauce = float(input(\"Enter Pizza Extra Sauce 0 (NO) & 1 (YES) = \"))\n",
    "Extra_cheese = float(input(\"Enter Pizza Extra Cheese 0 (NO) & 1 (YES) = \"))\n",
    "\n",
    "result = model.predict([[Company,Diameter,Topping,Variant,Size,Extra_sauce,Extra_cheese]])\n",
    "\n",
    "print(\"Pizza Prize = \",result)\n"
   ]
  },
  {
   "cell_type": "code",
   "execution_count": null,
   "id": "d895f3fa",
   "metadata": {},
   "outputs": [],
   "source": []
  }
 ],
 "metadata": {
  "kernelspec": {
   "display_name": "Python 3 (ipykernel)",
   "language": "python",
   "name": "python3"
  },
  "language_info": {
   "codemirror_mode": {
    "name": "ipython",
    "version": 3
   },
   "file_extension": ".py",
   "mimetype": "text/x-python",
   "name": "python",
   "nbconvert_exporter": "python",
   "pygments_lexer": "ipython3",
   "version": "3.9.13"
  }
 },
 "nbformat": 4,
 "nbformat_minor": 5
}
